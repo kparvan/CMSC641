{
 "cells": [
  {
   "cell_type": "markdown",
   "metadata": {},
   "source": [
    "# Smart Construction Document Manager (SCDM)\n",
    "\n",
    "\n",
    "## Problem Statement\n",
    "Document management is a crucial need for the construction projects. The project documents produced during the course of the project; from inception and planning through design and construction, are vital to the project success.\n",
    "\n",
    "The documents such as contracts, payment receipts, agreements, approval letters, drawings, meeting minutes and so on which are produced in one stage become critical as the requirement/prerequisite in the next stage of the project. The construction project documents are also considered as the project asset. They are essential for the following tasks during the project lifecyle:\n",
    "\n",
    "- Project activities such as planning, design and construction\n",
    "- Operation and maintenance during the facility's service\n",
    "- Project warranties\n",
    "- Lawsuits\n",
    "\n",
    "\n",
    "## Manual Document Management Challenges\n",
    "\n",
    "The document management for the construction project can be very challenging. An average medium size construction project can produce roughly +4,000 documents.\n",
    "\n",
    "This single task not only consumes a big chunk of time out of the project managers's schedule but also requires rigorous due diligence and vigilance. The project managers needs to 1) download the project files from different sources such as email, flash drives, DVDs, web-based applications, Dropbox, Google drive and so on, 2) organize them, and 3) upload them based on their content to the project document various folders. The following is an example of the construction project file index:\n",
    "\n",
    "<img src = \"construction file index.png\">\n"
   ]
  },
  {
   "cell_type": "markdown",
   "metadata": {},
   "source": [
    "## Project Objective\n",
    "\n",
    "This project aims to create a Classification Model to suggest the destination folder for the uploaded file based on their names and contents. The tool, called SCDM, assists PMs to organize and upload the documents to the project document repository system.\n"
   ]
  },
  {
   "cell_type": "markdown",
   "metadata": {},
   "source": [
    "## Application\n",
    "\n",
    "The recommender system can perform in the same fashion as the Gmail text recommender does. For the inbox emails with attachment, the system can recommend the destination folder when use decides to copy the attachment to their Google drive.\n",
    "\n",
    "<img src = \"application.png\">"
   ]
  },
  {
   "cell_type": "markdown",
   "metadata": {},
   "source": [
    "## Data Collection\n",
    "\n",
    "I picked randomly seven (7) medium to large constructoin projects from the database to which I have access. Here is the list of the projects:\n"
   ]
  },
  {
   "cell_type": "code",
   "execution_count": 57,
   "metadata": {},
   "outputs": [],
   "source": [
    "import os\n",
    "import numpy as np\n",
    "import pandas as pd\n",
    "import matplotlib.pyplot as plt\n",
    "import time"
   ]
  },
  {
   "cell_type": "code",
   "execution_count": 3,
   "metadata": {},
   "outputs": [],
   "source": [
    "import sqlite3\n",
    "conn = sqlite3.connect(\"project_dir.db\")\n",
    "cursor = conn.cursor()"
   ]
  },
  {
   "cell_type": "code",
   "execution_count": 5,
   "metadata": {},
   "outputs": [
    {
     "data": {
      "text/html": [
       "<div>\n",
       "<style scoped>\n",
       "    .dataframe tbody tr th:only-of-type {\n",
       "        vertical-align: middle;\n",
       "    }\n",
       "\n",
       "    .dataframe tbody tr th {\n",
       "        vertical-align: top;\n",
       "    }\n",
       "\n",
       "    .dataframe thead th {\n",
       "        text-align: right;\n",
       "    }\n",
       "</style>\n",
       "<table border=\"1\" class=\"dataframe\">\n",
       "  <thead>\n",
       "    <tr style=\"text-align: right;\">\n",
       "      <th></th>\n",
       "      <th>project_id</th>\n",
       "      <th>doc_size_mb</th>\n",
       "      <th>doc_num</th>\n",
       "      <th>folder_path</th>\n",
       "    </tr>\n",
       "  </thead>\n",
       "  <tbody>\n",
       "    <tr>\n",
       "      <th>0</th>\n",
       "      <td>proj_001</td>\n",
       "      <td>100000.0</td>\n",
       "      <td>26639.0</td>\n",
       "      <td>G:\\My_Projects\\SmartCDM\\A_James_Clark</td>\n",
       "    </tr>\n",
       "    <tr>\n",
       "      <th>1</th>\n",
       "      <td>proj_002</td>\n",
       "      <td>6110.0</td>\n",
       "      <td>2560.0</td>\n",
       "      <td>G:\\My_Projects\\SmartCDM\\CAMBRIDGE_HALL_RENOVATION</td>\n",
       "    </tr>\n",
       "    <tr>\n",
       "      <th>2</th>\n",
       "      <td>proj_003</td>\n",
       "      <td>72200.0</td>\n",
       "      <td>34996.0</td>\n",
       "      <td>G:\\My_Projects\\SmartCDM\\EDWARD_ST_JOHN</td>\n",
       "    </tr>\n",
       "    <tr>\n",
       "      <th>3</th>\n",
       "      <td>proj_004</td>\n",
       "      <td>21200.0</td>\n",
       "      <td>14547.0</td>\n",
       "      <td>G:\\My_Projects\\SmartCDM\\FSU_CCIT</td>\n",
       "    </tr>\n",
       "    <tr>\n",
       "      <th>4</th>\n",
       "      <td>proj_005</td>\n",
       "      <td>74600.0</td>\n",
       "      <td>66428.0</td>\n",
       "      <td>G:\\My_Projects\\SmartCDM\\PHYSICAL_SCIENCES</td>\n",
       "    </tr>\n",
       "    <tr>\n",
       "      <th>5</th>\n",
       "      <td>proj_006</td>\n",
       "      <td>17300.0</td>\n",
       "      <td>10031.0</td>\n",
       "      <td>G:\\My_Projects\\SmartCDM\\PRINCE_FREDERICK_HALL</td>\n",
       "    </tr>\n",
       "    <tr>\n",
       "      <th>6</th>\n",
       "      <td>proj_007</td>\n",
       "      <td>14600.0</td>\n",
       "      <td>8367.0</td>\n",
       "      <td>G:\\My_Projects\\SmartCDM\\STUDENT_CENTER</td>\n",
       "    </tr>\n",
       "  </tbody>\n",
       "</table>\n",
       "</div>"
      ],
      "text/plain": [
       "  project_id  doc_size_mb  doc_num  \\\n",
       "0   proj_001     100000.0  26639.0   \n",
       "1   proj_002       6110.0   2560.0   \n",
       "2   proj_003      72200.0  34996.0   \n",
       "3   proj_004      21200.0  14547.0   \n",
       "4   proj_005      74600.0  66428.0   \n",
       "5   proj_006      17300.0  10031.0   \n",
       "6   proj_007      14600.0   8367.0   \n",
       "\n",
       "                                         folder_path  \n",
       "0              G:\\My_Projects\\SmartCDM\\A_James_Clark  \n",
       "1  G:\\My_Projects\\SmartCDM\\CAMBRIDGE_HALL_RENOVATION  \n",
       "2             G:\\My_Projects\\SmartCDM\\EDWARD_ST_JOHN  \n",
       "3                   G:\\My_Projects\\SmartCDM\\FSU_CCIT  \n",
       "4          G:\\My_Projects\\SmartCDM\\PHYSICAL_SCIENCES  \n",
       "5      G:\\My_Projects\\SmartCDM\\PRINCE_FREDERICK_HALL  \n",
       "6             G:\\My_Projects\\SmartCDM\\STUDENT_CENTER  "
      ]
     },
     "execution_count": 5,
     "metadata": {},
     "output_type": "execute_result"
    }
   ],
   "source": [
    "sql = \"SELECT project_id,doc_size_mb,doc_num,folder_path FROM project limit 7\"\n",
    "\n",
    "proj_df = pd.read_sql(sql, conn)\n",
    "proj_df"
   ]
  },
  {
   "cell_type": "markdown",
   "metadata": {},
   "source": [
    "## Raw data prepration\n",
    "\n",
    "The raw data was retrieved by the following two steps:\n",
    "\n",
    "### Step1) Creating the list of the project files\n",
    "I developed a code to create the list of all the project files and I stored the file name, extension, size (bytes), destination path and the date last modified."
   ]
  },
  {
   "cell_type": "code",
   "execution_count": 4,
   "metadata": {},
   "outputs": [
    {
     "data": {
      "text/html": [
       "<div>\n",
       "<style scoped>\n",
       "    .dataframe tbody tr th:only-of-type {\n",
       "        vertical-align: middle;\n",
       "    }\n",
       "\n",
       "    .dataframe tbody tr th {\n",
       "        vertical-align: top;\n",
       "    }\n",
       "\n",
       "    .dataframe thead th {\n",
       "        text-align: right;\n",
       "    }\n",
       "</style>\n",
       "<table border=\"1\" class=\"dataframe\">\n",
       "  <thead>\n",
       "    <tr style=\"text-align: right;\">\n",
       "      <th></th>\n",
       "      <th>project_id</th>\n",
       "      <th>file_path</th>\n",
       "      <th>date_updated</th>\n",
       "      <th>size</th>\n",
       "      <th>file_name</th>\n",
       "      <th>file_ext</th>\n",
       "    </tr>\n",
       "  </thead>\n",
       "  <tbody>\n",
       "    <tr>\n",
       "      <th>151764</th>\n",
       "      <td>proj_006</td>\n",
       "      <td>F.02 Requests for Information\\F.02.02 RFIs</td>\n",
       "      <td>05/22/2014  03:52 PM</td>\n",
       "      <td>16485</td>\n",
       "      <td>RFI-00336.0-AHU-3_and_5_Reheat.htm</td>\n",
       "      <td>htm</td>\n",
       "    </tr>\n",
       "    <tr>\n",
       "      <th>71042</th>\n",
       "      <td>proj_004</td>\n",
       "      <td>F.01 Construction Administration\\F.01.01 Const...</td>\n",
       "      <td>06/20/2013  04:24 PM</td>\n",
       "      <td>529843</td>\n",
       "      <td>11 E105 MEDIUM VOLTAGE SITE PLAN - NEW WORK - ...</td>\n",
       "      <td>dwf</td>\n",
       "    </tr>\n",
       "    <tr>\n",
       "      <th>121838</th>\n",
       "      <td>proj_005</td>\n",
       "      <td>F.05 Photos\\2012\\2012.12\\121218 PSC Site Photos</td>\n",
       "      <td>06/20/2013  04:50 PM</td>\n",
       "      <td>2240385</td>\n",
       "      <td>DSCN5363.JPG</td>\n",
       "      <td>JPG</td>\n",
       "    </tr>\n",
       "    <tr>\n",
       "      <th>128803</th>\n",
       "      <td>proj_005</td>\n",
       "      <td>F.05 Photos\\Webcam\\20101031</td>\n",
       "      <td>12/17/2013  09:59 AM</td>\n",
       "      <td>591368</td>\n",
       "      <td>1288541206.jpg</td>\n",
       "      <td>jpg</td>\n",
       "    </tr>\n",
       "    <tr>\n",
       "      <th>72481</th>\n",
       "      <td>proj_004</td>\n",
       "      <td>F.01 Construction Administration\\F.01.01 Const...</td>\n",
       "      <td>06/20/2013  05:25 PM</td>\n",
       "      <td>24432</td>\n",
       "      <td>07 1326 - SELF-ADHERING SHEET WATERPROOFING.pdf</td>\n",
       "      <td>pdf</td>\n",
       "    </tr>\n",
       "    <tr>\n",
       "      <th>158607</th>\n",
       "      <td>proj_007</td>\n",
       "      <td>F.01 Construction Administration\\F.01.01 Const...</td>\n",
       "      <td>07/02/2013  04:57 PM</td>\n",
       "      <td>46072</td>\n",
       "      <td>260526 Ground and Bond.pdf</td>\n",
       "      <td>pdf</td>\n",
       "    </tr>\n",
       "    <tr>\n",
       "      <th>49810</th>\n",
       "      <td>proj_003</td>\n",
       "      <td>F.01 Construction Administration\\F.01.02 Archi...</td>\n",
       "      <td>03/09/2015  09:18 AM</td>\n",
       "      <td>11657216</td>\n",
       "      <td>ESJ_LTC_MOCKUP - VE.rvt</td>\n",
       "      <td>rvt</td>\n",
       "    </tr>\n",
       "  </tbody>\n",
       "</table>\n",
       "</div>"
      ],
      "text/plain": [
       "       project_id                                          file_path  \\\n",
       "151764   proj_006         F.02 Requests for Information\\F.02.02 RFIs   \n",
       "71042    proj_004  F.01 Construction Administration\\F.01.01 Const...   \n",
       "121838   proj_005    F.05 Photos\\2012\\2012.12\\121218 PSC Site Photos   \n",
       "128803   proj_005                        F.05 Photos\\Webcam\\20101031   \n",
       "72481    proj_004  F.01 Construction Administration\\F.01.01 Const...   \n",
       "158607   proj_007  F.01 Construction Administration\\F.01.01 Const...   \n",
       "49810    proj_003  F.01 Construction Administration\\F.01.02 Archi...   \n",
       "\n",
       "                date_updated      size  \\\n",
       "151764  05/22/2014  03:52 PM     16485   \n",
       "71042   06/20/2013  04:24 PM    529843   \n",
       "121838  06/20/2013  04:50 PM   2240385   \n",
       "128803  12/17/2013  09:59 AM    591368   \n",
       "72481   06/20/2013  05:25 PM     24432   \n",
       "158607  07/02/2013  04:57 PM     46072   \n",
       "49810   03/09/2015  09:18 AM  11657216   \n",
       "\n",
       "                                                file_name file_ext  \n",
       "151764                 RFI-00336.0-AHU-3_and_5_Reheat.htm      htm  \n",
       "71042   11 E105 MEDIUM VOLTAGE SITE PLAN - NEW WORK - ...      dwf  \n",
       "121838                                       DSCN5363.JPG      JPG  \n",
       "128803                                     1288541206.jpg      jpg  \n",
       "72481     07 1326 - SELF-ADHERING SHEET WATERPROOFING.pdf      pdf  \n",
       "158607                         260526 Ground and Bond.pdf      pdf  \n",
       "49810                             ESJ_LTC_MOCKUP - VE.rvt      rvt  "
      ]
     },
     "execution_count": 4,
     "metadata": {},
     "output_type": "execute_result"
    }
   ],
   "source": [
    "sql = \"SELECT {0} FROM {1}\".format(\"[project_file].*\", \"[project_file]\")\n",
    "\n",
    "proj_dir_df = pd.read_sql(sql, conn)\n",
    "proj_dir_df.sample(7)"
   ]
  },
  {
   "cell_type": "markdown",
   "metadata": {},
   "source": [
    "Those seven (7) projects include __164,031__ files with size of __329.6GB__."
   ]
  },
  {
   "cell_type": "code",
   "execution_count": 10,
   "metadata": {},
   "outputs": [
    {
     "name": "stdout",
     "output_type": "stream",
     "text": [
      "The total number of the files in the data sample = 164031\n",
      "The total size of the files in the data sample = 329596595085\n"
     ]
    }
   ],
   "source": [
    "print(\"The total number of the files in the data sample = {}\".format(len(proj_dir_df)))\n",
    "\n",
    "print(\"The total size of the files in the data sample = {}\".format(proj_dir_df['size'].sum(axis=0)))"
   ]
  },
  {
   "cell_type": "markdown",
   "metadata": {},
   "source": [
    "Here is also some statistics regarding the project files gathered in the dataset:"
   ]
  },
  {
   "cell_type": "code",
   "execution_count": 12,
   "metadata": {},
   "outputs": [],
   "source": [
    "dir_sum_df = proj_dir_df.groupby('file_ext').agg({'file_name':'count', 'size':'sum'}).reset_index()"
   ]
  },
  {
   "cell_type": "code",
   "execution_count": 21,
   "metadata": {},
   "outputs": [
    {
     "data": {
      "text/html": [
       "<div>\n",
       "<style scoped>\n",
       "    .dataframe tbody tr th:only-of-type {\n",
       "        vertical-align: middle;\n",
       "    }\n",
       "\n",
       "    .dataframe tbody tr th {\n",
       "        vertical-align: top;\n",
       "    }\n",
       "\n",
       "    .dataframe thead th {\n",
       "        text-align: right;\n",
       "    }\n",
       "</style>\n",
       "<table border=\"1\" class=\"dataframe\">\n",
       "  <thead>\n",
       "    <tr style=\"text-align: right;\">\n",
       "      <th></th>\n",
       "      <th>file_name</th>\n",
       "      <th>size</th>\n",
       "    </tr>\n",
       "    <tr>\n",
       "      <th>file_ext</th>\n",
       "      <th></th>\n",
       "      <th></th>\n",
       "    </tr>\n",
       "  </thead>\n",
       "  <tbody>\n",
       "    <tr>\n",
       "      <th>pdf</th>\n",
       "      <td>87782</td>\n",
       "      <td>169410773200</td>\n",
       "    </tr>\n",
       "    <tr>\n",
       "      <th>JPG</th>\n",
       "      <td>28192</td>\n",
       "      <td>40240385583</td>\n",
       "    </tr>\n",
       "    <tr>\n",
       "      <th>jpg</th>\n",
       "      <td>23528</td>\n",
       "      <td>19521888116</td>\n",
       "    </tr>\n",
       "    <tr>\n",
       "      <th>dwg</th>\n",
       "      <td>5501</td>\n",
       "      <td>7544164019</td>\n",
       "    </tr>\n",
       "    <tr>\n",
       "      <th>msg</th>\n",
       "      <td>4413</td>\n",
       "      <td>2457363968</td>\n",
       "    </tr>\n",
       "    <tr>\n",
       "      <th>doc</th>\n",
       "      <td>3404</td>\n",
       "      <td>398429571</td>\n",
       "    </tr>\n",
       "    <tr>\n",
       "      <th>zip</th>\n",
       "      <td>1951</td>\n",
       "      <td>14468381327</td>\n",
       "    </tr>\n",
       "    <tr>\n",
       "      <th>docx</th>\n",
       "      <td>1660</td>\n",
       "      <td>251471357</td>\n",
       "    </tr>\n",
       "    <tr>\n",
       "      <th>xls</th>\n",
       "      <td>1206</td>\n",
       "      <td>240457136</td>\n",
       "    </tr>\n",
       "    <tr>\n",
       "      <th>WMF</th>\n",
       "      <td>990</td>\n",
       "      <td>33032022</td>\n",
       "    </tr>\n",
       "    <tr>\n",
       "      <th>xlsx</th>\n",
       "      <td>696</td>\n",
       "      <td>82372101</td>\n",
       "    </tr>\n",
       "    <tr>\n",
       "      <th>htm</th>\n",
       "      <td>661</td>\n",
       "      <td>10140895</td>\n",
       "    </tr>\n",
       "    <tr>\n",
       "      <th>PDF</th>\n",
       "      <td>583</td>\n",
       "      <td>971832487</td>\n",
       "    </tr>\n",
       "    <tr>\n",
       "      <th>dwfx</th>\n",
       "      <td>361</td>\n",
       "      <td>428626617</td>\n",
       "    </tr>\n",
       "    <tr>\n",
       "      <th>html</th>\n",
       "      <td>297</td>\n",
       "      <td>31668639</td>\n",
       "    </tr>\n",
       "    <tr>\n",
       "      <th>tif</th>\n",
       "      <td>259</td>\n",
       "      <td>766874725</td>\n",
       "    </tr>\n",
       "    <tr>\n",
       "      <th>rvt</th>\n",
       "      <td>241</td>\n",
       "      <td>18571689984</td>\n",
       "    </tr>\n",
       "    <tr>\n",
       "      <th>dwf</th>\n",
       "      <td>234</td>\n",
       "      <td>140875474</td>\n",
       "    </tr>\n",
       "    <tr>\n",
       "      <th>TIF</th>\n",
       "      <td>142</td>\n",
       "      <td>338158330</td>\n",
       "    </tr>\n",
       "    <tr>\n",
       "      <th>txt</th>\n",
       "      <td>113</td>\n",
       "      <td>1873707</td>\n",
       "    </tr>\n",
       "  </tbody>\n",
       "</table>\n",
       "</div>"
      ],
      "text/plain": [
       "          file_name          size\n",
       "file_ext                         \n",
       "pdf           87782  169410773200\n",
       "JPG           28192   40240385583\n",
       "jpg           23528   19521888116\n",
       "dwg            5501    7544164019\n",
       "msg            4413    2457363968\n",
       "doc            3404     398429571\n",
       "zip            1951   14468381327\n",
       "docx           1660     251471357\n",
       "xls            1206     240457136\n",
       "WMF             990      33032022\n",
       "xlsx            696      82372101\n",
       "htm             661      10140895\n",
       "PDF             583     971832487\n",
       "dwfx            361     428626617\n",
       "html            297      31668639\n",
       "tif             259     766874725\n",
       "rvt             241   18571689984\n",
       "dwf             234     140875474\n",
       "TIF             142     338158330\n",
       "txt             113       1873707"
      ]
     },
     "execution_count": 21,
     "metadata": {},
     "output_type": "execute_result"
    }
   ],
   "source": [
    "dir_plt_df = dir_sum_df.sort_values(['file_name'], ascending=False).head(20).set_index('file_ext')\n",
    "dir_plt_df"
   ]
  },
  {
   "cell_type": "code",
   "execution_count": 26,
   "metadata": {},
   "outputs": [
    {
     "data": {
      "text/plain": [
       "<matplotlib.axes._subplots.AxesSubplot at 0xe071c50>"
      ]
     },
     "execution_count": 26,
     "metadata": {},
     "output_type": "execute_result"
    },
    {
     "data": {
      "image/png": "[encoded data removed]",
      "text/plain": [
       "<Figure size 432x288 with 2 Axes>"
      ]
     },
     "metadata": {},
     "output_type": "display_data"
    }
   ],
   "source": [
    "dir_plt_df['file_name'].plot()\n",
    "dir_plt_df['size'].plot(kind='bar',secondary_y=True)"
   ]
  },
  {
   "cell_type": "markdown",
   "metadata": {},
   "source": [
    "## Select features\n",
    "\n",
    "Since the conversion of the PDF file contents to Text was very time comsuming, I decided not to use the file contents as the feature to build the classification model.\n",
    "\n",
    "I use only two features: 1)file_name, and 2)size as the independent variables (X). For the dependent variable (y), I use the first 4 charactors of the file_path as the label for the file folders."
   ]
  },
  {
   "cell_type": "code",
   "execution_count": 5,
   "metadata": {},
   "outputs": [
    {
     "data": {
      "text/plain": [
       "F.05    46454\n",
       "F.01    26612\n",
       "C.02    21465\n",
       "F.03    18321\n",
       "D.02    17388\n",
       "F.02     8785\n",
       "F.06     7912\n",
       "D.01     3985\n",
       "F.04     3263\n",
       "A.01     3161\n",
       "C.01     2220\n",
       "E.01     2101\n",
       "B.01      931\n",
       "C.03      744\n",
       "Ex_F      463\n",
       "Z.01      209\n",
       "G:\\M        9\n",
       "F.07        8\n",
       "Name: doc_label, dtype: int64"
      ]
     },
     "execution_count": 5,
     "metadata": {},
     "output_type": "execute_result"
    }
   ],
   "source": [
    "proj_dir_df['doc_label'] = proj_dir_df['file_path'].apply(lambda x: x[:4])\n",
    "\n",
    "proj_dir_df['doc_label'].value_counts()"
   ]
  },
  {
   "cell_type": "markdown",
   "metadata": {},
   "source": [
    "## Cleaning up\n",
    "\n",
    "The records with the \"G:\\M\" and \"Ex_F\" values are removed form the dataset."
   ]
  },
  {
   "cell_type": "code",
   "execution_count": 8,
   "metadata": {},
   "outputs": [
    {
     "data": {
      "text/plain": [
       "F.05    46454\n",
       "F.01    26612\n",
       "C.02    21465\n",
       "F.03    18321\n",
       "D.02    17388\n",
       "F.02     8785\n",
       "F.06     7912\n",
       "D.01     3985\n",
       "F.04     3263\n",
       "A.01     3161\n",
       "C.01     2220\n",
       "E.01     2101\n",
       "B.01      931\n",
       "C.03      744\n",
       "Z.01      209\n",
       "F.07        8\n",
       "Name: doc_label, dtype: int64"
      ]
     },
     "execution_count": 8,
     "metadata": {},
     "output_type": "execute_result"
    }
   ],
   "source": [
    "proj_dir_df = proj_dir_df[proj_dir_df['doc_label'] != \"G:\\M\"]\n",
    "proj_dir_df = proj_dir_df[proj_dir_df['doc_label'] != \"Ex_F\"]\n",
    "proj_dir_df['doc_label'].value_counts()\n"
   ]
  },
  {
   "cell_type": "code",
   "execution_count": 19,
   "metadata": {},
   "outputs": [],
   "source": [
    "data_df = proj_dir_df[['file_name','size','doc_label']]"
   ]
  },
  {
   "cell_type": "markdown",
   "metadata": {},
   "source": [
    "## Split data to train and test datasets"
   ]
  },
  {
   "cell_type": "code",
   "execution_count": 21,
   "metadata": {},
   "outputs": [],
   "source": [
    "from sklearn.model_selection import StratifiedShuffleSplit\n",
    "sss = StratifiedShuffleSplit(n_splits=10, test_size=.5, random_state = 0)\n",
    "\n",
    "for train_index, test_index in sss.split(data_df[['file_name','size']],data_df[['doc_label']]):\n",
    "    train_set = data_df.iloc[train_index]\n",
    "    test_set = data_df.iloc[test_index]\n",
    "    \n",
    "\n",
    " # Save train and test sets for future use\n",
    "path = './data/'\n",
    "\n",
    "file = \"train_set.csv\"\n",
    "train_set.to_csv(path + file, index=False)   \n",
    "\n",
    "file = \"test_set.csv\"\n",
    "test_set.to_csv(path + file, index=False) "
   ]
  },
  {
   "cell_type": "code",
   "execution_count": 22,
   "metadata": {},
   "outputs": [
    {
     "data": {
      "text/plain": [
       "(102332, 27560)"
      ]
     },
     "execution_count": 22,
     "metadata": {},
     "output_type": "execute_result"
    }
   ],
   "source": [
    "len(train_set), len(test_set)"
   ]
  },
  {
   "cell_type": "markdown",
   "metadata": {},
   "source": [
    "# Latent Dirichlet Allocation (LDA)\n",
    "\n",
    "The LDA techniques which is one of the Probabilistic inference algorithm for the topic modeling is used to numericalize the file_name field. The LDA method estimates the probability distribution of the file_name over the predefined set of topics. So after model fitting, the list of file_names can be transformed to a list prabability values which can then be used for classification models."
   ]
  },
  {
   "cell_type": "code",
   "execution_count": 25,
   "metadata": {},
   "outputs": [],
   "source": [
    "docs_raw = train_set['file_name'].tolist()"
   ]
  },
  {
   "cell_type": "code",
   "execution_count": 26,
   "metadata": {},
   "outputs": [],
   "source": [
    "#import graphlab as gl\n",
    "import pyLDAvis\n",
    "import pyLDAvis.sklearn\n",
    "#import pyLDAvis.graphlab\n",
    "\n",
    "pyLDAvis.enable_notebook()"
   ]
  },
  {
   "cell_type": "code",
   "execution_count": 27,
   "metadata": {},
   "outputs": [],
   "source": [
    "from sklearn.datasets import fetch_20newsgroups\n",
    "from sklearn.feature_extraction.text import CountVectorizer\n",
    "from sklearn.decomposition import LatentDirichletAllocation"
   ]
  },
  {
   "cell_type": "code",
   "execution_count": 28,
   "metadata": {},
   "outputs": [
    {
     "name": "stdout",
     "output_type": "stream",
     "text": [
      "(102332, 1826)\n"
     ]
    }
   ],
   "source": [
    "term_freq_vectorizer = CountVectorizer(strip_accents = 'unicode',\n",
    "                                      stop_words = 'english',\n",
    "                                      lowercase = True,\n",
    "                                      token_pattern = r'\\b[a-zA-Z]{3,}\\b',\n",
    "                                      max_df = 0.5,\n",
    "                                      min_df = 10)\n",
    "\n",
    "dtm_tf = term_freq_vectorizer.fit_transform(docs_raw)\n",
    "print(dtm_tf.shape)"
   ]
  },
  {
   "cell_type": "code",
   "execution_count": 29,
   "metadata": {},
   "outputs": [
    {
     "name": "stderr",
     "output_type": "stream",
     "text": [
      "D:\\Anaconda3\\lib\\site-packages\\sklearn\\decomposition\\online_lda.py:536: DeprecationWarning: The default value for 'learning_method' will be changed from 'online' to 'batch' in the release 0.20. This warning was introduced in 0.18.\n",
      "  DeprecationWarning)\n"
     ]
    },
    {
     "name": "stdout",
     "output_type": "stream",
     "text": [
      "(32, 1826)\n"
     ]
    }
   ],
   "source": [
    "lda_tf = LatentDirichletAllocation(n_components=32, random_state=0)\n",
    "lda_tf.fit(dtm_tf)\n",
    "\n",
    "print(lda_tf.components_.shape)"
   ]
  },
  {
   "cell_type": "code",
   "execution_count": 30,
   "metadata": {},
   "outputs": [
    {
     "name": "stderr",
     "output_type": "stream",
     "text": [
      "D:\\Anaconda3\\lib\\site-packages\\pyLDAvis\\_prepare.py:257: FutureWarning: Sorting because non-concatenation axis is not aligned. A future version\n",
      "of pandas will change to not sort by default.\n",
      "\n",
      "To accept the future behavior, pass 'sort=True'.\n",
      "\n",
      "To retain the current behavior and silence the warning, pass sort=False\n",
      "\n",
      "  return pd.concat([default_term_info] + list(topic_dfs))\n"
     ]
    },
    {
     "data": {
      "text/html": [
       "\n",
       "<link rel=\"stylesheet\" type=\"text/css\" href=\"https://cdn.rawgit.com/bmabey/pyLDAvis/files/ldavis.v1.0.0.css\">\n",
       "\n",
       "\n",
       "<div id=\"ldavis_el90242390308961617737985\"></div>\n",
       "<script type=\"text/javascript\">\n",
       "\n",
       "var ldavis_el90242390308961617737985_data = {\"mdsDat\": {\"x\": [0.2929030987165721, -0.1305440437531529, -0.2772740371279073, -0.15805925031123377, -0.12047214745744855, -0.06454331324632323, -0.143632464152537, -0.16219709995123952, 0.18485694486194598, -0.13560718002067176, -0.1938127559418376, -0.04571313271175548, 0.18933791848687417, -0.13949938539278825, -0.12354973614399091, -0.09124259576553442, -0.110663997215258, -0.159361711837019, -0.15098463544017585, -0.1791997530666092, -0.15138044258452552, -0.19122188395975187, 0.28604129980174897, 0.18953734004578088, 0.1892454283051335, 0.18966489726846825, 0.18993530942166664, 0.18972685792459698, 0.1895783153620684, 0.18957987503673912, 0.1896888549941006, 0.2588634258540656], \"y\": [0.3638820328624391, 0.009335858617209532, 0.0463999788738946, 0.020042167612383515, 0.008662237625388362, -0.01166319743796193, 0.014909480436043994, 0.02012632692808971, -0.1274778547994277, 0.010787758503250299, 0.02728236763579907, -0.05051358653609873, -0.10974232134371326, 0.012762956494413922, 0.0071316527463458285, -0.005420219737442062, 0.003160162334566986, 0.017496082477477904, 0.015567371399099727, 0.02256980203658504, 0.01479641830077249, 0.025500652646714896, 0.33647843614825695, -0.11065984798285768, -0.1099318221196769, -0.11134195157812443, -0.11160154069464943, -0.11152801430003387, -0.11167586289740981, -0.11186215440642447, -0.11241175053593791, 0.21893838069102464], \"topics\": [1, 2, 3, 4, 5, 6, 7, 8, 9, 10, 11, 12, 13, 14, 15, 16, 17, 18, 19, 20, 21, 22, 23, 24, 25, 26, 27, 28, 29, 30, 31, 32], \"cluster\": [1, 1, 1, 1, 1, 1, 1, 1, 1, 1, 1, 1, 1, 1, 1, 1, 1, 1, 1, 1, 1, 1, 1, 1, 1, 1, 1, 1, 1, 1, 1, 1], \"Freq\": [10.652722427631122, 6.497028050135212, 6.15809044732453, 4.467867425893596, 4.2823023297830565, 3.844497994690921, 3.80798605130266, 3.7362390705414974, 3.4425330077404115, 3.111720119402448, 2.773320802491561, 2.7486036592207235, 2.6421532203870695, 2.6025121114214107, 2.5510764380523345, 2.5408051369791025, 2.4800000559200717, 2.4371454055455355, 2.431245791376282, 2.4130467727221694, 2.355634137252511, 2.339665816467713, 2.2962561505903563, 2.2189266853376863, 2.1787376609596323, 2.057503710901267, 2.0037738205242324, 1.943662506748581, 1.894440401188677, 1.7711411953270455, 1.6926939030462849, 1.6266676930942987]}, \"tinfo\": {\"Category\": [\"Default\", \"Default\", \"Default\", \"Default\", \"Default\", \"Default\", \"Default\", \"Default\", \"Default\", \"Default\", \"Default\", \"Default\", \"Default\", \"Default\", \"Default\", \"Default\", \"Default\", \"Default\", \"Default\", \"Default\", \"Default\", \"Default\", \"Default\", \"Default\", \"Default\", \"Default\", \"Default\", \"Default\", \"Default\", \"Default\", \"Topic1\", \"Topic1\", \"Topic1\", \"Topic1\", \"Topic1\", \"Topic1\", \"Topic1\", \"Topic1\", \"Topic1\", \"Topic1\", \"Topic1\", \"Topic1\", \"Topic1\", \"Topic1\", \"Topic1\", \"Topic1\", \"Topic1\", \"Topic1\", \"Topic1\", \"Topic1\", \"Topic1\", \"Topic1\", \"Topic1\", \"Topic1\", \"Topic1\", \"Topic1\", \"Topic1\", \"Topic1\", \"Topic1\", \"Topic1\", \"Topic1\", \"Topic1\", \"Topic1\", \"Topic1\", \"Topic1\", \"Topic1\", \"Topic1\", \"Topic1\", \"Topic1\", \"Topic1\", \"Topic1\", \"Topic1\", \"Topic1\", \"Topic1\", \"Topic1\", \"Topic1\", \"Topic1\", \"Topic1\", \"Topic1\", \"Topic1\", \"Topic1\", \"Topic2\", \"Topic2\", \"Topic2\", \"Topic2\", \"Topic2\", \"Topic2\", \"Topic2\", \"Topic2\", \"Topic2\", \"Topic2\", \"Topic2\", \"Topic2\", \"Topic2\", \"Topic2\", \"Topic2\", \"Topic2\", \"Topic2\", \"Topic2\", \"Topic2\", \"Topic2\", \"Topic2\", \"Topic2\", \"Topic2\", \"Topic2\", \"Topic2\", \"Topic2\", \"Topic2\", \"Topic2\", \"Topic2\", \"Topic2\", \"Topic2\", \"Topic2\", \"Topic2\", \"Topic2\", \"Topic2\", \"Topic3\", \"Topic3\", \"Topic3\", \"Topic3\", \"Topic3\", \"Topic3\", \"Topic3\", \"Topic3\", \"Topic3\", \"Topic3\", \"Topic3\", \"Topic3\", \"Topic3\", \"Topic3\", \"Topic3\", \"Topic3\", \"Topic3\", \"Topic3\", \"Topic3\", \"Topic3\", \"Topic3\", \"Topic3\", \"Topic3\", \"Topic3\", \"Topic3\", \"Topic3\", \"Topic3\", \"Topic3\", \"Topic3\", \"Topic3\", \"Topic3\", \"Topic4\", \"Topic4\", \"Topic4\", \"Topic4\", \"Topic4\", \"Topic4\", \"Topic4\", \"Topic4\", \"Topic4\", \"Topic4\", \"Topic4\", \"Topic4\", \"Topic4\", \"Topic4\", \"Topic4\", \"Topic4\", \"Topic4\", \"Topic4\", \"Topic4\", \"Topic4\", \"Topic4\", \"Topic4\", \"Topic4\", \"Topic4\", \"Topic4\", \"Topic4\", \"Topic4\", \"Topic4\", \"Topic4\", \"Topic4\", \"Topic4\", \"Topic5\", \"Topic5\", \"Topic5\", \"Topic5\", \"Topic5\", \"Topic5\", \"Topic5\", \"Topic5\", \"Topic5\", \"Topic5\", \"Topic5\", \"Topic5\", \"Topic5\", \"Topic5\", \"Topic5\", \"Topic5\", \"Topic5\", \"Topic5\", \"Topic5\", \"Topic5\", \"Topic5\", \"Topic5\", \"Topic5\", \"Topic5\", \"Topic5\", \"Topic5\", \"Topic5\", \"Topic5\", \"Topic5\", \"Topic5\", \"Topic5\", \"Topic6\", \"Topic6\", \"Topic6\", \"Topic6\", \"Topic6\", \"Topic6\", \"Topic6\", \"Topic6\", \"Topic6\", \"Topic6\", \"Topic6\", \"Topic6\", \"Topic6\", \"Topic6\", \"Topic6\", \"Topic6\", \"Topic6\", \"Topic6\", \"Topic6\", \"Topic6\", \"Topic6\", \"Topic6\", \"Topic6\", \"Topic6\", \"Topic6\", \"Topic6\", \"Topic6\", \"Topic6\", \"Topic6\", \"Topic6\", \"Topic6\", \"Topic6\", \"Topic7\", \"Topic7\", \"Topic7\", \"Topic7\", \"Topic7\", \"Topic7\", \"Topic7\", \"Topic7\", \"Topic7\", \"Topic7\", \"Topic7\", \"Topic7\", \"Topic7\", \"Topic7\", \"Topic7\", \"Topic7\", \"Topic7\", \"Topic7\", \"Topic7\", \"Topic7\", \"Topic7\", \"Topic7\", \"Topic7\", \"Topic7\", \"Topic7\", \"Topic7\", \"Topic7\", \"Topic7\", \"Topic7\", \"Topic7\", \"Topic7\", \"Topic8\", \"Topic8\", \"Topic8\", \"Topic8\", \"Topic8\", \"Topic8\", \"Topic8\", \"Topic8\", \"Topic8\", \"Topic8\", \"Topic8\", \"Topic8\", \"Topic8\", \"Topic8\", \"Topic8\", \"Topic8\", \"Topic8\", \"Topic8\", \"Topic8\", \"Topic8\", \"Topic8\", \"Topic8\", \"Topic8\", \"Topic8\", \"Topic8\", \"Topic8\", \"Topic8\", \"Topic8\", \"Topic8\", \"Topic8\", \"Topic8\", \"Topic9\", \"Topic9\", \"Topic9\", \"Topic9\", \"Topic9\", \"Topic9\", \"Topic9\", \"Topic9\", \"Topic9\", \"Topic9\", \"Topic9\", \"Topic9\", \"Topic9\", \"Topic9\", \"Topic9\", \"Topic9\", \"Topic9\", \"Topic9\", \"Topic9\", \"Topic9\", \"Topic9\", \"Topic9\", \"Topic9\", \"Topic9\", \"Topic9\", \"Topic9\", \"Topic9\", \"Topic9\", \"Topic9\", \"Topic9\", \"Topic9\", \"Topic9\", \"Topic10\", \"Topic10\", \"Topic10\", \"Topic10\", \"Topic10\", \"Topic10\", \"Topic10\", \"Topic10\", \"Topic10\", \"Topic10\", \"Topic10\", \"Topic10\", \"Topic10\", \"Topic10\", \"Topic10\", \"Topic10\", \"Topic10\", \"Topic10\", \"Topic10\", \"Topic10\", \"Topic10\", \"Topic10\", \"Topic10\", \"Topic10\", \"Topic10\", \"Topic10\", \"Topic10\", \"Topic10\", \"Topic10\", \"Topic10\", \"Topic10\", \"Topic10\", \"Topic10\", \"Topic11\", \"Topic11\", \"Topic11\", \"Topic11\", \"Topic11\", \"Topic11\", \"Topic11\", \"Topic11\", \"Topic11\", \"Topic11\", \"Topic11\", \"Topic11\", \"Topic11\", \"Topic11\", \"Topic11\", \"Topic11\", \"Topic11\", \"Topic11\", \"Topic11\", \"Topic11\", \"Topic11\", \"Topic11\", \"Topic11\", \"Topic11\", \"Topic11\", \"Topic11\", \"Topic11\", \"Topic11\", \"Topic11\", \"Topic11\", \"Topic11\", \"Topic12\", \"Topic12\", \"Topic12\", \"Topic12\", \"Topic12\", \"Topic12\", \"Topic12\", \"Topic12\", \"Topic12\", \"Topic12\", \"Topic12\", \"Topic12\", \"Topic12\", \"Topic12\", \"Topic12\", \"Topic12\", \"Topic12\", \"Topic12\", \"Topic12\", \"Topic12\", \"Topic12\", \"Topic12\", \"Topic12\", \"Topic12\", \"Topic12\", \"Topic12\", \"Topic12\", \"Topic12\", \"Topic12\", \"Topic12\", \"Topic12\", \"Topic12\", \"Topic12\", \"Topic13\", \"Topic13\", \"Topic13\", \"Topic13\", \"Topic13\", \"Topic13\", \"Topic13\", \"Topic13\", \"Topic13\", \"Topic13\", \"Topic13\", \"Topic13\", \"Topic13\", \"Topic13\", \"Topic13\", \"Topic13\", \"Topic13\", \"Topic13\", \"Topic13\", \"Topic13\", \"Topic13\", \"Topic13\", \"Topic13\", \"Topic13\", \"Topic13\", \"Topic13\", \"Topic13\", \"Topic13\", \"Topic13\", \"Topic13\", \"Topic14\", \"Topic14\", \"Topic14\", \"Topic14\", \"Topic14\", \"Topic14\", \"Topic14\", \"Topic14\", \"Topic14\", \"Topic14\", \"Topic14\", \"Topic14\", \"Topic14\", \"Topic14\", \"Topic14\", \"Topic14\", \"Topic14\", \"Topic14\", \"Topic14\", \"Topic14\", \"Topic14\", \"Topic14\", \"Topic14\", \"Topic14\", \"Topic14\", \"Topic14\", \"Topic14\", \"Topic14\", \"Topic14\", \"Topic14\", \"Topic14\", \"Topic15\", \"Topic15\", \"Topic15\", \"Topic15\", \"Topic15\", \"Topic15\", \"Topic15\", \"Topic15\", \"Topic15\", \"Topic15\", \"Topic15\", \"Topic15\", \"Topic15\", \"Topic15\", \"Topic15\", \"Topic15\", \"Topic15\", \"Topic15\", \"Topic15\", \"Topic15\", \"Topic15\", \"Topic15\", \"Topic15\", \"Topic15\", \"Topic15\", \"Topic15\", \"Topic15\", \"Topic15\", \"Topic15\", \"Topic15\", \"Topic15\", \"Topic16\", \"Topic16\", \"Topic16\", \"Topic16\", \"Topic16\", \"Topic16\", \"Topic16\", \"Topic16\", \"Topic16\", \"Topic16\", \"Topic16\", \"Topic16\", \"Topic16\", \"Topic16\", \"Topic16\", \"Topic16\", \"Topic16\", \"Topic16\", \"Topic16\", \"Topic16\", \"Topic16\", \"Topic16\", \"Topic16\", \"Topic16\", \"Topic16\", \"Topic16\", \"Topic16\", \"Topic16\", \"Topic16\", \"Topic16\", \"Topic16\", \"Topic16\", \"Topic16\", \"Topic16\", \"Topic16\", \"Topic17\", \"Topic17\", \"Topic17\", \"Topic17\", \"Topic17\", \"Topic17\", \"Topic17\", \"Topic17\", \"Topic17\", \"Topic17\", \"Topic17\", \"Topic17\", \"Topic17\", \"Topic17\", \"Topic17\", \"Topic17\", \"Topic17\", \"Topic17\", \"Topic17\", \"Topic17\", \"Topic17\", \"Topic17\", \"Topic17\", \"Topic17\", \"Topic17\", \"Topic17\", \"Topic17\", \"Topic17\", \"Topic17\", \"Topic17\", \"Topic17\", \"Topic18\", \"Topic18\", \"Topic18\", \"Topic18\", \"Topic18\", \"Topic18\", \"Topic18\", \"Topic18\", \"Topic18\", \"Topic18\", \"Topic18\", \"Topic18\", \"Topic18\", \"Topic18\", \"Topic18\", \"Topic18\", \"Topic18\", \"Topic18\", \"Topic18\", \"Topic18\", \"Topic18\", \"Topic18\", \"Topic18\", \"Topic18\", \"Topic18\", \"Topic18\", \"Topic18\", \"Topic18\", \"Topic18\", \"Topic18\", \"Topic18\", \"Topic19\", \"Topic19\", \"Topic19\", \"Topic19\", \"Topic19\", \"Topic19\", \"Topic19\", \"Topic19\", \"Topic19\", \"Topic19\", \"Topic19\", \"Topic19\", \"Topic19\", \"Topic19\", \"Topic19\", \"Topic19\", \"Topic19\", \"Topic19\", \"Topic19\", \"Topic19\", \"Topic19\", \"Topic19\", \"Topic19\", \"Topic19\", \"Topic19\", \"Topic19\", \"Topic19\", \"Topic19\", \"Topic19\", \"Topic19\", \"Topic19\", \"Topic20\", \"Topic20\", \"Topic20\", \"Topic20\", \"Topic20\", \"Topic20\", \"Topic20\", \"Topic20\", \"Topic20\", \"Topic20\", \"Topic20\", \"Topic20\", \"Topic20\", \"Topic20\", \"Topic20\", \"Topic20\", \"Topic20\", \"Topic20\", \"Topic20\", \"Topic20\", \"Topic20\", \"Topic20\", \"Topic20\", \"Topic20\", \"Topic20\", \"Topic20\", \"Topic20\", \"Topic20\", \"Topic20\", \"Topic20\", \"Topic20\", \"Topic21\", \"Topic21\", \"Topic21\", \"Topic21\", \"Topic21\", \"Topic21\", \"Topic21\", \"Topic21\", \"Topic21\", \"Topic21\", \"Topic21\", \"Topic21\", \"Topic21\", \"Topic21\", \"Topic21\", \"Topic21\", \"Topic21\", \"Topic21\", \"Topic21\", \"Topic21\", \"Topic21\", \"Topic21\", \"Topic21\", \"Topic21\", \"Topic21\", \"Topic21\", \"Topic21\", \"Topic21\", \"Topic21\", \"Topic21\", \"Topic21\", \"Topic22\", \"Topic22\", \"Topic22\", \"Topic22\", \"Topic22\", \"Topic22\", \"Topic22\", \"Topic22\", \"Topic22\", \"Topic22\", \"Topic22\", \"Topic22\", \"Topic22\", \"Topic22\", \"Topic22\", \"Topic22\", \"Topic22\", \"Topic22\", \"Topic22\", \"Topic22\", \"Topic22\", \"Topic22\", \"Topic22\", \"Topic22\", \"Topic22\", \"Topic22\", \"Topic22\", \"Topic22\", \"Topic22\", \"Topic22\", \"Topic22\", \"Topic23\", \"Topic23\", \"Topic23\", \"Topic23\", \"Topic23\", \"Topic23\", \"Topic23\", \"Topic23\", \"Topic23\", \"Topic23\", \"Topic23\", \"Topic23\", \"Topic23\", \"Topic23\", \"Topic23\", \"Topic23\", \"Topic23\", \"Topic23\", \"Topic23\", \"Topic23\", \"Topic23\", \"Topic23\", \"Topic23\", \"Topic23\", \"Topic23\", \"Topic23\", \"Topic23\", \"Topic23\", \"Topic23\", \"Topic23\", \"Topic23\", \"Topic24\", \"Topic24\", \"Topic24\", \"Topic24\", \"Topic24\", \"Topic24\", \"Topic24\", \"Topic24\", \"Topic24\", \"Topic24\", \"Topic24\", \"Topic24\", \"Topic24\", \"Topic24\", \"Topic24\", \"Topic24\", \"Topic24\", \"Topic24\", \"Topic24\", \"Topic24\", \"Topic24\", \"Topic24\", \"Topic24\", \"Topic24\", \"Topic24\", \"Topic24\", \"Topic24\", \"Topic24\", \"Topic24\", \"Topic24\", \"Topic25\", \"Topic25\", \"Topic25\", \"Topic25\", \"Topic25\", \"Topic25\", \"Topic25\", \"Topic25\", \"Topic25\", \"Topic25\", \"Topic25\", \"Topic25\", \"Topic25\", \"Topic25\", \"Topic25\", \"Topic25\", \"Topic25\", \"Topic25\", \"Topic25\", \"Topic25\", \"Topic25\", \"Topic25\", \"Topic25\", \"Topic25\", \"Topic25\", \"Topic25\", \"Topic25\", \"Topic25\", \"Topic25\", \"Topic25\", \"Topic26\", \"Topic26\", \"Topic26\", \"Topic26\", \"Topic26\", \"Topic26\", \"Topic26\", \"Topic26\", \"Topic26\", \"Topic26\", \"Topic26\", \"Topic26\", \"Topic26\", \"Topic26\", \"Topic26\", \"Topic26\", \"Topic26\", \"Topic26\", \"Topic26\", \"Topic26\", \"Topic26\", \"Topic26\", \"Topic26\", \"Topic26\", \"Topic26\", \"Topic26\", \"Topic26\", \"Topic26\", \"Topic26\", \"Topic26\", \"Topic27\", \"Topic27\", \"Topic27\", \"Topic27\", \"Topic27\", \"Topic27\", \"Topic27\", \"Topic27\", \"Topic27\", \"Topic27\", \"Topic27\", \"Topic27\", \"Topic27\", \"Topic27\", \"Topic27\", \"Topic27\", \"Topic27\", \"Topic27\", \"Topic27\", \"Topic27\", \"Topic27\", \"Topic27\", \"Topic27\", \"Topic27\", \"Topic27\", \"Topic27\", \"Topic27\", \"Topic27\", \"Topic27\", \"Topic27\", \"Topic28\", \"Topic28\", \"Topic28\", \"Topic28\", \"Topic28\", \"Topic28\", \"Topic28\", \"Topic28\", \"Topic28\", \"Topic28\", \"Topic28\", \"Topic28\", \"Topic28\", \"Topic28\", \"Topic28\", \"Topic28\", \"Topic28\", \"Topic28\", \"Topic28\", \"Topic28\", \"Topic28\", \"Topic28\", \"Topic28\", \"Topic28\", \"Topic28\", \"Topic28\", \"Topic28\", \"Topic28\", \"Topic28\", \"Topic28\", \"Topic29\", \"Topic29\", \"Topic29\", \"Topic29\", \"Topic29\", \"Topic29\", \"Topic29\", \"Topic29\", \"Topic29\", \"Topic29\", \"Topic29\", \"Topic29\", \"Topic29\", \"Topic29\", \"Topic29\", \"Topic29\", \"Topic29\", \"Topic29\", \"Topic29\", \"Topic29\", \"Topic29\", \"Topic29\", \"Topic29\", \"Topic29\", \"Topic29\", \"Topic29\", \"Topic29\", \"Topic29\", \"Topic29\", \"Topic29\", \"Topic30\", \"Topic30\", \"Topic30\", \"Topic30\", \"Topic30\", \"Topic30\", \"Topic30\", \"Topic30\", \"Topic30\", \"Topic30\", \"Topic30\", \"Topic30\", \"Topic30\", \"Topic30\", \"Topic30\", \"Topic30\", \"Topic30\", \"Topic30\", \"Topic30\", \"Topic30\", \"Topic30\", \"Topic30\", \"Topic30\", \"Topic30\", \"Topic30\", \"Topic30\", \"Topic30\", \"Topic30\", \"Topic30\", \"Topic30\", \"Topic31\", \"Topic31\", \"Topic31\", \"Topic31\", \"Topic31\", \"Topic31\", \"Topic31\", \"Topic31\", \"Topic31\", \"Topic31\", \"Topic31\", \"Topic31\", \"Topic31\", \"Topic31\", \"Topic31\", \"Topic31\", \"Topic31\", \"Topic31\", \"Topic31\", \"Topic31\", \"Topic31\", \"Topic31\", \"Topic31\", \"Topic31\", \"Topic31\", \"Topic31\", \"Topic31\", \"Topic31\", \"Topic31\", \"Topic31\", \"Topic32\", \"Topic32\", \"Topic32\", \"Topic32\", \"Topic32\", \"Topic32\", \"Topic32\", \"Topic32\", \"Topic32\", \"Topic32\", \"Topic32\", \"Topic32\", \"Topic32\", \"Topic32\", \"Topic32\", \"Topic32\", \"Topic32\", \"Topic32\", \"Topic32\", \"Topic32\", \"Topic32\", \"Topic32\", \"Topic32\", \"Topic32\", \"Topic32\", \"Topic32\", \"Topic32\", \"Topic32\", \"Topic32\", \"Topic32\", \"Topic32\"], \"Freq\": [27657.0, 42324.0, 3075.0, 3507.0, 3068.0, 2424.0, 2450.0, 1582.0, 1826.0, 1280.0, 2174.0, 1272.0, 1469.0, 1093.0, 1257.0, 1019.0, 1115.0, 1081.0, 1339.0, 1021.0, 1221.0, 920.0, 976.0, 1127.0, 910.0, 924.0, 895.0, 838.0, 949.0, 918.0, 691.9522569942554, 44.294903591764175, 41.470734603811, 23.501279566196867, 25195.256994759187, 11.391147699892304, 8.488523655383913, 5.278159372770434, 0.01792159450211293, 0.017921594502112743, 0.017921594502112746, 0.017921594502112746, 0.017921594502112743, 0.017921594502112746, 0.017921594502113898, 0.017921594502112746, 0.017921594502112743, 0.017921594502112746, 0.017921594502112743, 0.01792159450211293, 0.017921594502112746, 0.017921594502112746, 0.017921594502112746, 0.01792159450211275, 0.017921594502112743, 0.017921594502112746, 0.017921594502112906, 0.017921594502112743, 0.017921594502112743, 0.017921594502112743, 0.017921594502113107, 0.0179215945021131, 0.017921594502113027, 0.017921594502113027, 0.017921594502113006, 0.017921594502112982, 0.017921594502112972, 0.017921594502112972, 0.01792159450211299, 0.017921594502112986, 0.017921594502112944, 0.017921594502112954, 0.017921594502112965, 0.017921594502112944, 0.017921594502112937, 0.017921594502112937, 0.017921594502112944, 0.017921594502112947, 0.017921594502112944, 0.017921594502112937, 0.017921594502112958, 3067.515086082043, 2449.3790417694686, 767.1621386896544, 744.576292919845, 255.8200405559244, 252.9040134744209, 215.29242366883489, 208.37656906910942, 190.38710393145087, 178.53473438032856, 173.51521245926912, 154.57204444395862, 132.6014609916452, 119.24215058668653, 105.47874297175305, 97.05619682490277, 96.3050120742125, 88.43653899650873, 79.43121608131572, 76.11044915241362, 66.67167593810666, 65.89544151932287, 62.164052009964976, 59.04807061234724, 55.46931165611463, 51.85655745737645, 51.06302721885528, 50.785805463319335, 41.55706307994094, 37.84643600152706, 325.38328272639285, 1400.2617126825342, 416.966979371311, 387.8349100703619, 2949.6165166400906, 391.69150973572596, 241.1371624188462, 192.02474259866165, 184.14324804743072, 174.1752482500259, 171.07608726136166, 117.57044366283269, 112.51490036965826, 101.24845945251826, 80.6735395561317, 76.51314091364513, 63.774073735324954, 63.5909721182764, 55.20951908611036, 52.7355162414475, 50.92420339449852, 49.91774081646517, 45.50261650012035, 43.32744398429712, 37.46060314424962, 34.05965276353469, 33.9579342741144, 31.96351732036635, 31.313762649411334, 29.800055246040678, 28.567430970101455, 26.689371998994304, 25.7448929450667, 25.339752808570786, 24.06481096091018, 11622.589818688033, 3506.6508220499704, 1219.9865790569982, 541.5188726438545, 224.95728803373598, 210.9556872763183, 180.6672829951697, 173.45838642149738, 136.33781774401365, 133.531173182453, 120.55223392967241, 104.29056189903197, 91.90799272446434, 90.40538546628188, 89.1465213909324, 69.60582107698676, 64.12473625030707, 60.950658787747884, 57.602613218225535, 54.77473094585174, 54.18928456961853, 53.91338329987072, 50.52531808761839, 48.54332870820999, 47.84849202682927, 47.47628599496714, 43.116032011216475, 42.59577488319565, 37.88091780515956, 35.56808379241291, 31.55960167744616, 2744.357116321123, 1126.3953284236359, 910.3586523337484, 861.7968588905286, 714.0193736069076, 580.5560654373191, 534.3155754403301, 508.54598106134813, 482.6292226142215, 269.41324808640536, 221.54257656359312, 205.49271639545478, 147.79987041721284, 128.67411016322646, 121.62245376078974, 97.41106740559546, 92.02652465144656, 85.41652809628131, 82.62923670777673, 70.97080964388901, 68.38123526865273, 66.18834469938663, 61.61655762517826, 57.86181050917344, 55.98033332650994, 50.346858560164, 48.66393691983338, 41.36771318001798, 41.13763200589571, 39.37218758815403, 37.75642529523312, 1959.680570481897, 1825.7331718260173, 687.7195128200663, 505.2800382193229, 408.7088178710866, 385.3209039752741, 363.3385921765483, 352.30105274183467, 343.73795201347366, 302.52964026720747, 273.99067020998467, 225.9190637867706, 207.4072266811939, 191.52574062635418, 123.04884911417214, 110.07675237004707, 98.92655712883948, 95.89381385880424, 79.55205565877839, 72.04950648629664, 70.08807772818923, 60.84538195212217, 54.512230587008226, 53.85117815186378, 53.792317950061026, 46.94571703385259, 46.72481756555563, 46.20955941628358, 46.06307286709028, 42.637226265160514, 41.743941496058, 319.5780652736717, 1087.9616071186679, 637.8941461999318, 620.9215519754457, 453.56370768633417, 434.7406698942891, 395.71831040441066, 392.6807971081655, 252.3715610439737, 248.43678425482145, 226.34090069522574, 185.9211351539395, 163.1389896474035, 162.73543064951403, 157.2052313537581, 149.66174563231564, 137.4183267163398, 133.0975990278834, 119.19125109813932, 118.28708785255469, 110.83596150912292, 110.42808305624439, 106.0635753767232, 95.60780498682422, 79.15859568592279, 78.17764816065173, 77.65267497364947, 71.99180194824709, 64.30013190894849, 61.896321895435634, 60.40645774630508, 58.69263771876909, 2106.351807606491, 1256.0604251831382, 848.9313245430322, 819.2896112394784, 376.9818436030622, 357.7250198093072, 295.01146905960013, 191.3102571541217, 175.14055589578916, 152.96732832794, 134.62149788112663, 122.15274923011586, 103.54107806512522, 94.40139783591802, 83.59360702727963, 79.1850911265935, 62.70741389497225, 56.498712537330356, 56.19607482101714, 55.20719727534417, 54.437464608404454, 42.87870155597855, 42.84679342545812, 42.253542568873314, 40.468278317061696, 39.240603286627504, 39.22579443401636, 39.123824606570615, 35.01733667061662, 32.54909927073956, 32.492236597449335, 2399.506041438362, 948.4404669472094, 860.9366996768684, 615.8772370613322, 288.071280574067, 284.8033955935121, 202.69342469594986, 184.57464097778367, 130.82915504888786, 130.07001652760476, 105.88240590903513, 101.56071328327462, 95.42748865942116, 80.51024276398336, 75.4091028651705, 60.64850809551542, 56.44463071674898, 55.199122912901984, 53.771666390602334, 52.90934571540179, 47.29622079749403, 37.12716297436885, 35.96412813962234, 35.59636646087695, 35.28618542225573, 34.259778894602796, 33.5345949932964, 32.14998079395249, 29.333439538376926, 28.169098750512617, 27.80832884157014, 1342.497437774672, 1884.5893011310409, 917.6635419561339, 500.5064937381985, 447.5914364368927, 240.48353509490855, 240.33387295591064, 231.65964939050156, 138.0934615566812, 113.91356148451914, 90.62143355296065, 78.40207561778797, 74.67191695664111, 67.37131644270423, 64.51191535377683, 63.32004065530341, 56.43272565106269, 55.10806192614795, 54.99613790233106, 54.425669960318785, 53.03309969737127, 50.87303521284156, 50.0905663275089, 49.05336512143879, 44.281439363443674, 34.611453496962085, 34.4647171182245, 33.31098787206201, 32.03504919454105, 31.52205740222624, 29.479741710881036, 29.45120068673253, 641.5399887909431, 950.4861765859845, 1562.3194928808912, 701.4654951875048, 436.0685477751633, 339.8078604052954, 290.84908644228324, 238.07083804874244, 182.77731735464457, 170.0889027264639, 123.03874376770197, 107.60500941395995, 96.75038608217206, 92.09309947109124, 75.23261122073706, 70.4373277186302, 70.36668956310366, 65.91760502245513, 65.79816481094993, 64.90199276854801, 60.61991911576596, 49.693528064291165, 47.66374334300119, 44.7149043413185, 44.06933000642783, 41.911623420463414, 39.7045611547868, 39.21594796858032, 37.68260974344044, 36.95864439698163, 35.29210046400993, 32.77762975057401, 32.72189081603513, 2347.4331049786806, 1114.2039403192869, 432.66740604474285, 402.16380745086855, 264.66823564665765, 259.09913443008406, 255.5098178722305, 250.9657216885825, 233.48025437955735, 201.36075444625328, 170.864115013731, 170.46200904843872, 112.89327523989103, 101.32569964061265, 98.07477665148589, 96.90166694144817, 89.29866236865821, 65.5903110488938, 59.46332257501715, 59.23452786759346, 57.27905205989034, 55.77532214258847, 47.609944955398355, 46.506235802437295, 40.59116683071326, 38.3547635388732, 36.31680023998271, 35.25349874887102, 34.87721789250642, 31.45266964391529, 27.48618733192387, 538.9802964746693, 801.9077214525828, 126.40108527425717, 1271.662941928626, 923.4981140266773, 439.70609200195935, 434.0047392674336, 391.00040653508637, 386.46648586430393, 369.3170037418715, 360.8936686437821, 218.24327443346883, 183.26360600365922, 110.5405636377826, 102.77452670961924, 91.63700958799531, 90.0720041994276, 84.06661106822901, 66.69104994117836, 66.09373610254154, 58.080107791396195, 53.600865621020105, 46.4930268882473, 42.57130808554782, 37.68094757025601, 34.04443998197646, 32.4885271813683, 28.887999814601688, 28.689619301817523, 27.766494896026423, 27.554922445235515, 26.832493496954914, 25.725964096083253, 975.3925788196998, 894.610049209387, 557.7082805529018, 478.6619255578668, 230.6176236370885, 217.31358348798975, 167.9825940839666, 152.52687260082638, 146.74596762202967, 130.8372750507126, 126.35448495727003, 104.39873859658533, 65.15359927973108, 60.87534199768806, 55.93219558622792, 53.652815727834216, 42.80634196269238, 42.56715965027846, 38.23446818905495, 35.17070316945539, 33.39376818490817, 29.812439122457995, 25.3323546626394, 24.157260327072546, 23.387217737498855, 20.162897286652033, 18.884785372492175, 17.80795338675231, 16.28839513342697, 15.935931062684508, 1400.129715635974, 601.7062787545505, 479.3535975250004, 403.4735265405113, 401.9869083038736, 186.79473179887046, 174.3429044268952, 173.32571600000475, 172.21675899261638, 147.38368752587718, 131.738788640263, 129.97374650060198, 124.58554932645926, 105.37588867431147, 90.06630101863388, 87.08352585864611, 85.63433144125702, 82.47204473381142, 82.01779836456028, 78.5269149300495, 78.13432037814852, 75.9980139660635, 64.00864423310135, 55.429224441131986, 54.464251677922924, 54.415843188821704, 49.134827710731635, 44.2035629946611, 43.84653817991819, 42.66521472752549, 39.56981577398933, 1220.1703546788979, 723.5405377218482, 629.8714789772127, 566.8982200520379, 407.5569109861299, 226.55760802050398, 226.53423599292063, 169.32827995343234, 107.94951334260526, 95.56681086008494, 81.75998912897835, 79.21198971230223, 70.37620000126651, 63.13546236645708, 54.42679543565275, 52.17029815345753, 48.59387324691283, 48.19165821676811, 44.86499683227511, 44.079150700997026, 39.043912084843335, 35.46817782759846, 33.998283709452096, 32.93279654749143, 29.153678534522108, 27.919947627068193, 26.56259148036964, 25.21311572645457, 19.66588244097997, 16.740241737664814, 16.088034286747888, 358.62027146414596, 453.59986184621965, 204.5103484621263, 855.4306590661454, 69.25342674416724, 1080.5805857420396, 909.0440622679467, 321.76236052836185, 155.9159824724663, 153.1140385466958, 143.2570853490615, 133.97256040533148, 129.5231730880676, 123.50018851576269, 98.193555605744, 85.52156026621002, 84.8719982811497, 76.74919209283883, 73.35201668554191, 67.14348807515904, 57.33490728941748, 53.66716204426404, 46.08090292735338, 42.29357982624815, 39.258206250762576, 38.74849650209173, 37.881414604742666, 37.881414604742666, 37.881414604742666, 37.515227920363095, 37.00645734754998, 36.69474170287186, 36.20058885634773, 35.41464048156496, 34.91588129683976, 1071.4124053359303, 679.6483856156725, 422.6341154469846, 379.7784913382372, 339.5737413217526, 219.6743058291127, 203.778841936312, 203.20651874576973, 163.3357734682605, 158.45385042678362, 140.09699825166788, 110.11960704704667, 89.36765821985973, 70.67120429290387, 69.76464848370416, 66.82636064088925, 62.191578034442614, 54.86660498818802, 53.680256645045404, 46.6758002949988, 46.33662861674095, 37.4583654561276, 37.20438676730915, 34.05999737600525, 33.630881397057045, 32.43425613379738, 31.097156709584574, 30.25845726055033, 27.064183112591024, 26.832685090924237, 26.56312573697261, 1554.4551037710464, 1279.3418812625657, 1020.7180906719473, 642.7122562004118, 177.3910388536187, 129.20555340971873, 114.81254520340912, 69.33524728105668, 54.567713280552724, 52.54231079351721, 51.065067188345864, 50.6267993189318, 47.24921078566409, 45.45070599314809, 44.787203473268356, 43.83419256576318, 41.02607479877088, 38.732661687376186, 38.44572064155414, 36.15589338844541, 34.67940378434425, 33.193175973143326, 30.1910555970701, 25.01849862709309, 24.932150956485323, 22.91618422252924, 22.892535276765518, 22.659297529229537, 21.778731458065668, 18.945839681928923, 17.968251682606876, 1441.200706422482, 244.66146681057023, 234.77500963348098, 179.90504503114906, 173.8154908274234, 163.97758663931847, 156.90571533523445, 137.8992046126071, 137.71404769411464, 120.30491183384503, 119.34394450657267, 107.48409356896816, 105.24345827301208, 95.04142404741587, 86.49828412996912, 82.4779838630086, 81.98701773199458, 74.52183325909479, 68.41634433273137, 63.227106089650825, 60.61559187925005, 56.95402515623405, 56.754443276547605, 55.95807272852666, 52.905682963304045, 51.358454592448396, 51.209592403617116, 49.64543419374732, 49.01039402848024, 47.927962824891296, 47.285465335720964, 1823.0159218558028, 723.181592049995, 360.46472565107695, 172.57737296459837, 170.14201203084093, 158.9300165442488, 150.17242541855646, 148.53695402072586, 139.90347612793857, 128.83214935257274, 122.54483821960481, 109.13655711507164, 104.38397253526594, 96.91682230398476, 85.86479075078509, 74.06494608724992, 70.90813854494422, 66.82316350116974, 66.34632523893193, 60.93961454641398, 58.1640489314064, 57.875908659396444, 57.01184437094828, 52.32574372454931, 49.880596993920456, 48.54135449814768, 48.474729427288686, 43.780372561591236, 43.06451980248061, 42.52931727108843, 42.16782268044798, 1415.0653001364008, 504.99713708206957, 451.95573833958775, 157.0567666225734, 153.38029862415257, 141.79646212866245, 117.43104836801362, 117.04559646828015, 86.65651769926549, 75.4210370663509, 75.14439159409079, 73.80647736781542, 73.05161449088867, 70.05109291250209, 65.43853306193493, 62.63379861887801, 61.833427831737254, 60.98992160688021, 58.828141881515535, 55.70657246098168, 51.74702819588796, 50.74162377694812, 49.64568345875872, 48.12405218527347, 46.97241344688482, 46.129943835974316, 44.23970444449411, 43.51984174863453, 39.499016221691974, 36.125529329752524, 35.35762730359047, 1961.5395946304232, 1581.6047234695848, 576.7788424538211, 369.38150215057897, 164.4514466779071, 109.8202417017746, 90.91189675478572, 86.09761481447669, 65.24773138221246, 48.96975633639362, 44.42989362271657, 38.04499487722334, 36.72578015917186, 32.60749922941431, 30.552628409750756, 29.96151833946271, 29.134137568350194, 25.98665436435219, 22.47439244280605, 20.36089328867084, 19.017667229984504, 17.071840767734855, 15.611443869369518, 14.311989502207522, 13.573545589594964, 13.543981117144538, 12.603497434305261, 12.584422342884194, 12.57526425834007, 12.224118544728704, 11.700545940561684, 1995.1299446930657, 1091.9485444768138, 334.5142425303555, 309.0896340412841, 306.0944031242459, 299.90110990436204, 285.3625860905726, 282.422756282907, 252.50403712127078, 244.4376435241079, 192.46816095927431, 156.45824905342022, 138.52800377873382, 134.27497805395612, 86.38124035273759, 84.46856458337614, 79.01406873040513, 78.25563237867799, 64.69861782193078, 61.321819388385656, 48.01076548804828, 47.86912061899025, 44.651524485239705, 40.28168579603086, 37.83055767464394, 36.98544760023892, 35.34634757219907, 35.03553436696193, 34.74593725253537, 31.993769916958016, 30.305712530644794, 3074.409993295415, 507.38896874924404, 226.0045498794648, 141.4489666573292, 126.76158001378849, 104.24315127584394, 98.51904677115401, 84.52920070464675, 79.52788582908849, 71.75939291314394, 62.16809607804743, 54.07911908520844, 42.22863436181725, 39.51555174002601, 39.38816605080252, 39.09569030787922, 36.218772004012514, 32.02132360646464, 30.246549823875256, 29.049769149856147, 26.540921511295423, 23.903797404828012, 22.332636187498448, 20.15587902024589, 20.09233563876264, 19.927282777372003, 19.721419422040515, 19.418885046952216, 18.52772443685506, 17.40961599781496, 919.3315552593352, 837.1402695855663, 495.6224927415783, 308.13119701781903, 196.2772042761963, 165.48206382939873, 143.3493759415057, 112.41643470925368, 101.4883424188788, 96.5112790989847, 89.24573762212086, 86.51107447321255, 74.78550661149784, 64.6047863107412, 52.74097865845223, 47.81765226731417, 47.01822726340697, 46.49606089070219, 46.462065103453035, 46.16704866879753, 44.787869893659916, 43.354868520982194, 41.556756263843624, 40.613661515877965, 38.350515358384406, 36.275186042066245, 34.10313033732311, 33.615936953507116, 30.853980009961667, 27.80998909668584, 278.2152768995476, 241.89670514153218, 190.7840770057185, 177.23402419091997, 170.93001390652904, 167.04623194285813, 161.91060458754137, 153.18078701580149, 145.79585876946388, 132.26263061278127, 131.9190821557717, 122.13633753662727, 111.67330846581174, 110.82038538684591, 106.50020097657048, 96.13408252814186, 95.39676476404875, 94.97553933564795, 93.79953289054441, 82.60544984133648, 67.10098866221534, 66.59201529984074, 61.58382467010546, 56.704708146440055, 56.230256976008135, 54.65154956026827, 52.460611223291046, 51.373028576012565, 49.875984255624225, 47.35510411655433, 623.590594538902, 332.4109342049877, 249.63538401986145, 235.27196637969325, 212.657232086861, 163.44245640140352, 156.6345890695896, 148.17264771052092, 143.77491850150145, 126.31210750282088, 115.98340823692823, 109.95976385539102, 101.85416364323207, 95.78702865096041, 90.16551629878563, 84.26027699445127, 81.65342807420883, 81.55430189434443, 79.10467964037234, 72.84001337184189, 70.79596734840672, 69.73611828994734, 68.2534361757814, 66.15058775984633, 59.5114037986307, 56.9521947564705, 48.27439463590118, 47.45394699664384, 46.67307184129669, 43.35175409020445, 578.5678265477865, 514.9301179374838, 485.223512769089, 458.57985184391885, 403.70904136196964, 225.69425027356712, 177.97894780622113, 155.6747442759474, 129.30366889398562, 90.05127002379534, 89.99175126764261, 82.60592736509183, 77.97036129550521, 75.3623398939898, 74.56494490912246, 74.54712439892054, 54.75085881146523, 50.95109059078983, 49.55212802501431, 45.084854162168355, 40.727481079547736, 37.649081008665284, 34.97432088994391, 32.76647971801909, 29.868106623834656, 28.277125060011407, 26.696141135042936, 26.180545201993016, 26.020931440450205, 23.9145375596118, 1018.0871041714819, 463.92735090881325, 290.26674002398175, 257.4986796157274, 248.1462785136985, 205.22176840838395, 116.20101779636542, 114.34286522929445, 112.72709954077087, 106.50760709723754, 96.65163657315573, 79.74220095502218, 69.06982456246071, 59.7083282267171, 57.000327510644965, 48.309678302661844, 46.766584514876286, 44.990964906758435, 44.7215520082375, 42.76154540693255, 41.160807975716914, 40.85407688704375, 37.07864279856673, 36.73150275633397, 34.48688289432043, 33.01002772835616, 30.861479319876306, 29.27752267954088, 29.20553292952289, 28.36582347600023, 345.06482197006017, 320.6846615174156, 264.84339273776317, 242.19016458291972, 236.38928733100536, 211.85498044172027, 187.88837362850418, 118.44576094641452, 114.45329463712075, 108.86646889387535, 105.03136809141347, 97.6539744007358, 95.82801246614416, 91.89425538228427, 82.57305456724524, 75.42754854952888, 72.34504244159822, 68.81859140127419, 60.58787851280607, 57.868710700474914, 52.8690591117991, 43.63920972993843, 40.60561147427012, 39.99645148140314, 39.00177568652208, 36.68836822180989, 36.503926160296004, 35.999490013245094, 35.97093592987563, 35.09594955640998, 498.73605666956803, 475.75932079891464, 272.86609886147755, 184.34476949878646, 172.7833424130341, 136.2340308466569, 89.3013759409274, 79.04147221777322, 77.66283078692035, 76.59734719699384, 66.56120507875482, 64.09914741241836, 61.42129248941762, 60.821368049530435, 53.30753966948114, 50.82718349956623, 50.3468037020854, 49.393251295913856, 42.139558524837724, 39.6175128716443, 37.52356310433845, 36.563019863780255, 36.418348793910205, 34.84023068312431, 33.354414710355705, 33.09081549529099, 31.11107112307282, 30.485890173693345, 29.489060869388997, 28.098492455558716, 466.3340019088273], \"Term\": [\"jpg\", \"pdf\", \"dwg\", \"rfi\", \"plan\", \"msg\", \"floor\", \"pictures\", \"doc\", \"pco\", \"level\", \"clark\", \"report\", \"submittal\", \"details\", \"review\", \"umcp\", \"zip\", \"asi\", \"docx\", \"bsu\", \"shop\", \"psc\", \"final\", \"ccit\", \"hall\", \"package\", \"drawings\", \"ajch\", \"plans\", \"picture\", \"pics\", \"jobsite\", \"photo\", \"jpg\", \"dunkle\", \"umesf\", \"remain\", \"bak\", \"sunshade\", \"filler\", \"activityid\", \"balance\", \"fencing\", \"finishing\", \"instructions\", \"prices\", \"administration\", \"areaes\", \"southeast\", \"sunny\", \"incubator\", \"elevated\", \"mncppc\", \"ruel\", \"finders\", \"department\", \"fasteners\", \"calc\", \"jpercoskit\", \"future\", \"coming\", \"studs\", \"used\", \"pads\", \"sheathing\", \"proofing\", \"clsrm\", \"facade\", \"needs\", \"foam\", \"glycol\", \"block\", \"dust\", \"koguk\", \"hanger\", \"rough\", \"temp\", \"entry\", \"june\", \"image\", \"plan\", \"floor\", \"east\", \"site\", \"walls\", \"second\", \"protection\", \"overall\", \"alarm\", \"penthouse\", \"finish\", \"insulation\", \"elevs\", \"telecom\", \"demolition\", \"clarification\", \"signage\", \"alternates\", \"partial\", \"membrane\", \"sixth\", \"proposed\", \"fifth\", \"materials\", \"close\", \"enlargement\", \"lower\", \"commercial\", \"reference\", \"seventh\", \"south\", \"level\", \"ground\", \"asi\", \"pdf\", \"concrete\", \"stair\", \"rabousaidt\", \"proposal\", \"cor\", \"insp\", \"item\", \"signed\", \"mod\", \"aiw\", \"chevy\", \"aluminum\", \"aceco\", \"column\", \"paving\", \"kogok\", \"payment\", \"jcm\", \"jve\", \"web\", \"block\", \"worcester\", \"esharkeyt\", \"application\", \"washington\", \"district\", \"cip\", \"memorial\", \"ironshore\", \"dynasty\", \"pdf\", \"rfi\", \"bsu\", \"posted\", \"duct\", \"student\", \"stairs\", \"union\", \"nsu\", \"elevator\", \"nsc\", \"manual\", \"location\", \"clarifications\", \"type\", \"credit\", \"sketch\", \"condensate\", \"drywall\", \"switch\", \"connection\", \"sound\", \"dimension\", \"tube\", \"confirmation\", \"dock\", \"loading\", \"cts\", \"bas\", \"roller\", \"utilities\", \"pdf\", \"final\", \"bal\", \"wall\", \"hvac\", \"piping\", \"plumbing\", \"north\", \"northwest\", \"exterior\", \"construction\", \"ductwork\", \"storm\", \"retaining\", \"curtain\", \"paint\", \"set\", \"beam\", \"table\", \"drainage\", \"certificate\", \"fixtures\", \"cmu\", \"mockup\", \"atlantic\", \"atrium\", \"grade\", \"dow\", \"workshop\", \"horizontal\", \"communications\", \"pdf\", \"doc\", \"water\", \"rcp\", \"basement\", \"security\", \"southwest\", \"cabling\", \"mech\", \"diagram\", \"riser\", \"leed\", \"pipe\", \"negnarrative\", \"domestic\", \"sprinkler\", \"box\", \"pump\", \"chilled\", \"ballinger\", \"revision\", \"calcs\", \"valve\", \"updated\", \"entrance\", \"single\", \"size\", \"fcu\", \"booster\", \"rfp\", \"optional\", \"level\", \"pdf\", \"conf\", \"room\", \"metal\", \"comments\", \"sheet\", \"sample\", \"audiovisual\", \"infrastructure\", \"glass\", \"list\", \"warranty\", \"services\", \"request\", \"joint\", \"change\", \"toilet\", \"testing\", \"glazing\", \"vol\", \"roofing\", \"visual\", \"accessories\", \"generator\", \"decorative\", \"verification\", \"volume\", \"railings\", \"acoustical\", \"sealants\", \"ppa\", \"pdf\", \"details\", \"data\", \"product\", \"interior\", \"req\", \"design\", \"unit\", \"foundation\", \"typical\", \"light\", \"curtainwall\", \"samples\", \"resubmittal\", \"qualification\", \"kms\", \"gordon\", \"resilient\", \"glazed\", \"cut\", \"transition\", \"bay\", \"thermal\", \"composite\", \"plate\", \"office\", \"foam\", \"sheets\", \"time\", \"acp\", \"structure\", \"pdf\", \"ajch\", \"daily\", \"new\", \"message\", \"kahua\", \"fwd\", \"additional\", \"inspection\", \"march\", \"color\", \"ffe\", \"furniture\", \"emergency\", \"image\", \"week\", \"drive\", \"november\", \"questions\", \"check\", \"energy\", \"campus\", \"status\", \"selection\", \"submittals\", \"fac\", \"model\", \"bedding\", \"skin\", \"bathroom\", \"abatement\", \"report\", \"msg\", \"plans\", \"electrical\", \"elev\", \"classroom\", \"systems\", \"project\", \"june\", \"wing\", \"flat\", \"installation\", \"dated\", \"corridor\", \"cafe\", \"jan\", \"lobby\", \"study\", \"furnishings\", \"september\", \"feb\", \"device\", \"january\", \"boxes\", \"grounding\", \"dept\", \"observation\", \"collab\", \"addition\", \"fixed\", \"millwork\", \"bonding\", \"enlarged\", \"asi\", \"pdf\", \"closed\", \"lab\", \"transmittal\", \"invoice\", \"notes\", \"drawing\", \"general\", \"locations\", \"responded\", \"hood\", \"board\", \"exhaust\", \"symbols\", \"kirlin\", \"assemblies\", \"fume\", \"chemistry\", \"legend\", \"chesapeake\", \"flex\", \"abbreviations\", \"page\", \"toc\", \"concreate\", \"gypsum\", \"markup\", \"andiemac\", \"civil\", \"february\", \"acc\", \"pdf\", \"umcp\", \"building\", \"bioengineering\", \"certified\", \"payroll\", \"section\", \"university\", \"maryland\", \"cert\", \"summary\", \"green\", \"scope\", \"dllr\", \"mtg\", \"esjltc\", \"rcpt\", \"applied\", \"caisson\", \"end\", \"memo\", \"amended\", \"conprogressreport\", \"follow\", \"trunnell\", \"certification\", \"shielding\", \"bod\", \"admin\", \"alrb\", \"needs\", \"msg\", \"pdf\", \"report\", \"clark\", \"hall\", \"umd\", \"framing\", \"frederick\", \"prince\", \"reports\", \"west\", \"field\", \"cambridge\", \"added\", \"symons\", \"commissioning\", \"sign\", \"submitted\", \"bldg\", \"vent\", \"dimensions\", \"notification\", \"cold\", \"american\", \"plywood\", \"drains\", \"fireproofing\", \"formed\", \"mail\", \"hazmat\", \"labs\", \"park\", \"break\", \"psc\", \"package\", \"wmf\", \"complete\", \"letter\", \"cover\", \"weekly\", \"atp\", \"bulletin\", \"flooring\", \"contract\", \"potomac\", \"freestate\", \"otis\", \"physical\", \"executed\", \"sdr\", \"tecta\", \"sciences\", \"resinous\", \"complex\", \"moisture\", \"schnabel\", \"amendment\", \"comp\", \"rtf\", \"compliance\", \"arc\", \"amt\", \"tank\", \"pdf\", \"control\", \"lighting\", \"air\", \"equipment\", \"april\", \"laboratory\", \"panels\", \"access\", \"existing\", \"download\", \"draft\", \"cooling\", \"casework\", \"appendix\", \"vivarium\", \"central\", \"tower\", \"expansion\", \"supports\", \"hangers\", \"handling\", \"ttf\", \"meter\", \"devices\", \"quality\", \"computer\", \"motor\", \"lorton\", \"terminal\", \"monitoring\", \"pdf\", \"xls\", \"elevations\", \"holzapfel\", \"sections\", \"ceiling\", \"elevation\", \"slab\", \"flr\", \"entry\", \"courtyard\", \"edge\", \"sequence\", \"vestibule\", \"dev\", \"video\", \"walk\", \"lounge\", \"pour\", \"post\", \"porch\", \"surveillance\", \"academy\", \"types\", \"template\", \"embed\", \"suspension\", \"nationwide\", \"reflected\", \"faculty\", \"lights\", \"ground\", \"level\", \"enlarged\", \"pdf\", \"south\", \"zip\", \"ccit\", \"fsu\", \"standard\", \"tile\", \"agenda\", \"training\", \"pumps\", \"app\", \"genesis\", \"digital\", \"manhole\", \"day\", \"tawes\", \"substitution\", \"ctr\", \"engineering\", \"installer\", \"ending\", \"hydronic\", \"storage\", \"summay\", \"bsunew\", \"studentunion\", \"look\", \"seating\", \"survey\", \"foundations\", \"breaks\", \"orders\", \"pdf\", \"response\", \"revised\", \"asg\", \"steel\", \"approved\", \"sub\", \"dwfx\", \"base\", \"masonry\", \"hardware\", \"audio\", \"valves\", \"grout\", \"elevators\", \"capron\", \"repair\", \"heating\", \"radio\", \"sterilizer\", \"stainless\", \"evaluation\", \"william\", \"combined\", \"decking\", \"ahus\", \"auger\", \"station\", \"patching\", \"noted\", \"piles\", \"pdf\", \"pco\", \"docx\", \"ice\", \"narrative\", \"cmns\", \"window\", \"des\", \"elec\", \"est\", \"info\", \"misc\", \"dec\", \"rough\", \"fans\", \"ems\", \"conflicts\", \"non\", \"suez\", \"core\", \"ccr\", \"revisions\", \"partitions\", \"zone\", \"braden\", \"inspections\", \"joc\", \"sec\", \"intumescent\", \"house\", \"cell\", \"pdf\", \"line\", \"binder\", \"support\", \"diagrams\", \"estimate\", \"stella\", \"waste\", \"dwf\", \"issue\", \"voltage\", \"management\", \"long\", \"addendum\", \"dcb\", \"transfer\", \"aes\", \"low\", \"operation\", \"submission\", \"louver\", \"tate\", \"fence\", \"spec\", \"medium\", \"jernigan\", \"multivista\", \"visit\", \"allowance\", \"cables\", \"crane\", \"pdf\", \"roof\", \"meeting\", \"conflict\", \"requirements\", \"units\", \"brick\", \"minutes\", \"drain\", \"maintenance\", \"material\", \"mona\", \"pro\", \"consolidated\", \"coordination\", \"fan\", \"proofing\", \"sleeve\", \"plant\", \"mortar\", \"coil\", \"high\", \"cabinet\", \"offices\", \"mep\", \"mix\", \"proposals\", \"identification\", \"pressure\", \"mid\", \"conference\", \"pdf\", \"schedule\", \"power\", \"metro\", \"structural\", \"ahu\", \"cpf\", \"mde\", \"dkodant\", \"manganaro\", \"plastic\", \"architectural\", \"trojan\", \"temporary\", \"llc\", \"terrazzo\", \"isec\", \"custom\", \"caretti\", \"cabinets\", \"facilities\", \"pdi\", \"matrix\", \"aasc\", \"key\", \"cleaning\", \"forum\", \"curb\", \"fpt\", \"laminate\", \"del\", \"pdf\", \"pictures\", \"vmware\", \"esj\", \"tiered\", \"ltc\", \"umesj\", \"mlc\", \"inch\", \"space\", \"start\", \"plot\", \"sidewalk\", \"scaffolding\", \"kir\", \"grnd\", \"mckinney\", \"replacement\", \"exit\", \"caulk\", \"need\", \"leak\", \"builder\", \"mike\", \"plates\", \"boards\", \"bmp\", \"kog\", \"markups\", \"class\", \"chip\", \"jpg\", \"submittal\", \"approval\", \"test\", \"log\", \"pfh\", \"iphone\", \"don\", \"open\", \"items\", \"html\", \"rooms\", \"ccc\", \"pkg\", \"hot\", \"lvl\", \"old\", \"rebar\", \"entrances\", \"asphalt\", \"index\", \"shx\", \"stamp\", \"dwgs\", \"beams\", \"storefronts\", \"bulkhead\", \"layouts\", \"seminar\", \"framed\", \"rain\", \"dwg\", \"mechanical\", \"steam\", \"controls\", \"heat\", \"fade\", \"supply\", \"built\", \"flow\", \"shaft\", \"fourth\", \"irrigation\", \"furnishing\", \"arch\", \"floorplan\", \"equip\", \"isometrics\", \"funds\", \"missing\", \"umpsc\", \"state\", \"exchangers\", \"wta\", \"ppac\", \"airflow\", \"isometric\", \"planting\", \"functional\", \"northeast\", \"tracing\", \"shop\", \"drawings\", \"xlsx\", \"form\", \"fee\", \"demo\", \"copy\", \"add\", \"load\", \"holz\", \"cagley\", \"program\", \"screen\", \"jpeg\", \"storefront\", \"upper\", \"snow\", \"vacuum\", \"negotiation\", \"mpeterst\", \"bank\", \"projection\", \"foodservice\", \"alt\", \"proj\", \"animal\", \"analysis\", \"recovery\", \"fabrications\", \"blg\", \"utility\", \"work\", \"layout\", \"rvt\", \"service\", \"fixture\", \"bid\", \"phase\", \"sediment\", \"profiles\", \"esc\", \"changes\", \"alternate\", \"corner\", \"electric\", \"order\", \"erosion\", \"budget\", \"grading\", \"landscape\", \"kitchen\", \"underground\", \"food\", \"stephen\", \"results\", \"cole\", \"barrier\", \"fuentes\", \"circuit\", \"assembly\", \"december\", \"james\", \"update\", \"rev\", \"gmp\", \"july\", \"cap\", \"area\", \"record\", \"information\", \"waterproofing\", \"scub\", \"backup\", \"sanitary\", \"swm\", \"svcs\", \"wft\", \"xer\", \"chiller\", \"txt\", \"facility\", \"pages\", \"fluid\", \"procedures\", \"comment\", \"october\", \"nov\", \"stillwater\", \"bio\", \"license\", \"door\", \"panel\", \"conditions\", \"early\", \"schedules\", \"install\", \"stone\", \"cast\", \"citc\", \"conduit\", \"frame\", \"smoke\", \"mock\", \"place\", \"flashing\", \"owner\", \"amv\", \"bsmnt\", \"cladding\", \"special\", \"opening\", \"arra\", \"incorporated\", \"diffusers\", \"sill\", \"sog\", \"copper\", \"ati\", \"folding\", \"rated\", \"review\", \"htm\", \"tif\", \"consultant\", \"completed\", \"wssc\", \"responses\", \"png\", \"cable\", \"bioe\", \"schematic\", \"sealant\", \"documents\", \"certificates\", \"development\", \"mov\", \"wtw\", \"rack\", \"rfishert\", \"csr\", \"correspondence\", \"inlet\", \"performance\", \"master\", \"dat\", \"strip\", \"format\", \"adhesive\", \"option\", \"tray\", \"email\", \"cost\", \"attachment\", \"doors\", \"monthly\", \"wood\", \"safety\", \"frames\", \"overhead\", \"life\", \"calculations\", \"css\", \"progress\", \"august\", \"frostburg\", \"activities\", \"mbe\", \"rail\", \"ellipse\", \"columns\", \"hollow\", \"coiling\", \"completion\", \"logo\", \"flush\", \"dick\", \"exchanger\", \"longest\", \"path\", \"substantial\", \"john\", \"edward\", \"center\", \"gas\", \"learning\", \"pre\", \"pier\", \"teaching\", \"uploaded\", \"main\", \"mohawk\", \"selected\", \"treaching\", \"prep\", \"natural\", \"stud\", \"issues\", \"pit\", \"oct\", \"bpw\", \"bath\", \"initial\", \"damage\", \"frmg\", \"shoring\", \"mtl\", \"funding\", \"compton\", \"joy\", \"fund\", \"jpg\"], \"Total\": [27657.0, 42324.0, 3075.0, 3507.0, 3068.0, 2424.0, 2450.0, 1582.0, 1826.0, 1280.0, 2174.0, 1272.0, 1469.0, 1093.0, 1257.0, 1019.0, 1115.0, 1081.0, 1339.0, 1021.0, 1221.0, 920.0, 976.0, 1127.0, 910.0, 924.0, 895.0, 838.0, 949.0, 918.0, 693.0946666968703, 45.43731329437908, 42.61314430642591, 24.643689268811837, 27657.777195255818, 12.533557402507288, 9.630933357998828, 6.420569075385365, 1.160331297117043, 5.720082024173788, 8.173006439823965, 8.337515803895952, 8.408785530719571, 8.771625547155683, 8.961502836625282, 9.124220801030448, 9.285537293338956, 9.345481707079923, 9.412520917415222, 9.50041693003215, 9.603065657568896, 9.719869884069821, 9.842458120254632, 9.851316068961708, 9.94697528795447, 9.972746979183302, 9.993827869470884, 10.066015207879703, 10.11062116228137, 10.144746380929355, 16.975518877315917, 12.504776400736292, 11.847843330216225, 18.775197219205694, 13.677980845318732, 16.46227243218859, 72.0298133711244, 21.589964958168817, 16.44153002269694, 28.609452789825074, 40.35384414090843, 28.94948281030334, 35.197450877756246, 16.16331580298086, 18.288667559195616, 14.369303979132962, 46.57555267151738, 31.27305432176831, 96.68931410744781, 139.21869447416267, 76.53640398700871, 3068.6456139953693, 2450.509569682795, 768.292666602979, 745.7068208331696, 256.9505684692494, 254.03454138774572, 216.42295158215973, 209.50709698243423, 191.51763184477568, 179.66526229365337, 174.64574037259393, 155.70257235728343, 133.73198890497005, 120.37267850001133, 106.60927088507782, 98.18672473822758, 97.4355399875373, 89.56706690983351, 80.5617439946405, 77.24097706573846, 67.80220385143144, 67.02596943264767, 63.29457992332512, 60.17859852567202, 56.59983956943941, 52.98708537070121, 52.193555132180066, 51.9163333766441, 42.68759099326572, 38.976963914851815, 395.72940933413076, 2174.5004143451306, 776.6799506990275, 1339.4165161900353, 42324.657566922644, 392.82930784994755, 242.27496053306774, 193.16254071288319, 185.28104616165226, 175.31304636424747, 172.21388537558317, 118.70824177705421, 113.65269848387979, 102.38625756673977, 81.8113376703534, 77.65093902786661, 64.9118718495465, 64.72877023249792, 56.34731720033188, 53.87331435566899, 52.062001508719995, 51.05553893068666, 46.64041461434186, 44.465242098518594, 38.59840125847109, 35.197450877756246, 35.095732388335875, 33.101315434587825, 32.4515607636329, 30.937853360262196, 29.705229084322927, 27.8271701132158, 26.882691059288245, 26.477550922792258, 25.20260907513165, 42324.657566922644, 3507.7807016449347, 1221.116458651961, 542.6487522388172, 226.08716762869895, 212.08556687128123, 181.79716259013267, 174.58826601646035, 137.46769733897662, 134.66105277741593, 121.68211352463537, 105.42044149399493, 93.0378723194273, 91.53526506124484, 90.27640098589539, 70.73570067194974, 65.25461584527004, 62.08053838271084, 58.732492813188486, 55.904610540814694, 55.31916416458147, 55.0432628948337, 51.65519768258134, 49.67320830317294, 48.97837162179221, 48.606165589930086, 44.245911606179426, 43.72565447815858, 39.010797400122534, 36.69796338737585, 32.68948127240911, 42324.657566922644, 1127.523514737871, 911.4868386479834, 862.9250452047636, 715.1475599211426, 581.6842517515541, 535.4437617545651, 509.67416737558335, 483.75740892845664, 270.5414344006406, 222.67076287782837, 206.62090270969, 148.928056731448, 129.80229647746162, 122.75064007502492, 98.53925371983067, 93.1547109656818, 86.54471441051649, 83.75742302201192, 72.09899595812419, 69.50942158288794, 67.31653101362181, 62.74474393941342, 58.9899968234086, 57.10851964074508, 51.475044874399174, 49.79212323406853, 42.49589949425312, 42.26581832013086, 40.500373902389164, 38.884611609468266, 42324.657566922644, 1826.8615778037934, 688.8479187963175, 506.40844419557425, 409.83722384733795, 386.4493099515255, 364.4669981527996, 353.42945871808604, 344.86635798972503, 303.65804624345884, 275.11907618623604, 227.0474697630219, 208.53563265744518, 192.65414660260544, 124.17725509042344, 111.20515834629838, 100.05496310509079, 97.02221983505554, 80.68046163502969, 73.17791246254797, 71.21648370444056, 61.97378792837344, 55.640636563259505, 54.97958412811506, 54.92072392631231, 48.07412301010387, 47.853223541806905, 47.337965392534855, 47.19147884334154, 43.76563224141178, 42.872347472309315, 2174.5004143451306, 42324.657566922644, 639.0220822859604, 622.0494880614744, 454.6916437723629, 435.86860598031785, 396.8462464904394, 393.80873319419425, 253.49949713000237, 249.5647203408501, 227.46883678125442, 187.04907123996819, 164.26692573343215, 163.8633667355427, 158.3331674397868, 150.78968171834433, 138.5462628023685, 134.2255351139121, 120.31918718416802, 119.41502393858336, 111.96389759515162, 111.55601914227307, 107.19151146275189, 96.73574107285289, 80.28653177195147, 79.30558424668041, 78.78061105967815, 73.11973803427577, 65.42806799497718, 63.0242579814643, 61.53439383233373, 59.82057380479774, 42324.657566922644, 1257.1884748900302, 850.0593742499242, 820.4176609463703, 378.1098933099544, 358.85306951619935, 296.1395187664923, 192.4383068610138, 176.26860560268125, 154.0953780348321, 135.74954758801871, 123.28079893700793, 104.66912777201735, 95.52944754281032, 84.72165673417172, 80.31314083348558, 63.83546360186429, 57.626762244222434, 57.32412452790921, 56.33524698223624, 55.56551431529651, 44.00675126287068, 43.974843132350166, 43.3815922757654, 41.596328023953774, 40.36865299351962, 40.35384414090843, 40.25187431346267, 36.145386377508686, 33.677148977631646, 33.620286304341434, 42324.657566922644, 949.5677680690475, 862.0640008012975, 617.0045381831702, 289.19858169590526, 285.9306967153504, 203.82072581778806, 185.7019420996219, 131.95645617072606, 131.19731764944297, 107.00970703087337, 102.68801440511284, 96.55478978125937, 81.63754388582157, 76.53640398700871, 61.775809217353654, 57.571931838587176, 56.32642403474018, 54.89896751244052, 54.036646837240006, 48.42352191933226, 38.25446409620705, 37.09142926146051, 36.72366758271515, 36.413486544093914, 35.38708001644114, 34.661896115134596, 33.27728191579068, 30.460740660215162, 29.296399872350833, 28.935629963408353, 1469.9887585154192, 2424.6598328883333, 918.7887748736152, 501.6317266556801, 448.7166693543743, 241.60876801239, 241.4591058733921, 232.78488230798303, 139.21869447416267, 115.03879440200065, 91.74666647044212, 79.52730853526947, 75.7971498741226, 68.49654936018571, 65.63714827125831, 64.44527357278487, 57.55795856854416, 56.23329484362941, 56.12137081981251, 55.55090287780024, 54.15833261485274, 51.998268130323005, 51.215799244990365, 50.17859803892024, 45.406672280925115, 35.73668641444352, 35.589950035705975, 34.436220789543455, 33.160282112022486, 32.647290319707686, 30.60497462836249, 30.576433604213967, 847.1377421207966, 1339.4165161900353, 42324.657566922644, 702.5924943735031, 437.1955469611618, 340.9348595912939, 291.9760856282817, 239.19783723474077, 183.90431654064292, 171.21590191246227, 124.16574295370036, 108.73200859995832, 97.87738526817044, 93.22009865708962, 76.35961040673543, 71.56432690462859, 71.49368874910203, 67.04460420845352, 66.92516399694831, 66.0289919545464, 61.7469183017643, 50.82052725028951, 48.79074252899955, 45.841903527316845, 45.196329192426184, 43.03862260646176, 40.831560340785146, 40.34294715457867, 38.80960892943879, 38.085643582979976, 36.419099650008285, 33.90462893657237, 33.84889000203347, 42324.657566922644, 1115.327205777188, 433.7906715026442, 403.2870729087699, 265.79150110455896, 260.22239988798543, 256.63308333013185, 252.08898714648376, 234.6035198374586, 202.48401990415448, 171.98738047163224, 171.58527450633994, 114.01654069779227, 102.44896509851388, 99.19804210938712, 98.02493239934942, 90.42192782655944, 66.71357650679505, 60.58658803291836, 60.35779332549467, 58.402317517791566, 56.898587600489684, 48.73321041329956, 47.629501260338515, 41.71443228861446, 39.47802899677442, 37.44006569788394, 36.37676420677223, 36.000483350407634, 32.57593510181651, 28.609452789825074, 2424.6598328883333, 42324.657566922644, 1469.9887585154192, 1272.7857475749106, 924.620919672961, 440.82889764824324, 435.1275449137175, 392.12321218137026, 387.5892915105878, 370.43980938815537, 362.016474290066, 219.36608007975258, 184.38641164994297, 111.66336928406638, 103.89733235590302, 92.75981523427909, 91.19480984571138, 85.1894167145128, 67.81385558746214, 67.21654174882532, 59.20291343767997, 54.723671267303885, 47.615832534531066, 43.694113731831585, 38.80375321653978, 35.167245628260225, 33.611332827652056, 30.01080546088545, 29.812424948101288, 28.889300542310185, 28.6777280915193, 27.955299143238673, 26.84876974236701, 976.5187576715613, 895.7362280612484, 558.8344594047633, 479.7881044097285, 231.74380248895008, 218.4397623398513, 169.10877293582817, 153.65305145268795, 147.87214647389123, 131.96345390257417, 127.48066380913161, 105.52491744844691, 66.27977813159266, 62.00152084954961, 57.05837443808949, 54.77899457969578, 43.93252081455394, 43.693338502140016, 39.36064704091651, 36.296882021316954, 34.519947036769736, 30.938617974319552, 26.458533514500964, 25.283439178934103, 24.513396589360433, 21.289076138513586, 20.010964224353764, 18.934132238613877, 17.414573985288527, 17.062109914546074, 42324.657566922644, 602.8293223442165, 480.47664111466656, 404.5965701301774, 403.1099518935397, 187.91777538853648, 175.4659480165612, 174.44875958967077, 173.3398025822824, 148.5067311155432, 132.86183222992904, 131.096790090268, 125.70859291612528, 106.4989322639775, 91.1893446082999, 88.20656944831214, 86.75737503092306, 83.59508832347744, 83.1408419542263, 79.64995851971553, 79.25736396781454, 77.12105755572952, 65.13168782276738, 56.552268030798004, 55.587295267588935, 55.538886778487715, 50.25787130039767, 45.326606584327116, 44.96958176958419, 43.78825831719242, 40.69285936365535, 42324.657566922644, 724.663040969211, 630.9939822245757, 568.0207232994007, 408.6794142334929, 227.68011126786686, 227.6567392402835, 170.45078320079523, 109.07201658996813, 96.68931410744781, 82.88249237634123, 80.3344929596651, 71.49870324862944, 64.25796561381995, 55.54929868301562, 53.2928014008204, 49.7163764942757, 49.314161464130976, 45.98750007963798, 45.201653948359905, 40.16641533220621, 36.59068107496132, 35.12078695681497, 34.0552997948543, 30.276181781884983, 29.04245087443107, 27.685094727732537, 26.33561897381743, 20.78838568834283, 17.86274498502768, 17.210537534110756, 776.6799506990275, 2174.5004143451306, 847.1377421207966, 42324.657566922644, 395.72940933413076, 1081.7057768992165, 910.1692534251241, 322.8875516855393, 157.04117362964365, 154.23922970387315, 144.38227650623884, 135.09775156250882, 130.64836424524495, 124.62537967294, 99.31874676292131, 86.64675142338734, 85.99718943832703, 77.87438325001615, 74.47720784271922, 68.26867923233637, 58.4600984465948, 54.79235320144139, 47.20609408453071, 43.41877098342545, 40.38339740793989, 39.87368765926905, 39.00660576191997, 39.00660576191997, 39.00660576191997, 38.64041907754041, 38.13164850472732, 37.819932860049185, 37.32578001352505, 36.539831638742264, 36.041072454017076, 42324.657566922644, 680.7715195022105, 423.7572493335227, 380.9016252247753, 340.6968752082907, 220.79743971565063, 204.90197582284992, 204.32965263230764, 164.4589073547984, 159.57698431332153, 141.2201321382058, 111.2427409335846, 90.49079210639766, 71.79433817944181, 70.88778237024209, 67.94949452742718, 63.31471192098054, 55.98973887472595, 54.803390531583325, 47.79893418153674, 47.45976250327888, 38.58149934266553, 38.32752065384707, 35.18313126254318, 34.754015283594974, 33.55739002033532, 32.2202905961225, 31.381591147088265, 28.18731699912894, 27.955818977462148, 27.686259623510526, 42324.657566922644, 1280.4667279409348, 1021.8429373503166, 643.8371028787811, 178.515885531988, 130.33040008808803, 115.93739188177841, 70.46009395942598, 55.692559958922, 53.66715747188649, 52.189913866715166, 51.7516459973011, 48.3740574640334, 46.57555267151738, 45.912050151637644, 44.959039244132505, 42.15092147714018, 39.857508365745495, 39.57056731992341, 37.280740066814694, 35.80425046271353, 34.318022651512614, 31.31590227543939, 26.14334530546238, 26.0569976348546, 24.041030900898537, 24.0173819551348, 23.784144207598825, 22.90357813643495, 20.070686360298208, 19.09309836097618, 42324.657566922644, 245.78555214899853, 235.89909497190928, 181.02913036957736, 174.9395761658517, 165.10167197774678, 158.02980067366275, 139.0232899510354, 138.83813303254294, 121.42899717227331, 120.46802984500096, 108.60817890739646, 106.36754361144037, 96.16550938584416, 87.62236946839741, 83.60206920143689, 83.11110307042287, 75.64591859752308, 69.54042967115966, 64.35119142807912, 61.739677217678334, 58.07811049466233, 57.87852861497588, 57.08215806695494, 54.02976830173232, 52.48253993087667, 52.3336777420454, 50.769519532175615, 50.13447936690852, 49.05204816331957, 48.40955067414926, 42324.657566922644, 724.3032668761751, 361.5864004772572, 173.69904779077856, 171.26368685702113, 160.05169137042898, 151.29410024473665, 149.65862884690603, 141.02515095411877, 129.95382417875294, 123.666513045785, 110.25823194125184, 105.50564736144612, 98.03849713016494, 86.98646557696529, 75.1866209134301, 72.0298133711244, 67.94483832734994, 67.46800006511211, 62.061289372594146, 59.28572375758657, 58.99758348557661, 58.13351919712846, 53.44741855072954, 51.00227182010063, 49.66302932432785, 49.596404253468855, 44.902047387771404, 44.18619462866078, 43.65099209726859, 43.28949750662816, 42324.657566922644, 506.1201693700007, 453.0787706275189, 158.1797989105045, 154.50333091208367, 142.91949441659355, 118.5540806559447, 118.16862875621123, 87.77954998719657, 76.54406935428199, 76.26742388202187, 74.9295096557465, 74.17464677881975, 71.17412520043318, 66.56156534986602, 63.75683090680909, 62.95646011966833, 62.1129538948113, 59.95117416944661, 56.829604748912764, 52.870060483819046, 51.86465606487919, 50.7687157466898, 49.247084473204545, 48.095445734815904, 47.2529761239054, 45.3627367324252, 44.642874036565615, 40.62204850962305, 37.248561617683606, 36.480659591521544, 42324.657566922644, 1582.7301539540792, 577.904272938316, 370.50693263507395, 165.57687716240204, 110.9456721862695, 92.0373272392806, 87.22304529897158, 66.37316186670736, 50.09518682088852, 45.55532410721147, 39.17042536171822, 37.85121064366676, 33.73292971390919, 31.67805889424564, 31.086948823957606, 30.25956805284508, 27.112084848847104, 23.599822927300956, 21.48632377316574, 20.143097714479413, 18.197271252229793, 16.736874353864405, 15.437419986702412, 14.69897607408987, 14.669411601639439, 13.728927918800146, 13.709852827379086, 13.700694742834994, 13.349549029223613, 12.82597642505659, 27657.777195255818, 1093.0697084560932, 335.6354065096349, 310.2107980205635, 307.2155671035253, 301.02227388364145, 286.483750069852, 283.5439202621864, 253.62520110055016, 245.55880750338724, 193.58932493855366, 157.5794130326996, 139.6491677580132, 135.39614203323546, 87.50240433201695, 85.58972856265548, 80.13523270968447, 79.37679635795733, 65.81978180121013, 62.44298336766499, 49.131929467327616, 48.99028459826958, 45.77268846451904, 41.402849775310216, 38.95172165392328, 38.10661157951825, 36.467511551478424, 36.15669834624128, 35.867101231814736, 33.11493389623735, 31.426876509924135, 3075.536135480786, 508.51511093461494, 227.1306920648357, 142.5751088427001, 127.88772219915937, 105.36929346121481, 99.6451889565249, 85.65534289001764, 80.65402801445937, 72.88553509851484, 63.2942382634183, 55.205261270579314, 43.35477654718813, 40.641693925396915, 40.514308236173385, 40.2218324932501, 37.34491418938339, 33.14746579183553, 31.37269200924614, 30.17591133522701, 27.667063696666325, 25.02993959019888, 23.458778372869318, 21.282021205616786, 21.218477824133515, 21.053424962742884, 20.847561607411386, 20.5450272323231, 19.6538666222261, 18.535758183185827, 920.4488500596112, 838.2575643858423, 496.7397875418543, 309.24849181809503, 197.39449907647227, 166.5993586296747, 144.46667074178168, 113.53372950952966, 102.60563721915479, 97.62857389926069, 90.36303242239686, 87.62836927348853, 75.90280141177382, 65.72208111101718, 53.85827345872823, 48.934947067590166, 48.135522063682956, 47.61335569097819, 47.579359903729014, 47.2843434690735, 45.905164693935895, 44.47216332125817, 42.67405106411961, 41.73095631615394, 39.467810158660384, 37.392480842342245, 35.22042513759911, 34.7332317537831, 31.97127481023765, 28.927283896961818, 279.33395889215257, 243.01538713413714, 191.90275899832346, 178.3527061835249, 172.048695899134, 168.1649139354631, 163.02928658014633, 154.29946900840645, 146.91454076206892, 133.3813126053862, 133.03776414837665, 123.25501952923223, 112.79199045841672, 111.93906737945088, 107.61888296917544, 97.25276452074682, 96.51544675665372, 96.09422132825291, 94.91821488314937, 83.72413183394144, 68.21967065482032, 67.71069729244572, 62.70250666271042, 57.82339013904502, 57.348938968613105, 55.77023155287324, 53.57929321589602, 52.49171056861752, 50.99466624822919, 48.4737861091593, 624.7086329083238, 333.5289725744096, 250.75342238928326, 236.39000474911506, 213.7752704562828, 164.56049477082533, 157.75262743901143, 149.29068607994273, 144.89295687092329, 127.4301458722427, 117.10144660635005, 111.07780222481284, 102.9722020126539, 96.90506702038223, 91.28355466820746, 85.3783153638731, 82.77146644363067, 82.67234026376624, 80.22271800979416, 73.9580517412637, 71.91400571782854, 70.85415665936917, 69.37147454520323, 67.26862612926816, 60.629442168052535, 58.07023312589234, 49.39243300532301, 48.57198536606566, 47.79111021071852, 44.46979245962627, 579.6831104829496, 516.045401872647, 486.3387967042522, 459.6951357790821, 404.8243252971329, 226.80953420873033, 179.09423174138433, 156.7900282111106, 130.4189528291488, 91.16655395895853, 91.1070352028058, 83.72121130025502, 79.0856452306684, 76.47762382915299, 75.68022884428566, 75.66240833408376, 55.86614274662843, 52.06637452595303, 50.66741196017752, 46.200138097331575, 41.84276501471095, 38.76436494382849, 36.08960482510711, 33.88176365318229, 30.983390558997858, 29.392408995174613, 27.81142507020614, 27.29582913715627, 27.136215375613414, 25.029821494775, 1019.2029148744459, 465.04316161177735, 291.38255072694585, 258.6144903186915, 249.26208921666256, 206.33757911134805, 117.3168284993295, 115.45867593225853, 113.84291024373495, 107.62341780020162, 97.76744727611981, 80.85801165798628, 70.18563526542479, 60.8241389296812, 58.116138213609055, 49.42548900562593, 47.882395217840376, 46.106775609722526, 45.83736271120158, 43.87735610989664, 42.27661867868101, 41.969887590007836, 38.19445350153082, 37.84731345929805, 35.60269359728451, 34.12583843132025, 31.977290022840414, 30.393333382504974, 30.32134363248698, 29.481634178964313, 346.17568189378585, 321.79552144114126, 265.95425266148885, 243.30102450664543, 237.50014725473108, 212.96584036544598, 188.9992335522299, 119.55662087014022, 115.56415456084646, 109.97732881760106, 106.14222801513918, 98.76483432446152, 96.93887238986987, 93.00511530600998, 83.68391449097095, 76.53840847325458, 73.45590236532392, 69.9294513249999, 61.69873843653179, 58.97957062420063, 53.9799190355248, 44.75006965366416, 41.716471397995825, 41.10731140512884, 40.112635610247786, 37.799228145535594, 37.61478608402171, 37.11034993697079, 37.08179585360133, 36.20680948013568, 499.84513290534653, 476.86839703469315, 273.97517509725606, 185.453845734565, 173.89241864881262, 137.34310708243544, 90.41045217670592, 80.15054845355174, 78.77190702269887, 77.70642343277237, 67.67028131453334, 65.20822364819688, 62.53036872519613, 61.930444285308965, 54.41661590525966, 51.936259735344755, 51.45587993786394, 50.50232753169238, 43.248634760616255, 40.72658910742283, 38.632639340116974, 37.672096099558786, 37.52742502968873, 35.949306918902835, 34.463490946134236, 34.19989173106951, 32.22014735885136, 31.594966409471873, 30.598137105167517, 29.20756869133725, 27657.777195255818], \"loglift\": [30.0, 29.0, 28.0, 27.0, 26.0, 25.0, 24.0, 23.0, 22.0, 21.0, 20.0, 19.0, 18.0, 17.0, 16.0, 15.0, 14.0, 13.0, 12.0, 11.0, 10.0, 9.0, 8.0, 7.0, 6.0, 5.0, 4.0, 3.0, 2.0, 1.0, 2.2377, 2.2139, 2.2122, 2.1919, 2.1461, 2.1438, 2.1131, 2.0434, -1.9311, -3.5264, -3.8832, -3.9032, -3.9117, -3.9539, -3.9753, -3.9933, -4.0109, -4.0173, -4.0244, -4.0337, -4.0445, -4.0566, -4.0691, -4.07, -4.0797, -4.0823, -4.0844, -4.0916, -4.096, -4.0994, -4.6142, -4.3085, -4.2545, -4.7149, -4.3982, -4.5835, -6.0595, -4.8546, -4.5822, -5.1361, -5.4801, -5.1479, -5.3434, -4.5651, -4.6887, -4.4475, -5.6235, -5.2252, -6.3539, -6.7184, -6.1202, 2.7335, 2.7334, 2.7324, 2.7323, 2.7294, 2.7294, 2.7286, 2.7284, 2.7279, 2.7275, 2.7273, 2.7265, 2.7253, 2.7244, 2.7232, 2.7222, 2.7222, 2.7211, 2.7197, 2.7191, 2.717, 2.7168, 2.7158, 2.7149, 2.7136, 2.7123, 2.7119, 2.7118, 2.707, 2.7044, 2.5381, 2.2937, 2.1118, 1.4944, 0.0701, 2.7845, 2.7827, 2.7815, 2.7812, 2.7809, 2.7808, 2.7778, 2.7773, 2.7762, 2.7734, 2.7726, 2.7697, 2.7697, 2.767, 2.7661, 2.7653, 2.7649, 2.7627, 2.7615, 2.7575, 2.7545, 2.7544, 2.7524, 2.7517, 2.7499, 2.7483, 2.7457, 2.7442, 2.7435, 2.7412, 1.495, 3.1079, 3.1073, 3.1062, 3.1032, 3.1029, 3.102, 3.1018, 3.1, 3.0998, 3.0989, 3.0975, 3.096, 3.0958, 3.0957, 3.0922, 3.0908, 3.0899, 3.0888, 3.0878, 3.0876, 3.0875, 3.0861, 3.0853, 3.0849, 3.0847, 3.0824, 3.0821, 3.0789, 3.077, 3.0731, 0.3724, 3.1497, 3.1494, 3.1494, 3.1491, 3.1487, 3.1486, 3.1485, 3.1483, 3.1465, 3.1456, 3.1452, 3.1431, 3.1419, 3.1414, 3.1392, 3.1385, 3.1376, 3.1371, 3.1349, 3.1343, 3.1338, 3.1325, 3.1314, 3.1307, 3.1285, 3.1278, 3.1238, 3.1236, 3.1224, 3.1212, 0.0781, 3.2579, 3.2569, 3.2563, 3.2558, 3.2556, 3.2554, 3.2553, 3.2552, 3.2548, 3.2544, 3.2535, 3.2531, 3.2527, 3.2494, 3.2483, 3.2472, 3.2468, 3.2444, 3.243, 3.2426, 3.2402, 3.238, 3.2378, 3.2378, 3.2348, 3.2347, 3.2344, 3.2343, 3.2324, 3.2319, 1.341, -0.4025, 3.2663, 3.2663, 3.2656, 3.2655, 3.2652, 3.2652, 3.2636, 3.2635, 3.2631, 3.262, 3.2612, 3.2612, 3.2609, 3.2606, 3.2599, 3.2596, 3.2587, 3.2586, 3.2579, 3.2579, 3.2575, 3.2563, 3.2539, 3.2537, 3.2536, 3.2525, 3.2507, 3.25, 3.2496, 3.249, 0.2677, 3.2862, 3.2858, 3.2857, 3.2841, 3.2839, 3.2833, 3.2812, 3.2807, 3.2797, 3.2787, 3.2779, 3.2763, 3.2752, 3.2737, 3.2729, 3.2693, 3.2673, 3.2672, 3.2669, 3.2666, 3.2611, 3.2611, 3.2607, 3.2596, 3.2587, 3.2587, 3.2587, 3.2554, 3.253, 3.253, 0.417, 3.3678, 3.3677, 3.3671, 3.3651, 3.365, 3.3634, 3.3629, 3.3604, 3.3603, 3.3584, 3.3579, 3.3572, 3.3551, 3.3541, 3.3505, 3.3492, 3.3487, 3.3482, 3.3479, 3.3454, 3.3391, 3.3381, 3.3378, 3.3375, 3.3366, 3.3359, 3.3345, 3.3313, 3.3297, 3.3292, 3.2782, 3.117, 3.4688, 3.4677, 3.4675, 3.4653, 3.4653, 3.4651, 3.4619, 3.4602, 3.4577, 3.4557, 3.455, 3.4534, 3.4527, 3.4524, 3.4503, 3.4498, 3.4497, 3.4495, 3.449, 3.4481, 3.4478, 3.4473, 3.4449, 3.438, 3.4379, 3.4368, 3.4355, 3.4349, 3.4325, 3.4325, 3.192, 3.127, 0.1708, 3.5835, 3.5825, 3.5818, 3.5813, 3.5804, 3.579, 3.5785, 3.576, 3.5747, 3.5735, 3.573, 3.5703, 3.5693, 3.5692, 3.5682, 3.5681, 3.5679, 3.5667, 3.5627, 3.5618, 3.5602, 3.5599, 3.5586, 3.5571, 3.5568, 3.5557, 3.5551, 3.5537, 3.5513, 3.5513, 0.6931, 3.5931, 3.5915, 3.5913, 3.5898, 3.5898, 3.5897, 3.5896, 3.5893, 3.5885, 3.5875, 3.5875, 3.5842, 3.5831, 3.5827, 3.5826, 3.5816, 3.5771, 3.5754, 3.5753, 3.5747, 3.5741, 3.5708, 3.5702, 3.5668, 3.5652, 3.5636, 3.5627, 3.5624, 3.559, 3.554, 2.0903, -0.3721, 1.1405, 3.6327, 3.6324, 3.631, 3.631, 3.6307, 3.6307, 3.6305, 3.6305, 3.6284, 3.6275, 3.6235, 3.6227, 3.6214, 3.6212, 3.6203, 3.6169, 3.6167, 3.6144, 3.6128, 3.6097, 3.6075, 3.6042, 3.6011, 3.5996, 3.5954, 3.5952, 3.5939, 3.5936, 3.5926, 3.5909, 3.6475, 3.6474, 3.6467, 3.6463, 3.6438, 3.6435, 3.642, 3.6413, 3.641, 3.6401, 3.6398, 3.638, 3.6316, 3.6304, 3.6288, 3.6279, 3.6227, 3.6226, 3.6197, 3.6172, 3.6155, 3.6116, 3.6052, 3.6031, 3.6017, 3.5943, 3.5908, 3.5874, 3.5818, 3.5804, 0.2399, 3.6668, 3.6663, 3.6659, 3.6659, 3.6627, 3.6622, 3.6622, 3.6622, 3.6611, 3.6602, 3.6601, 3.6597, 3.6581, 3.6563, 3.6558, 3.6556, 3.6551, 3.6551, 3.6545, 3.6544, 3.654, 3.6513, 3.6486, 3.6482, 3.6482, 3.6461, 3.6436, 3.6434, 3.6427, 3.6407, 0.1223, 3.6711, 3.6709, 3.6707, 3.6699, 3.6677, 3.6677, 3.6661, 3.6623, 3.661, 3.6591, 3.6586, 3.6569, 3.6551, 3.6523, 3.6514, 3.6499, 3.6497, 3.648, 3.6475, 3.6443, 3.6415, 3.6402, 3.6392, 3.6349, 3.6333, 3.6313, 3.6291, 3.6172, 3.6078, 3.6052, 2.8999, 2.1054, 2.2514, -0.2288, 1.9297, 3.6959, 3.6957, 3.6934, 3.6897, 3.6896, 3.6891, 3.6885, 3.6883, 3.6878, 3.6855, 3.6838, 3.6837, 3.6824, 3.6817, 3.6803, 3.6775, 3.6762, 3.6728, 3.6707, 3.6687, 3.6683, 3.6676, 3.6676, 3.6676, 3.6674, 3.667, 3.6667, 3.6663, 3.6656, 3.6652, 0.0205, 3.7127, 3.7117, 3.7114, 3.711, 3.7092, 3.7088, 3.7088, 3.7075, 3.7073, 3.7064, 3.7042, 3.7019, 3.6986, 3.6984, 3.6977, 3.6964, 3.6941, 3.6936, 3.6906, 3.6904, 3.6848, 3.6846, 3.6819, 3.6815, 3.6803, 3.6789, 3.6779, 3.6737, 3.6733, 3.6729, 0.4101, 3.7159, 3.7157, 3.715, 3.7104, 3.7081, 3.707, 3.7007, 3.6964, 3.6956, 3.695, 3.6948, 3.6932, 3.6923, 3.692, 3.6914, 3.6897, 3.6881, 3.6879, 3.6861, 3.6848, 3.6834, 3.6802, 3.6728, 3.6726, 3.6688, 3.6688, 3.6683, 3.6664, 3.6591, 3.656, 0.3369, 3.7197, 3.7195, 3.7181, 3.7178, 3.7174, 3.7171, 3.7162, 3.7162, 3.715, 3.7149, 3.7139, 3.7137, 3.7125, 3.7114, 3.7107, 3.7107, 3.7093, 3.708, 3.7067, 3.7059, 3.7047, 3.7047, 3.7044, 3.7033, 3.7026, 3.7026, 3.7019, 3.7016, 3.7011, 3.7008, 0.5794, 3.7468, 3.7453, 3.7419, 3.7418, 3.7413, 3.7409, 3.7408, 3.7404, 3.7397, 3.7392, 3.7381, 3.7377, 3.7369, 3.7354, 3.7333, 3.7327, 3.7317, 3.7316, 3.7301, 3.7293, 3.7292, 3.7289, 3.7272, 3.7261, 3.7255, 3.7255, 3.7231, 3.7226, 3.7223, 3.7221, 0.3502, 3.7529, 3.7527, 3.748, 3.7479, 3.7473, 3.7456, 3.7456, 3.7423, 3.7404, 3.7403, 3.7401, 3.7399, 3.7393, 3.7381, 3.7374, 3.7372, 3.7369, 3.7363, 3.7352, 3.7337, 3.7333, 3.7328, 3.7321, 3.7315, 3.7311, 3.7301, 3.7297, 3.7271, 3.7245, 3.7239, 0.6835, 3.7732, 3.7719, 3.7708, 3.7671, 3.7637, 3.7616, 3.7609, 3.7568, 3.7512, 3.7489, 3.7447, 3.7437, 3.74, 3.7377, 3.737, 3.736, 3.7315, 3.725, 3.7201, 3.7164, 3.71, 3.7043, 3.6982, 3.6942, 3.6941, 3.6884, 3.6882, 3.6882, 3.6858, 3.6821, 1.1447, 3.8071, 3.8048, 3.8045, 3.8045, 3.8044, 3.8042, 3.8042, 3.8037, 3.8036, 3.8023, 3.801, 3.8001, 3.7998, 3.7953, 3.795, 3.7941, 3.7939, 3.791, 3.79, 3.7851, 3.785, 3.7833, 3.7807, 3.7789, 3.7783, 3.7769, 3.7766, 3.7764, 3.7737, 3.7718, 3.8261, 3.8242, 3.8215, 3.8185, 3.8176, 3.8157, 3.8151, 3.8132, 3.8124, 3.8109, 3.8085, 3.8058, 3.8001, 3.7983, 3.7982, 3.798, 3.7958, 3.7919, 3.7899, 3.7884, 3.7849, 3.7804, 3.7772, 3.7721, 3.7719, 3.7715, 3.7709, 3.7701, 3.7674, 3.7637, 3.8825, 3.8823, 3.8814, 3.8801, 3.878, 3.8769, 3.8759, 3.8738, 3.8727, 3.8722, 3.8712, 3.8708, 3.8688, 3.8665, 3.8627, 3.8606, 3.8602, 3.8599, 3.8599, 3.8598, 3.859, 3.8582, 3.8571, 3.8565, 3.855, 3.8533, 3.8514, 3.851, 3.8481, 3.8443, 3.9061, 3.9055, 3.9043, 3.9038, 3.9036, 3.9035, 3.9033, 3.9029, 3.9025, 3.9017, 3.9017, 3.901, 3.9002, 3.9001, 3.8997, 3.8986, 3.8985, 3.8984, 3.8983, 3.8967, 3.8936, 3.8935, 3.8921, 3.8906, 3.8904, 3.8899, 3.889, 3.8886, 3.888, 3.8868, 3.9388, 3.9372, 3.9361, 3.9359, 3.9354, 3.9338, 3.9335, 3.9331, 3.9328, 3.9318, 3.931, 3.9305, 3.9297, 3.929, 3.9283, 3.9274, 3.927, 3.927, 3.9266, 3.9254, 3.9249, 3.9247, 3.9243, 3.9238, 3.922, 3.9212, 3.9177, 3.9173, 3.9169, 3.9151, 3.9643, 3.9641, 3.964, 3.9638, 3.9635, 3.9613, 3.96, 3.9591, 3.9577, 3.9539, 3.9539, 3.9528, 3.952, 3.9516, 3.9514, 3.9514, 3.9461, 3.9446, 3.944, 3.9418, 3.9392, 3.9371, 3.9349, 3.9328, 3.9296, 3.9276, 3.9253, 3.9245, 3.9243, 3.9207, 4.0325, 4.0311, 4.0297, 4.0292, 4.0291, 4.0281, 4.024, 4.0238, 4.0237, 4.0231, 4.0221, 4.0197, 4.0175, 4.015, 4.0142, 4.0107, 4.01, 4.009, 4.0089, 4.0078, 4.0068, 4.0066, 4.0039, 4.0036, 4.0017, 4.0003, 3.998, 3.9961, 3.9961, 3.995, 4.0756, 4.0754, 4.0747, 4.0743, 4.0742, 4.0736, 4.073, 4.0695, 4.0692, 4.0687, 4.0683, 4.0675, 4.0673, 4.0668, 4.0655, 4.0642, 4.0636, 4.0628, 4.0607, 4.0598, 4.0581, 4.0537, 4.0519, 4.0515, 4.0508, 4.049, 4.0489, 4.0485, 4.0484, 4.0477, 4.1164, 4.1163, 4.1146, 4.1126, 4.1122, 4.1105, 4.1063, 4.1047, 4.1045, 4.1043, 4.1021, 4.1015, 4.1007, 4.1006, 4.098, 4.0971, 4.0968, 4.0964, 4.0927, 4.091, 4.0895, 4.0888, 4.0886, 4.0873, 4.0859, 4.0857, 4.0836, 4.0829, 4.0817, 4.0799, 0.0359], \"logprob\": [30.0, 29.0, 28.0, 27.0, 26.0, 25.0, 24.0, 23.0, 22.0, 21.0, 20.0, 19.0, 18.0, 17.0, 16.0, 15.0, 14.0, 13.0, 12.0, 11.0, 10.0, 9.0, 8.0, 7.0, 6.0, 5.0, 4.0, 3.0, 2.0, 1.0, -3.6284, -6.3771, -6.4429, -7.0109, -0.0335, -7.7351, -8.0292, -8.5044, -14.1897, -14.1897, -14.1897, -14.1897, -14.1897, -14.1897, -14.1897, -14.1897, -14.1897, -14.1897, -14.1897, -14.1897, -14.1897, -14.1897, -14.1897, -14.1897, -14.1897, -14.1897, -14.1897, -14.1897, -14.1897, -14.1897, -14.1897, -14.1897, -14.1897, -14.1897, -14.1897, -14.1897, -14.1897, -14.1897, -14.1897, -14.1897, -14.1897, -14.1897, -14.1897, -14.1897, -14.1897, -14.1897, -14.1897, -14.1897, -14.1897, -14.1897, -14.1897, -1.6448, -1.8699, -3.0308, -3.0606, -4.129, -4.1405, -4.3015, -4.3341, -4.4244, -4.4887, -4.5172, -4.6328, -4.7861, -4.8923, -5.015, -5.0982, -5.1059, -5.1912, -5.2986, -5.3413, -5.4737, -5.4854, -5.5437, -5.5951, -5.6576, -5.725, -5.7404, -5.7458, -5.9464, -6.0399, -3.8885, -2.429, -3.6405, -3.7129, -1.684, -3.6494, -4.1345, -4.3623, -4.4042, -4.4598, -4.4778, -4.8528, -4.8968, -5.0023, -5.2295, -5.2824, -5.4645, -5.4674, -5.6088, -5.6546, -5.6895, -5.7095, -5.8021, -5.8511, -5.9966, -6.0918, -6.0948, -6.1553, -6.1758, -6.2254, -6.2676, -6.3356, -6.3716, -6.3875, -6.4391, -0.2592, -1.1366, -2.1924, -3.0047, -3.8831, -3.9474, -4.1024, -4.1431, -4.3839, -4.4047, -4.5069, -4.6518, -4.7782, -4.7947, -4.8087, -5.0562, -5.1382, -5.189, -5.2455, -5.2958, -5.3065, -5.3117, -5.3766, -5.4166, -5.431, -5.4388, -5.5351, -5.5473, -5.6646, -5.7276, -5.8472, -1.3817, -2.2298, -2.4428, -2.4976, -2.6857, -2.8926, -2.9756, -3.0251, -3.0774, -3.6604, -3.856, -3.9312, -4.2608, -4.3993, -4.4557, -4.6777, -4.7345, -4.8091, -4.8422, -4.9943, -5.0315, -5.0641, -5.1357, -5.1986, -5.2316, -5.3377, -5.3717, -5.5341, -5.5397, -5.5836, -5.6255, -1.6761, -1.639, -2.6154, -2.9236, -3.1358, -3.1947, -3.2534, -3.2843, -3.3089, -3.4366, -3.5357, -3.7286, -3.8141, -3.8937, -4.3362, -4.4476, -4.5544, -4.5855, -4.7724, -4.8714, -4.899, -5.0404, -5.1503, -5.1625, -5.1636, -5.2998, -5.3045, -5.3156, -5.3188, -5.396, -5.4172, -3.3818, -2.1567, -2.681, -2.708, -3.0221, -3.0645, -3.1585, -3.1662, -3.6083, -3.624, -3.7172, -3.9139, -4.0446, -4.0471, -4.0817, -4.1308, -4.2162, -4.2481, -4.3585, -4.3661, -4.4312, -4.4349, -4.4752, -4.579, -4.7678, -4.7802, -4.787, -4.8627, -4.9757, -5.0138, -5.0381, -5.0669, -1.4865, -1.9845, -2.3762, -2.4118, -3.188, -3.2404, -3.4332, -3.8663, -3.9546, -4.09, -4.2177, -4.3149, -4.4802, -4.5726, -4.6942, -4.7484, -4.9817, -5.086, -5.0914, -5.1091, -5.1231, -5.3618, -5.3626, -5.3765, -5.4197, -5.4505, -5.4509, -5.4535, -5.5644, -5.6374, -5.6392, -1.3372, -2.1835, -2.2803, -2.6153, -3.3751, -3.3865, -3.7266, -3.8203, -4.1644, -4.1703, -4.376, -4.4177, -4.48, -4.6499, -4.7154, -4.9332, -5.0051, -5.0274, -5.0536, -5.0697, -5.1819, -5.424, -5.4558, -5.4661, -5.4748, -5.5044, -5.5257, -5.5679, -5.6596, -5.7001, -5.713, -1.836, -1.4969, -2.1155, -2.7217, -2.8334, -3.4546, -3.4553, -3.492, -4.0094, -4.2019, -4.4306, -4.5754, -4.6242, -4.7271, -4.7704, -4.7891, -4.9042, -4.928, -4.93, -4.9405, -4.9664, -5.008, -5.0235, -5.0444, -5.1467, -5.3931, -5.3974, -5.4314, -5.4705, -5.4866, -5.5536, -5.5546, -2.4734, -2.0803, -1.5834, -2.269, -2.7444, -2.9938, -3.1494, -3.3496, -3.6139, -3.6858, -4.0097, -4.1437, -4.25, -4.2994, -4.5016, -4.5674, -4.5684, -4.6338, -4.6356, -4.6493, -4.7175, -4.9163, -4.958, -5.0219, -5.0364, -5.0866, -5.1407, -5.1531, -5.193, -5.2124, -5.2585, -5.3324, -5.3341, -1.0611, -1.7973, -2.7432, -2.8164, -3.2347, -3.256, -3.27, -3.2879, -3.3601, -3.5081, -3.6723, -3.6747, -4.0868, -4.1949, -4.2275, -4.2395, -4.3212, -4.6298, -4.7279, -4.7317, -4.7653, -4.7919, -4.9502, -4.9736, -5.1097, -5.1663, -5.2209, -5.2506, -5.2614, -5.3647, -5.4995, -2.5235, -2.1262, -3.9738, -1.6256, -1.9455, -2.6876, -2.7007, -2.805, -2.8167, -2.8621, -2.8851, -3.3881, -3.5628, -4.0683, -4.1412, -4.2559, -4.2731, -4.3421, -4.5736, -4.5826, -4.7119, -4.7921, -4.9344, -5.0225, -5.1446, -5.246, -5.2928, -5.4103, -5.4172, -5.4499, -5.4575, -5.4841, -5.5262, -1.8758, -1.9622, -2.4348, -2.5876, -3.3178, -3.3773, -3.6347, -3.7313, -3.7699, -3.8846, -3.9195, -4.1104, -4.5818, -4.6498, -4.7345, -4.7761, -5.0019, -5.0075, -5.1149, -5.1984, -5.2502, -5.3637, -5.5265, -5.574, -5.6064, -5.7548, -5.8202, -5.879, -5.9681, -5.99, -1.5143, -2.3389, -2.5662, -2.7385, -2.7422, -3.5086, -3.5776, -3.5835, -3.5899, -3.7456, -3.8578, -3.8713, -3.9136, -4.0811, -4.2381, -4.2718, -4.2885, -4.3262, -4.3317, -4.3752, -4.3802, -4.4079, -4.5796, -4.7235, -4.7411, -4.742, -4.8441, -4.9498, -4.9579, -4.9853, -5.0606, -1.6319, -2.1504, -2.2891, -2.3944, -2.7244, -3.3116, -3.3117, -3.6028, -4.0529, -4.1748, -4.3308, -4.3625, -4.4807, -4.5893, -4.7377, -4.7801, -4.8511, -4.8594, -4.9309, -4.9486, -5.0699, -5.166, -5.2083, -5.2401, -5.362, -5.4053, -5.4551, -5.5072, -5.7557, -5.9168, -5.9565, -2.8523, -2.6174, -3.414, -1.983, -4.4968, -1.7251, -1.898, -2.9366, -3.6611, -3.6792, -3.7457, -3.8127, -3.8465, -3.8941, -4.1234, -4.2616, -4.2692, -4.3698, -4.4151, -4.5035, -4.6615, -4.7276, -4.88, -4.9657, -5.0402, -5.0533, -5.0759, -5.0759, -5.0759, -5.0856, -5.0993, -5.1077, -5.1213, -5.1433, -5.1574, -1.7336, -2.1714, -2.6464, -2.7534, -2.8653, -3.3008, -3.3759, -3.3787, -3.5971, -3.6275, -3.7506, -3.9914, -4.2002, -4.4349, -4.4478, -4.4908, -4.5627, -4.688, -4.7099, -4.8497, -4.857, -5.0697, -5.0765, -5.1648, -5.1775, -5.2137, -5.2558, -5.2832, -5.3947, -5.4033, -5.4134, -1.3441, -1.5364, -1.7623, -2.2248, -3.5122, -3.8291, -3.9472, -4.4516, -4.6911, -4.7289, -4.7574, -4.766, -4.8351, -4.8739, -4.8886, -4.9101, -4.9763, -5.0338, -5.0413, -5.1027, -5.1444, -5.1882, -5.283, -5.4709, -5.4744, -5.5587, -5.5597, -5.57, -5.6096, -5.7489, -5.8019, -1.4173, -3.1831, -3.2244, -3.4906, -3.525, -3.5833, -3.6274, -3.7565, -3.7578, -3.893, -3.901, -4.0057, -4.0267, -4.1287, -4.2229, -4.2705, -4.2764, -4.3719, -4.4574, -4.5363, -4.5785, -4.6408, -4.6443, -4.6584, -4.7145, -4.7442, -4.7471, -4.7781, -4.791, -4.8133, -4.8268, -1.1748, -2.0753, -2.7715, -3.5081, -3.5223, -3.5905, -3.6471, -3.6581, -3.718, -3.8004, -3.8505, -3.9663, -4.0109, -4.0851, -4.2062, -4.354, -4.3975, -4.4569, -4.464, -4.549, -4.5957, -4.6006, -4.6157, -4.7014, -4.7493, -4.7765, -4.7779, -4.8797, -4.8962, -4.9087, -4.9173, -1.404, -2.4276, -2.5385, -3.5955, -3.6192, -3.6977, -3.8863, -3.8896, -4.1902, -4.329, -4.3327, -4.3507, -4.361, -4.4029, -4.471, -4.5148, -4.5277, -4.5414, -4.5775, -4.632, -4.7058, -4.7254, -4.7472, -4.7783, -4.8026, -4.8207, -4.8625, -4.8789, -4.9759, -5.0651, -5.0866, -1.0706, -1.2672, -2.2759, -2.7216, -3.5308, -3.9346, -4.1235, -4.1779, -4.4552, -4.7422, -4.8395, -4.9946, -5.0299, -5.1489, -5.2139, -5.2335, -5.2615, -5.3758, -5.521, -5.6198, -5.688, -5.796, -5.8854, -5.9723, -6.0253, -6.0275, -6.0994, -6.1009, -6.1017, -6.13, -6.1738, -1.0349, -1.6034, -2.7865, -2.8655, -2.8752, -2.8957, -2.9454, -2.9557, -3.0677, -3.1002, -3.3392, -3.5464, -3.6681, -3.6993, -4.1404, -4.1628, -4.2295, -4.2392, -4.4294, -4.483, -4.7277, -4.7307, -4.8003, -4.9032, -4.966, -4.9886, -5.0339, -5.0428, -5.0511, -5.1336, -5.1878, -0.55, -2.3516, -3.1603, -3.6289, -3.7386, -3.9341, -3.9906, -4.1438, -4.2048, -4.3075, -4.451, -4.5904, -4.8378, -4.9042, -4.9074, -4.9149, -4.9913, -5.1145, -5.1715, -5.2119, -5.3022, -5.4068, -5.4748, -5.5774, -5.5805, -5.5888, -5.5992, -5.6146, -5.6616, -5.7238, -1.7, -1.7936, -2.3178, -2.7931, -3.2441, -3.4148, -3.5583, -3.8014, -3.9037, -3.954, -4.0322, -4.0633, -4.209, -4.3553, -4.5582, -4.6562, -4.6731, -4.6842, -4.685, -4.6913, -4.7217, -4.7542, -4.7966, -4.8195, -4.8768, -4.9325, -4.9942, -5.0086, -5.0943, -5.1982, -2.8688, -3.0086, -3.246, -3.3197, -3.3559, -3.3789, -3.4101, -3.4655, -3.5149, -3.6124, -3.615, -3.692, -3.7816, -3.7892, -3.829, -3.9314, -3.9391, -3.9435, -3.956, -4.0831, -4.291, -4.2986, -4.3768, -4.4593, -4.4677, -4.4962, -4.5371, -4.558, -4.5876, -4.6395, -2.0312, -2.6603, -2.9467, -3.006, -3.107, -3.3702, -3.4128, -3.4683, -3.4984, -3.6279, -3.7132, -3.7666, -3.8432, -3.9046, -3.965, -4.0328, -4.0642, -4.0654, -4.0959, -4.1784, -4.2069, -4.222, -4.2435, -4.2748, -4.3805, -4.4245, -4.5898, -4.6069, -4.6235, -4.6973, -2.0805, -2.197, -2.2564, -2.3129, -2.4403, -3.0219, -3.2594, -3.3933, -3.5789, -3.9407, -3.9413, -4.027, -4.0847, -4.1187, -4.1294, -4.1296, -4.4382, -4.5102, -4.538, -4.6325, -4.7341, -4.8127, -4.8864, -4.9516, -5.0443, -5.099, -5.1565, -5.176, -5.1821, -5.2666, -1.4481, -2.234, -2.7029, -2.8227, -2.8597, -3.0497, -3.6184, -3.6345, -3.6488, -3.7055, -3.8026, -3.9949, -4.1386, -4.2843, -4.3307, -4.4961, -4.5286, -4.5673, -4.5733, -4.6181, -4.6563, -4.6637, -4.7607, -4.7701, -4.8332, -4.8769, -4.9442, -4.9969, -4.9994, -5.0286, -2.4847, -2.558, -2.7493, -2.8387, -2.863, -2.9725, -3.0926, -3.554, -3.5883, -3.6383, -3.6742, -3.747, -3.7659, -3.8078, -3.9148, -4.0053, -4.047, -4.097, -4.2243, -4.2703, -4.3606, -4.5525, -4.6245, -4.6396, -4.6648, -4.726, -4.731, -4.7449, -4.7457, -4.7704, -2.0766, -2.1237, -2.6797, -3.0718, -3.1366, -3.3743, -3.7966, -3.9187, -3.9363, -3.9501, -4.0905, -4.1282, -4.1709, -4.1807, -4.3126, -4.3602, -4.3697, -4.3888, -4.5477, -4.6094, -4.6637, -4.6896, -4.6936, -4.7379, -4.7815, -4.7894, -4.8511, -4.8714, -4.9046, -4.9529, -2.1438]}, \"token.table\": {\"Topic\": [22, 9, 11, 16, 11, 15, 7, 3, 7, 8, 31, 3, 26, 13, 20, 10, 9, 30, 12, 7, 20, 17, 22, 18, 15, 25, 3, 9, 2, 20, 12, 26, 27, 2, 3, 12, 14, 13, 14, 29, 26, 11, 26, 17, 15, 3, 12, 24, 18, 15, 14, 25, 22, 28, 3, 29, 18, 2, 10, 24, 11, 27, 29, 5, 14, 5, 31, 18, 7, 18, 31, 28, 5, 3, 6, 26, 27, 4, 18, 6, 32, 9, 8, 5, 24, 9, 27, 20, 28, 30, 12, 13, 26, 3, 23, 11, 23, 12, 10, 6, 6, 10, 32, 19, 13, 17, 21, 29, 4, 17, 27, 23, 12, 25, 24, 14, 21, 22, 30, 20, 6, 10, 26, 12, 6, 6, 31, 13, 9, 28, 18, 22, 15, 29, 23, 24, 17, 19, 16, 19, 32, 15, 12, 5, 30, 12, 12, 7, 27, 9, 11, 11, 3, 6, 28, 23, 3, 27, 29, 11, 29, 2, 4, 13, 23, 10, 22, 2, 11, 8, 19, 5, 21, 31, 13, 27, 10, 9, 3, 31, 18, 6, 28, 7, 2, 13, 5, 14, 14, 30, 31, 14, 14, 8, 32, 15, 11, 3, 4, 29, 29, 7, 21, 4, 21, 19, 4, 12, 21, 5, 30, 14, 15, 25, 15, 21, 29, 26, 3, 19, 27, 30, 10, 31, 16, 14, 22, 20, 4, 30, 31, 17, 4, 22, 5, 8, 22, 8, 9, 32, 30, 8, 10, 17, 20, 19, 28, 18, 7, 22, 26, 2, 4, 10, 19, 8, 8, 16, 30, 10, 15, 6, 20, 31, 29, 17, 4, 13, 3, 22, 12, 6, 4, 30, 19, 6, 24, 29, 31, 5, 15, 15, 21, 5, 13, 11, 26, 9, 4, 4, 5, 1, 15, 20, 18, 25, 24, 3, 29, 2, 16, 32, 19, 27, 10, 10, 4, 16, 16, 4, 18, 2, 31, 31, 16, 9, 19, 12, 17, 9, 17, 10, 16, 2, 6, 24, 16, 25, 15, 27, 27, 3, 23, 12, 19, 20, 18, 31, 25, 14, 11, 15, 23, 15, 5, 26, 9, 17, 22, 28, 16, 25, 21, 19, 8, 6, 10, 11, 26, 20, 3, 9, 13, 2, 3, 5, 3, 2, 3, 13, 10, 27, 5, 29, 10, 11, 2, 14, 25, 25, 16, 28, 31, 8, 29, 12, 27, 26, 26, 30, 13, 22, 8, 17, 25, 22, 29, 24, 31, 13, 13, 14, 32, 31, 17, 27, 11, 25, 32, 32, 25, 25, 10, 9, 9, 9, 32, 11, 7, 17, 7, 8, 7, 5, 28, 8, 5, 27, 12, 23, 2, 16, 10, 18, 11, 13, 15, 20, 15, 18, 13, 25, 18, 21, 31, 26, 16, 11, 5, 24, 19, 30, 24, 5, 17, 19, 21, 9, 23, 29, 3, 24, 19, 28, 7, 32, 30, 3, 9, 19, 29, 10, 17, 6, 2, 8, 19, 11, 24, 3, 25, 22, 25, 25, 20, 32, 3, 24, 28, 10, 10, 3, 20, 1, 19, 32, 7, 32, 26, 3, 1, 23, 32, 28, 10, 3, 9, 22, 23, 11, 27, 8, 23, 3, 29, 11, 15, 13, 22, 27, 27, 24, 23, 32, 6, 11, 14, 2, 6, 16, 28, 31, 8, 15, 16, 20, 7, 22, 26, 4, 10, 4, 11, 24, 31, 20, 31, 17, 15, 16, 20, 20, 2, 23, 24, 13, 32, 21, 20, 22, 17, 4, 9, 11, 23, 12, 18, 30, 21, 2, 22, 31, 23, 22, 6, 25, 20, 21, 2, 12, 3, 21, 9, 7, 15, 22, 21, 23, 10, 21, 19, 25, 21, 23, 15, 29, 5, 3, 9, 32, 14, 21, 15, 31, 21, 15, 30, 26, 9, 12, 12, 32, 20, 19, 16, 32, 23, 12, 6, 26, 9, 19, 5, 25, 5, 18, 11, 13, 28, 9, 4, 4, 10, 32, 28, 8, 21, 24, 24, 29, 20, 30, 6, 27, 17, 14, 2, 31, 29, 14, 17, 11, 28, 5, 29, 15, 13, 2, 19, 18, 31, 3, 3, 12, 19, 2, 3, 4, 5, 6, 7, 8, 10, 11, 12, 14, 15, 16, 17, 18, 19, 20, 21, 22, 22, 2, 30, 24, 27, 1, 14, 1, 1, 23, 32, 18, 6, 5, 32, 24, 29, 2, 10, 21, 25, 22, 8, 23, 23, 5, 13, 30, 16, 16, 4, 14, 16, 22, 7, 25, 32, 32, 21, 8, 13, 21, 28, 8, 27, 26, 31, 26, 10, 26, 21, 3, 21, 2, 2, 14, 6, 17, 8, 15, 9, 3, 30, 18, 31, 7, 24, 29, 6, 12, 24, 28, 26, 2, 16, 1, 18, 23, 9, 12, 13, 8, 7, 21, 8, 14, 11, 18, 30, 8, 27, 5, 28, 30, 18, 6, 19, 4, 30, 6, 6, 4, 21, 7, 7, 24, 19, 14, 3, 27, 31, 7, 8, 28, 23, 22, 29, 30, 14, 14, 12, 26, 28, 14, 30, 7, 17, 19, 2, 12, 16, 6, 27, 32, 9, 24, 10, 16, 27, 7, 5, 2, 25, 3, 7, 8, 12, 26, 32, 24, 23, 13, 2, 3, 29, 6, 2, 2, 6, 4, 9, 16, 21, 29, 26, 29, 4, 2, 16, 2, 6, 23, 20, 29, 6, 18, 3, 4, 24, 17, 23, 25, 18, 9, 25, 18, 20, 27, 18, 28, 29, 17, 26, 24, 5, 30, 22, 8, 32, 4, 17, 8, 10, 18, 20, 24, 9, 13, 31, 17, 19, 12, 17, 3, 3, 25, 20, 15, 16, 17, 16, 28, 4, 28, 11, 13, 10, 5, 14, 20, 17, 32, 14, 2, 20, 16, 22, 15, 22, 24, 7, 8, 23, 30, 17, 8, 11, 7, 15, 25, 17, 20, 8, 11, 30, 32, 22, 12, 15, 4, 28, 4, 16, 8, 12, 13, 1, 23, 25, 27, 4, 8, 21, 12, 28, 6, 32, 26, 3, 4, 27, 26, 6, 18, 13, 7, 16, 16, 20, 7, 15, 23, 7, 20, 7, 16, 5, 2, 7, 3, 20, 6, 28, 3, 9, 14, 13, 28, 18, 19, 10, 14, 31, 3, 27, 5, 30, 25, 30, 28, 16, 26, 17, 19], \"Freq\": [0.9746769887690897, 0.9676651255012751, 0.9816346298356664, 0.9680876468345341, 0.9749211864264242, 0.9922706581966573, 0.9923943201892794, 0.9887411698093403, 0.9837481945163791, 0.9798929244847475, 0.9799001768662049, 0.8395786184571958, 0.9864909792344932, 0.9940592041211044, 0.9878801724933646, 0.9650098841709849, 0.9962200605352564, 0.9541566117487131, 0.97220916895283, 0.8560286404433688, 0.9866311114956398, 0.9904262729492348, 0.9935663471218745, 0.9535902518225773, 0.9960539207495909, 0.9425746825840805, 0.9900828211167679, 0.9983489666332762, 0.9920757591342518, 0.9773712745951574, 0.9516227209782036, 0.9824840746371539, 0.9929783094065646, 0.98250398317262, 0.9859521559991361, 0.984207207272014, 0.9492379509824181, 0.9841142508098083, 0.9187706810121493, 0.984496106155804, 0.965348937929308, 0.9714946767115906, 0.9627604050072699, 0.99498192362919, 0.9869574168625875, 0.9552699244820422, 0.9893038786981782, 0.9981068549464353, 0.996388365206238, 0.9951160799629577, 0.9506641114131005, 0.9842109453760755, 0.9875948787064401, 0.9913545438511041, 0.8499317101328562, 0.9802817627752681, 0.9976329184097253, 0.2896783751059487, 0.7092640627594103, 0.9768911847281753, 0.9844192650432291, 0.9695962245276148, 0.9525264782892294, 0.9805892422405889, 0.9957498308916499, 0.9713444664691729, 0.9964119669005502, 0.988828566042556, 0.9940848122107581, 0.962126642139306, 0.9891929029634241, 0.99055859743065, 0.9983687766131776, 0.8324626635353112, 0.9839034426794996, 0.9802818549945107, 0.9705241872166489, 0.9740892914914023, 0.9911290462872223, 0.9979571795858889, 0.9836242267957077, 0.955748833372037, 0.9771227997073236, 0.9821512564800978, 0.9755666344512549, 0.9616169998792904, 0.9936864927661918, 0.9961886459461986, 0.9834464985803764, 0.9942074149572264, 0.9968085440986573, 0.9879986828589552, 0.9679443151225404, 0.9659790454168089, 0.9469056926286309, 0.9869116352088646, 0.9543668403465735, 0.9621526478015898, 0.9484428555462169, 0.9747522461142442, 0.9894561641686607, 0.9765119376590378, 0.9821593429907342, 0.9594351717083196, 0.9683870154755112, 0.9578588195488668, 0.9914464592958794, 0.9795189402822452, 0.999085706654717, 0.974193966835672, 0.9886130371511611, 0.9559730007954402, 0.9981772971283469, 0.9923490716643432, 0.9597583852299094, 0.9941020233039951, 0.9805014522983765, 0.9854018912751872, 0.9925958477174354, 0.9785524111079571, 0.9959554624471011, 0.9902928709116798, 0.984916039381841, 0.9738128836029466, 0.8901530237900073, 0.9842871000639997, 0.9892387032333987, 0.9924809445688706, 0.9672073802144459, 0.9952290655868637, 0.9860264666568797, 0.9841341861502462, 0.9859253775402921, 0.9949612343327927, 0.9308246590316205, 0.9953514384050031, 0.9987153450627737, 0.9775375701957209, 0.9970128648300478, 0.9427490321209294, 0.9964406443141796, 0.9912701942554958, 0.9926709282793924, 0.9782846476274012, 0.9864504628559726, 0.9625607196120358, 0.9970220977673488, 0.9888393755912841, 0.9898177004553184, 0.9808158555736736, 0.9844160583996989, 0.9838544128783151, 0.9916171132504527, 0.9915659675063851, 0.9847584569542397, 0.9356012830771326, 0.970274731140449, 0.9804947003008628, 0.9891200412335188, 0.961034191848618, 0.9868275892855535, 0.9879135927856697, 0.9832276111265137, 0.9993826552690367, 0.8989067700886896, 0.9933414336506716, 0.973483656973904, 0.9717342031071192, 0.9977334025252816, 0.9263562974164423, 0.9897920969536744, 0.9881305764809154, 0.9783130967103688, 0.983238693046308, 0.9660652256083255, 0.9861891993017274, 0.9582933098750614, 0.9905643416948888, 0.9760890621368582, 0.9833913571456437, 0.9663722011064214, 0.8796638698275573, 0.9896182094780314, 0.9980071838889055, 0.9823498055997858, 0.9918087888342592, 0.9772503421571307, 0.9382624686936574, 0.9983573906845855, 0.9949366980729848, 0.9828252157005243, 0.9559690217615129, 0.9494794846955251, 0.9681525687903989, 0.9495183381808022, 0.9749716558252296, 0.9796343726802297, 0.9978888849854748, 0.9825945713284637, 0.9972471932872212, 0.9872041455084098, 0.9984005524780862, 0.970212232044719, 0.9800244150755535, 0.9959755231840961, 0.9726952238098908, 0.9761535774355377, 0.9849546047329675, 0.9894072516351803, 0.9969876472817566, 0.9937571544552591, 0.9883851890562124, 0.9986242833361332, 0.9889524275626689, 0.9943632101856548, 0.9886595509954078, 0.9708240383886187, 0.9898476878144219, 0.9925102758095975, 0.965646066453634, 0.9916109058130025, 0.9698031981132688, 0.9781514634800627, 0.9975278666478061, 0.9893524874670258, 0.9934088815862594, 0.9868913777801137, 0.9708827978256374, 0.9895993018382373, 0.980004353322949, 0.9922560055945734, 0.9750240166302723, 0.9834043769768831, 0.985599627030306, 0.9938848377933823, 0.9896107183920638, 0.9820817748147014, 0.9762981960005026, 0.9987657519623734, 0.9592984323203537, 0.9549839229746722, 0.9987537644051523, 0.989483115454256, 0.988771875762933, 0.9814845286855368, 0.9715951578993549, 0.9988656585310423, 0.9783042253551953, 0.9835372974162906, 0.959412477512724, 0.9903999712674175, 0.9849049630325999, 0.9005558348161242, 0.979385710082349, 0.9792777176785095, 0.9961520881399459, 0.9990546565500975, 0.9721094825722917, 0.9807946940743615, 0.980801896558919, 0.9714449990785137, 0.9978329365824502, 0.9946291388921571, 0.9788559665171367, 0.9739752728869687, 0.9925357683610424, 0.9873159389185286, 0.9796815161985868, 0.9762590928916581, 0.9911192300790984, 0.9858567131730362, 0.9995283836420551, 0.9669555174649933, 0.983107152041283, 0.9991750812972272, 0.9905195594026766, 0.9945549167100505, 0.9988215794619573, 0.9946526139407609, 0.9647989685580036, 0.9935133196986358, 0.9916337380227784, 0.9927307225187634, 0.9847571253452336, 0.9668087276268735, 0.9950826790928364, 0.9984997876079249, 0.9726962117061773, 0.9875283207283856, 0.9951913784399988, 0.9921551852284402, 0.8776438840739257, 0.9280274037109192, 0.9939632360776093, 0.993492610518453, 0.999500530830035, 0.9661170720633153, 0.9522823580865558, 0.9984878330767978, 0.9983174815286282, 0.9833882942370081, 0.9981789587230081, 0.9875645874523847, 0.9942493087448909, 0.9987406564973637, 0.9984028465993798, 0.9144057195914351, 0.9971152216162142, 0.9984247358095693, 0.9950909876034565, 0.9874762287582186, 0.994526448675715, 0.988674996373701, 0.9966037998759643, 0.9641059606526238, 0.9921905552828336, 0.978668600124553, 0.9775042583453569, 0.9673235572704937, 0.9706026769035165, 0.9855389820815262, 0.7578460598305568, 0.24199134309231174, 0.9813712084030384, 0.9832354007651527, 0.9875450544080191, 0.9928708346541605, 0.9696226547247657, 0.9972465281784142, 0.9842984018871649, 0.9921994769303306, 0.9667289526072111, 0.995932781542422, 0.989544166221162, 0.9875686080032098, 0.9933273118039939, 0.9590088677316742, 0.9836557336083626, 0.9588516949276946, 0.9857793195060847, 0.9821946392930326, 0.9898541224076173, 0.9322103842800348, 0.9862782006122286, 0.9943024091520196, 0.9696203915545265, 0.9608026427781922, 0.9123238518126379, 0.9835434180355188, 0.9872902961154068, 0.9517014330243857, 0.9870048150060071, 0.9842176586869573, 0.9801348415366916, 0.894097596132656, 0.9717358914469558, 0.9786121071508935, 0.9733184239159579, 0.9929354714391913, 0.9848211653613365, 0.9120316362107029, 0.9932999541465612, 0.9937726011275038, 0.9795467491072163, 0.8564779743585728, 0.9986487955967596, 0.9024594746849816, 0.9963025701559265, 0.8927074114516083, 0.9520598354157973, 0.9801732298953783, 0.9930727884420043, 0.9804426788814266, 0.9910118024922301, 0.9918616501376355, 0.9837931851820135, 0.9993839772341757, 0.9926990854355368, 0.9626228781361413, 0.9918909441901387, 0.9901714791430131, 0.9802299928869241, 0.9722622162986584, 0.9664506772593697, 0.9581291878809858, 0.9867833749318995, 0.9887961949194576, 0.9842046619125328, 0.9959628200262027, 0.969437997336786, 0.9663186160663737, 0.9699591155519699, 0.9928029974575238, 0.9644808490795196, 0.9795520366635596, 0.9600697510555432, 0.9878490700488549, 0.9663313869286015, 0.9869800529756442, 0.9974087025128665, 0.9971355631432226, 0.9806912731504355, 0.9735931788325056, 0.9918274079895636, 0.997251205006492, 0.9715819783265103, 0.9861761415035083, 0.9247979954053145, 0.958655624365769, 0.9621309193511133, 0.9653830009497089, 0.9687513890029265, 0.9800188269917199, 0.9838973314034272, 0.9425337814787219, 0.9959732955787736, 0.9921606061669606, 0.9928984288323643, 0.9839757460740017, 0.9867220760842943, 0.9935426900579487, 0.9769010946296347, 0.9881503692591385, 0.9672020803782576, 0.9963734324619117, 0.9869122341293705, 0.9840913947303508, 0.9903262520868122, 0.990761010751646, 0.9650352039978934, 0.5369006881466319, 0.4622238538240788, 0.9690205819923949, 0.9889359216954344, 0.9667117241228558, 0.9982469359729236, 0.9854636646428322, 0.9047063113758704, 0.9841356827319523, 0.9913600694197644, 0.9692169583334928, 0.9930585815127982, 0.9823228524615834, 0.9830911127771785, 0.9818466004945301, 0.9935615786018825, 0.99820301750001, 0.9910358734475126, 0.9629540728190498, 0.9828301365718334, 0.9466542229260215, 0.9977568499057983, 0.9917902242850523, 0.998395352252521, 0.965743411977817, 0.9986998219347126, 0.9799107737787238, 0.9799258404239961, 0.979311489341656, 0.9698083470188323, 0.925938320918304, 0.9769614285536997, 0.9772003098193643, 0.9887770208340143, 0.9937302021747584, 0.9821593123519703, 0.9768908699617593, 0.9929512920927613, 0.9927517288772245, 0.9566977429050421, 0.996430775224884, 0.9807951688118286, 0.974450457977502, 0.8767871990884434, 0.9954877280018773, 0.9970646276926572, 0.9605486037573517, 0.9966569672095531, 0.9948208229280361, 0.9441960879576532, 0.9781676375975846, 0.9848075937266759, 0.9499641999053801, 0.9639866841690126, 0.9882318292537163, 0.9717062473788807, 0.9940337607022741, 0.9936519992125888, 0.9954157728409382, 0.9775736296448091, 0.9762612462772552, 0.9862691054606335, 0.9717517495755869, 0.9621444431599324, 0.9576397645240726, 0.99830921049399, 0.994763025497863, 0.9477701175181146, 0.9890131125063213, 0.8871586989023884, 0.9109553461990336, 0.0721316100681513, 0.016848787113663413, 0.9905171968946828, 0.9912461865932175, 0.9670474728267046, 0.9967450269381992, 0.9772235038457514, 0.9785953142991091, 0.9791074040906751, 0.9821214227053127, 0.9836497387618282, 0.9482231621070736, 0.9796012162816653, 0.9295373730740888, 0.9972654182562659, 0.9916453988187904, 0.976367441334388, 0.9664802729700345, 0.991350978289298, 0.9952957476847357, 0.9680087397592395, 0.9342060006890821, 0.9948679841493555, 0.995386560510385, 0.9879035533706472, 0.9967904104404883, 0.6438260442556053, 0.1471602386869955, 0.20878358863717483, 0.9669485199203328, 0.9911133610162329, 0.9944784524049134, 0.9969267161224719, 0.9296630025813251, 0.9968039124263809, 0.994391465121886, 0.9765395338637546, 0.9843513742259081, 0.971841203832143, 0.9729323518885954, 0.9888446253815439, 0.9906113963000645, 0.9960432763385467, 0.9730629085853889, 0.9871432246622523, 0.9700797772358213, 0.9834261870645019, 0.9784391641765283, 0.9733512357279593, 0.98801941877554, 0.9914612895249549, 0.9771321357750513, 0.9914762588965004, 0.9814261759050711, 0.972748780097037, 0.9909090728724179, 0.9926602838755946, 0.9851928379282774, 0.9798277075244679, 0.9884043950175585, 0.986525938671241, 0.9908739167012379, 0.979138956774577, 0.9488569918542683, 0.9931649796278863, 0.9901177207972223, 0.9776123222006425, 0.9946103999428023, 0.9804149888075371, 0.9848584756304394, 0.9801799131391352, 0.9583745527812764, 0.9901104991357547, 0.9974878442919884, 0.99702051934734, 0.9809407233438145, 0.9956126655339822, 0.983933695392249, 0.9759886665907673, 0.9671650781783148, 0.9803484867569051, 0.9958555063137703, 0.9984788729200637, 0.9725516219799947, 0.9925414059277442, 0.9850864306630656, 0.9068872915331326, 0.9475583741580653, 0.9955991254765553, 0.9854759016294806, 0.9562456416286629, 0.9866494385592571, 0.9859779569174707, 0.9135835188920668, 0.9862725374813354, 0.9832175474365215, 0.9864605114037287, 0.9809042150222824, 0.9900948939251804, 0.9696619294663179, 0.988588317451687, 0.9829734411764101, 0.9936835944226927, 0.9828993341368959, 0.9707322765965493, 0.971158828484961, 0.9728378703214199, 0.7774286415074262, 0.22229922428249482, 0.987922724240202, 0.964915335390391, 0.9745158796479172, 0.9915083997848675, 0.9492846940432543, 0.9739672178856911, 0.9432511458424926, 0.9437440204939022, 0.996604554772679, 0.9668057765609993, 0.9983719111918882, 0.9784856504858076, 0.9986772581018678, 0.9667308914426712, 0.9984343207680595, 0.9658096592257689, 0.994992273974596, 0.9867759006195138, 0.9718087787825122, 0.9764511229414797, 0.9943942991711985, 0.9893233292810785, 0.9553258705305615, 0.971128920773395, 0.9815700218807087, 0.9660961441111416, 0.9729188314426127, 0.985833538241572, 0.9975349409371103, 0.9798587637692048, 0.9778484303527605, 0.95642199605326, 0.979652444436994, 0.9871184687970533, 0.9711142764870461, 0.9838468341449259, 0.9928064633411412, 0.9864650542653959, 0.9912452121381211, 0.9991780749307841, 0.950432680599142, 0.9735303903258883, 0.9879448616758574, 0.9843792837704342, 0.9979742056244405, 0.9916952141529783, 0.9658276186441839, 0.9806143224165506, 0.957979742564485, 0.9578776156962499, 0.9708267674555933, 0.983789481562181, 0.97932567253634, 0.9953024801534702, 0.9988545364678914, 0.06969932350511134, 0.2746153346101387, 0.06483218430441542, 0.04630870307458245, 0.025706055584258012, 0.04975822891585237, 0.056704534377039734, 0.036905201123723363, 0.05545230924288011, 0.01894876523766078, 0.03307764505327318, 0.028824804974995198, 0.020200990371820406, 0.025304398465753983, 0.03671618600913323, 0.03404634751554761, 0.04307181923722643, 0.033432048393129674, 0.04635595685322998, 0.9833286069843485, 0.9962972124652231, 0.9687270430120711, 0.9966039925535989, 0.9915782664920535, 0.9738801580481512, 0.9814510236488097, 0.9683671152590598, 0.9984206101280693, 0.9995386743897846, 0.9843994566695761, 0.9752129889395471, 0.9926361138483815, 0.9988236715202556, 0.9702523110296332, 0.9896884651787733, 0.9806790044568602, 0.9997896094640499, 0.9991415057571598, 0.9782415357844405, 0.9593448085981396, 0.98338184486233, 0.9616233427375006, 0.952447294929477, 0.9701196667917195, 0.9973036164436128, 0.979286714559426, 0.9873662509943006, 0.9709604324269645, 0.9734157084222467, 0.9988044711498172, 0.9855492192240577, 0.978526771885232, 0.9976190219064451, 0.9862827493518304, 0.9397603642421692, 0.9902207900274945, 0.9849759791642625, 0.9731546326034746, 0.8615548833925695, 0.9958995474193992, 0.9857292249362918, 0.9811408943178017, 0.9982720253185006, 0.9896438820521067, 0.9928291570561197, 0.9903147997627422, 0.9628099417535506, 0.9966282934690552, 0.9668969707944371, 0.9857029565546919, 0.9930859297904947, 0.9678120969151267, 0.9846929564565473, 0.9934251354962251, 0.9984447224801061, 0.9894640646565974, 0.9950373336169148, 0.9914820275949509, 0.9722917244519963, 0.9836250561135451, 0.9939815416146799, 0.9759953803950424, 0.9853404958381119, 0.9867087284772157, 0.9781734653224543, 0.9545969352228323, 0.9588562189710391, 0.9972187584711161, 0.9842745243245988, 0.9826549266142144, 0.9938371271440145, 0.9788896190547187, 0.9838924854444423, 0.9620756657028486, 0.7787471704289542, 0.9792352854322174, 0.9589819501138661, 0.9129321515052411, 0.08571494119944886, 0.9961132433619014, 0.9976227888552007, 0.9915799862950775, 0.9926213963963294, 0.9717707158814821, 0.9642701535477537, 0.9932677726698539, 0.9988666983266653, 0.9887754509206066, 0.9839897792549788, 0.9764783971094675, 0.9938190887277489, 0.9941198666559937, 0.9988197493777831, 0.9982130114948743, 0.9829185092949947, 0.9615938638162033, 0.9997774371571836, 0.9817318741377556, 0.9825060852042867, 0.9959323933412799, 0.9809808686109281, 0.9982006613309975, 0.9860516791990525, 0.9983128543924294, 0.9899770344215469, 0.9661721100202664, 0.9394489394407516, 0.9047976635569577, 0.9924155556006369, 0.9947130285480562, 0.9979463807528224, 0.9936072098214596, 0.990660271457303, 0.9782725745992059, 0.9977867521632361, 0.9979637456407101, 0.9921502780577635, 0.9448747409337107, 0.9654312837006445, 0.9910842699526671, 0.9881058222492196, 0.9902968711729508, 0.9787737922326321, 0.9893886624170836, 0.9750644519792528, 0.970322591623936, 0.967030799983617, 0.995927556220921, 0.9975331187938951, 0.9983375374197225, 0.9962496764408577, 0.9937750153434435, 0.9814712994680651, 0.9802942453641051, 0.9758246080102619, 0.9720814100679536, 0.9790387352422624, 0.9939046565063834, 0.9947311790747221, 0.9876043739096867, 0.9749348379985145, 0.9878503313816944, 0.9111743267393985, 0.9978675708843834, 0.9688989808595331, 0.9615367742806784, 0.9984259309362846, 0.9575350347293127, 0.9797861023590673, 0.9775116666232924, 0.9868982692355758, 0.9852667723941294, 0.9942570788675786, 0.9682607183637534, 0.9776569400989776, 0.9990521464824744, 0.9881684693732192, 0.9821699881709852, 0.9807735310518884, 0.9520451365083503, 0.9914885506915732, 0.9860940381843603, 0.9913855606117726, 0.9764098940865196, 0.952626918215407, 0.9810464925230364, 0.821268251320662, 0.1743615672034636, 0.8420683069930203, 0.9959749492814585, 0.97813788328998, 0.9810420961014541, 0.9740230625544193, 0.9891627478057676, 0.969242102651103, 0.9947375472468863, 0.9956150988344636, 0.9831190063236509, 0.9933700595482107, 0.9658585656519287, 0.975889609971632, 0.9559744711282284, 0.9705746237556138, 0.9950218437915341, 0.9979545594368465, 0.9934835033058775, 0.9857602583130278, 0.9832855230934137, 0.9676359664070081, 0.9938901899254666, 0.9780886165650156, 0.9840642225676631, 0.9709601160100774, 0.9937684224731307, 0.9670092081814767, 0.9902699126082978, 0.9518062907116824, 0.981972907943011, 0.9948814674789253, 0.974193966835672, 0.9284390157275356, 0.978068245030655, 0.9955980130536675, 0.9790028529683207, 0.9990213721523725, 0.9611823343973862, 0.9860379756032515, 0.96666899134546, 0.9814163794202212, 0.9603097093042523, 0.9942589946487668, 0.974193966835672, 0.8330673021791327, 0.8741133394362824, 0.9935251369054415, 0.9943151117862835, 0.9918398134563416, 0.956527699724895, 0.978320086841949, 0.9752540226258909, 0.9838563766689602, 0.9838186773494423, 0.9859388180831383, 0.9781409681011419, 0.9913632781943892, 0.9939571304709578, 0.9909569445347803, 0.9377503767197873, 0.9814368875729623, 0.9801656387838976, 0.9856451580712702, 0.984131711471165, 0.9885964280506461, 0.9592922933375851, 0.9578486550556862, 0.9835034825208356, 0.9819984089916878, 0.9881294145890763, 0.9960968540479908, 0.9890359367026907, 0.9778317996629072, 0.9904764651355551, 0.9952552041174166, 0.9919655349274477, 0.9683116853269716, 0.9758676615662458, 0.9908695829532583, 0.9809188750742732, 0.9171461901904318, 0.991874390581542, 0.9808369671140944, 0.9718257927675558, 0.9972579524651289, 0.9497438245800673, 0.9755259923074868, 0.9841637698346928, 0.9828732587400103, 0.982624620049048, 0.98644725544877, 0.9870460116416347, 0.9858611888383232, 0.9690121713445097, 0.9928915581453424, 0.9988100301236145, 0.9981196839575053, 0.8306567704941826, 0.988729276801099, 0.9610314557806158, 0.9895039141396494, 0.9909027905901155, 0.9925258807122398, 0.9934290518180472, 0.9956801478763093, 0.9969953654785473, 0.9821827657729749, 0.990200732064587, 0.9808940823763681, 0.9587116337498324, 0.9789081611095782, 0.9952245015341382, 0.9661154802562281, 0.9884861748026347, 0.9835254828508428, 0.9819011553231749, 0.9900913302248084, 0.9804231957578595, 0.9757415379406101, 0.9848428833034765, 0.9888842740764419, 0.9863210931355949, 0.9984352547979646, 0.991390996420677, 0.9878139465973688, 0.9846862411658138, 0.9855907339836365, 0.9989280121026687, 0.9963005784540105, 0.9922873960916023, 0.9696858941911332, 0.9926394350802963, 0.9987690769280408, 0.9905940819838658, 0.9585889258011614, 0.9874415369513975, 0.9934434333797164, 0.9971921877531695, 0.9906795605203388, 0.9653637743532514, 0.9919146716467948, 0.9909700513865731, 0.9985067860603083, 0.9954648108645564, 0.9687787570234595, 0.9958217166982242, 0.9700510159168512, 0.9935175205742516, 0.9378152455476355, 0.9815716149155461, 0.9918674098057326, 0.9990850354830788, 0.9985107141396602, 0.9993475333918992, 0.956266296753404], \"Term\": [\"aasc\", \"abatement\", \"abbreviations\", \"academy\", \"acc\", \"access\", \"accessories\", \"aceco\", \"acoustical\", \"acp\", \"activities\", \"activityid\", \"add\", \"added\", \"addendum\", \"addition\", \"additional\", \"adhesive\", \"admin\", \"administration\", \"aes\", \"agenda\", \"ahu\", \"ahus\", \"air\", \"airflow\", \"aiw\", \"ajch\", \"alarm\", \"allowance\", \"alrb\", \"alt\", \"alternate\", \"alternates\", \"aluminum\", \"amended\", \"amendment\", \"american\", \"amt\", \"amv\", \"analysis\", \"andiemac\", \"animal\", \"app\", \"appendix\", \"application\", \"applied\", \"approval\", \"approved\", \"april\", \"arc\", \"arch\", \"architectural\", \"area\", \"areaes\", \"arra\", \"asg\", \"asi\", \"asi\", \"asphalt\", \"assemblies\", \"assembly\", \"ati\", \"atlantic\", \"atp\", \"atrium\", \"attachment\", \"audio\", \"audiovisual\", \"auger\", \"august\", \"backup\", \"bal\", \"balance\", \"ballinger\", \"bank\", \"barrier\", \"bas\", \"base\", \"basement\", \"bath\", \"bathroom\", \"bay\", \"beam\", \"beams\", \"bedding\", \"bid\", \"binder\", \"bio\", \"bioe\", \"bioengineering\", \"bldg\", \"blg\", \"block\", \"bmp\", \"board\", \"boards\", \"bod\", \"bonding\", \"booster\", \"box\", \"boxes\", \"bpw\", \"braden\", \"break\", \"breaks\", \"brick\", \"bsmnt\", \"bsu\", \"bsunew\", \"budget\", \"builder\", \"building\", \"built\", \"bulkhead\", \"bulletin\", \"cabinet\", \"cabinets\", \"cable\", \"cables\", \"cabling\", \"cafe\", \"cagley\", \"caisson\", \"calc\", \"calcs\", \"calculations\", \"cambridge\", \"campus\", \"cap\", \"capron\", \"caretti\", \"casework\", \"cast\", \"caulk\", \"ccc\", \"ccit\", \"ccr\", \"ceiling\", \"cell\", \"center\", \"central\", \"cert\", \"certificate\", \"certificates\", \"certification\", \"certified\", \"change\", \"changes\", \"check\", \"chemistry\", \"chesapeake\", \"chevy\", \"chilled\", \"chiller\", \"chip\", \"cip\", \"circuit\", \"citc\", \"civil\", \"cladding\", \"clarification\", \"clarifications\", \"clark\", \"class\", \"classroom\", \"cleaning\", \"close\", \"closed\", \"clsrm\", \"cmns\", \"cmu\", \"coil\", \"coiling\", \"cold\", \"cole\", \"collab\", \"color\", \"column\", \"columns\", \"combined\", \"coming\", \"comment\", \"comments\", \"commercial\", \"commissioning\", \"communications\", \"comp\", \"complete\", \"completed\", \"completion\", \"complex\", \"compliance\", \"composite\", \"compton\", \"computer\", \"concreate\", \"concrete\", \"condensate\", \"conditions\", \"conduit\", \"conf\", \"conference\", \"confirmation\", \"conflict\", \"conflicts\", \"connection\", \"conprogressreport\", \"consolidated\", \"construction\", \"consultant\", \"contract\", \"control\", \"controls\", \"cooling\", \"coordination\", \"copper\", \"copy\", \"cor\", \"core\", \"corner\", \"correspondence\", \"corridor\", \"cost\", \"courtyard\", \"cover\", \"cpf\", \"crane\", \"credit\", \"csr\", \"css\", \"ctr\", \"cts\", \"curb\", \"curtain\", \"curtainwall\", \"custom\", \"cut\", \"daily\", \"damage\", \"dat\", \"data\", \"dated\", \"day\", \"dcb\", \"dec\", \"december\", \"decking\", \"decorative\", \"del\", \"demo\", \"demolition\", \"department\", \"dept\", \"des\", \"design\", \"details\", \"dev\", \"development\", \"device\", \"devices\", \"diagram\", \"diagrams\", \"dick\", \"diffusers\", \"digital\", \"dimension\", \"dimensions\", \"district\", \"dkodant\", \"dllr\", \"doc\", \"dock\", \"documents\", \"docx\", \"domestic\", \"don\", \"door\", \"doors\", \"dow\", \"download\", \"draft\", \"drain\", \"drainage\", \"drains\", \"drawing\", \"drawings\", \"drive\", \"drywall\", \"duct\", \"ductwork\", \"dunkle\", \"dust\", \"dwf\", \"dwfx\", \"dwg\", \"dwgs\", \"dynasty\", \"early\", \"east\", \"edge\", \"edward\", \"elec\", \"electric\", \"electrical\", \"elev\", \"elevated\", \"elevation\", \"elevations\", \"elevator\", \"elevators\", \"elevs\", \"ellipse\", \"email\", \"embed\", \"emergency\", \"ems\", \"end\", \"ending\", \"energy\", \"engineering\", \"enlarged\", \"enlarged\", \"enlargement\", \"entrance\", \"entrances\", \"entry\", \"equip\", \"equipment\", \"erosion\", \"esc\", \"esharkeyt\", \"esj\", \"esjltc\", \"est\", \"estimate\", \"evaluation\", \"exchanger\", \"exchangers\", \"executed\", \"exhaust\", \"existing\", \"exit\", \"expansion\", \"exterior\", \"fabrications\", \"fac\", \"facade\", \"facilities\", \"facility\", \"faculty\", \"fade\", \"fan\", \"fans\", \"fasteners\", \"fcu\", \"feb\", \"february\", \"fee\", \"fence\", \"fencing\", \"ffe\", \"field\", \"fifth\", \"filler\", \"final\", \"finders\", \"finish\", \"finishing\", \"fireproofing\", \"fixed\", \"fixture\", \"fixtures\", \"flashing\", \"flat\", \"flex\", \"floor\", \"flooring\", \"floorplan\", \"flow\", \"flr\", \"fluid\", \"flush\", \"foam\", \"folding\", \"follow\", \"food\", \"foodservice\", \"form\", \"format\", \"formed\", \"forum\", \"foundation\", \"foundations\", \"fourth\", \"fpt\", \"frame\", \"framed\", \"frames\", \"framing\", \"frederick\", \"freestate\", \"frmg\", \"frostburg\", \"fsu\", \"fuentes\", \"fume\", \"functional\", \"fund\", \"funding\", \"funds\", \"furnishing\", \"furnishings\", \"furniture\", \"future\", \"fwd\", \"gas\", \"general\", \"generator\", \"genesis\", \"glass\", \"glazed\", \"glazing\", \"glycol\", \"gmp\", \"gordon\", \"grade\", \"grading\", \"green\", \"grnd\", \"ground\", \"ground\", \"grounding\", \"grout\", \"gypsum\", \"hall\", \"handling\", \"hanger\", \"hangers\", \"hardware\", \"hazmat\", \"heat\", \"heating\", \"high\", \"hollow\", \"holz\", \"holzapfel\", \"hood\", \"horizontal\", \"hot\", \"house\", \"htm\", \"html\", \"hvac\", \"hydronic\", \"ice\", \"identification\", \"image\", \"inch\", \"incorporated\", \"incubator\", \"index\", \"info\", \"information\", \"infrastructure\", \"initial\", \"inlet\", \"insp\", \"inspection\", \"inspections\", \"install\", \"installation\", \"installer\", \"instructions\", \"insulation\", \"interior\", \"intumescent\", \"invoice\", \"iphone\", \"ironshore\", \"irrigation\", \"isec\", \"isometric\", \"isometrics\", \"issue\", \"issues\", \"item\", \"items\", \"james\", \"jan\", \"january\", \"jcm\", \"jernigan\", \"jobsite\", \"joc\", \"john\", \"joint\", \"joy\", \"jpeg\", \"jpercoskit\", \"jpg\", \"jpg\", \"jpg\", \"july\", \"june\", \"jve\", \"kahua\", \"key\", \"kir\", \"kirlin\", \"kitchen\", \"kms\", \"kog\", \"kogok\", \"koguk\", \"lab\", \"laboratory\", \"labs\", \"laminate\", \"landscape\", \"layout\", \"layouts\", \"leak\", \"learning\", \"leed\", \"legend\", \"letter\", \"level\", \"level\", \"level\", \"license\", \"life\", \"light\", \"lighting\", \"lights\", \"line\", \"list\", \"llc\", \"load\", \"loading\", \"lobby\", \"location\", \"locations\", \"log\", \"logo\", \"long\", \"longest\", \"look\", \"lorton\", \"lounge\", \"louver\", \"low\", \"lower\", \"ltc\", \"lvl\", \"mail\", \"main\", \"maintenance\", \"management\", \"manganaro\", \"manhole\", \"manual\", \"march\", \"markup\", \"markups\", \"maryland\", \"masonry\", \"master\", \"material\", \"materials\", \"matrix\", \"mbe\", \"mckinney\", \"mde\", \"mech\", \"mechanical\", \"medium\", \"meeting\", \"membrane\", \"memo\", \"memorial\", \"mep\", \"message\", \"metal\", \"meter\", \"metro\", \"mid\", \"mike\", \"millwork\", \"minutes\", \"misc\", \"missing\", \"mix\", \"mlc\", \"mncppc\", \"mock\", \"mockup\", \"mod\", \"model\", \"mohawk\", \"moisture\", \"mona\", \"monitoring\", \"monthly\", \"mortar\", \"motor\", \"mov\", \"mpeterst\", \"msg\", \"msg\", \"mtg\", \"mtl\", \"multivista\", \"narrative\", \"nationwide\", \"natural\", \"need\", \"needs\", \"negnarrative\", \"negotiation\", \"new\", \"non\", \"north\", \"northeast\", \"northwest\", \"noted\", \"notes\", \"notification\", \"nov\", \"november\", \"nsc\", \"nsu\", \"observation\", \"oct\", \"october\", \"office\", \"offices\", \"old\", \"open\", \"opening\", \"operation\", \"option\", \"optional\", \"order\", \"orders\", \"otis\", \"overall\", \"overhead\", \"owner\", \"package\", \"pads\", \"page\", \"pages\", \"paint\", \"panel\", \"panels\", \"park\", \"partial\", \"partitions\", \"patching\", \"path\", \"paving\", \"payment\", \"payroll\", \"pco\", \"pdf\", \"pdf\", \"pdf\", \"pdf\", \"pdf\", \"pdf\", \"pdf\", \"pdf\", \"pdf\", \"pdf\", \"pdf\", \"pdf\", \"pdf\", \"pdf\", \"pdf\", \"pdf\", \"pdf\", \"pdf\", \"pdf\", \"pdi\", \"penthouse\", \"performance\", \"pfh\", \"phase\", \"photo\", \"physical\", \"pics\", \"picture\", \"pictures\", \"pier\", \"piles\", \"pipe\", \"piping\", \"pit\", \"pkg\", \"place\", \"plan\", \"plans\", \"plant\", \"planting\", \"plastic\", \"plate\", \"plates\", \"plot\", \"plumbing\", \"plywood\", \"png\", \"porch\", \"post\", \"posted\", \"potomac\", \"pour\", \"power\", \"ppa\", \"ppac\", \"pre\", \"prep\", \"pressure\", \"prices\", \"prince\", \"pro\", \"procedures\", \"product\", \"profiles\", \"program\", \"progress\", \"proj\", \"project\", \"projection\", \"proofing\", \"proposal\", \"proposals\", \"proposed\", \"protection\", \"psc\", \"pump\", \"pumps\", \"qualification\", \"quality\", \"questions\", \"rabousaidt\", \"rack\", \"radio\", \"rail\", \"railings\", \"rain\", \"rated\", \"rcp\", \"rcpt\", \"rebar\", \"record\", \"recovery\", \"reference\", \"reflected\", \"remain\", \"repair\", \"replacement\", \"report\", \"report\", \"reports\", \"req\", \"request\", \"requirements\", \"resilient\", \"resinous\", \"responded\", \"response\", \"responses\", \"resubmittal\", \"results\", \"retaining\", \"rev\", \"review\", \"revised\", \"revision\", \"revisions\", \"rfi\", \"rfishert\", \"rfp\", \"riser\", \"roller\", \"roof\", \"roofing\", \"room\", \"rooms\", \"rough\", \"rtf\", \"ruel\", \"rvt\", \"safety\", \"sample\", \"samples\", \"sanitary\", \"scaffolding\", \"schedule\", \"schedules\", \"schematic\", \"schnabel\", \"sciences\", \"scope\", \"screen\", \"scub\", \"sdr\", \"sealant\", \"sealants\", \"seating\", \"sec\", \"second\", \"section\", \"sections\", \"security\", \"sediment\", \"selected\", \"selection\", \"seminar\", \"september\", \"sequence\", \"service\", \"services\", \"set\", \"seventh\", \"shaft\", \"sheathing\", \"sheet\", \"sheets\", \"shielding\", \"shop\", \"shoring\", \"shx\", \"sidewalk\", \"sign\", \"signage\", \"signed\", \"sill\", \"single\", \"site\", \"sixth\", \"size\", \"sketch\", \"skin\", \"slab\", \"sleeve\", \"smoke\", \"snow\", \"sog\", \"sound\", \"south\", \"south\", \"southeast\", \"southwest\", \"space\", \"spec\", \"special\", \"sprinkler\", \"stainless\", \"stair\", \"stairs\", \"stamp\", \"standard\", \"start\", \"state\", \"station\", \"status\", \"steam\", \"steel\", \"stella\", \"stephen\", \"sterilizer\", \"stillwater\", \"stone\", \"storage\", \"storefront\", \"storefronts\", \"storm\", \"strip\", \"structural\", \"structure\", \"stud\", \"student\", \"studentunion\", \"studs\", \"study\", \"sub\", \"submission\", \"submittal\", \"submittals\", \"submitted\", \"substantial\", \"substitution\", \"suez\", \"summary\", \"summay\", \"sunny\", \"sunshade\", \"supply\", \"support\", \"supports\", \"surveillance\", \"survey\", \"suspension\", \"svcs\", \"switch\", \"swm\", \"symbols\", \"symons\", \"systems\", \"table\", \"tank\", \"tate\", \"tawes\", \"teaching\", \"tecta\", \"telecom\", \"temp\", \"template\", \"temporary\", \"terminal\", \"terrazzo\", \"test\", \"testing\", \"thermal\", \"tiered\", \"tif\", \"tile\", \"time\", \"toc\", \"toilet\", \"tower\", \"tracing\", \"training\", \"transfer\", \"transition\", \"transmittal\", \"tray\", \"treaching\", \"trojan\", \"trunnell\", \"ttf\", \"tube\", \"txt\", \"type\", \"types\", \"typical\", \"umcp\", \"umd\", \"umesf\", \"umesj\", \"umpsc\", \"underground\", \"union\", \"unit\", \"units\", \"university\", \"update\", \"updated\", \"uploaded\", \"upper\", \"used\", \"utilities\", \"utility\", \"vacuum\", \"valve\", \"valves\", \"vent\", \"verification\", \"vestibule\", \"video\", \"visit\", \"visual\", \"vivarium\", \"vmware\", \"vol\", \"voltage\", \"volume\", \"walk\", \"wall\", \"walls\", \"warranty\", \"washington\", \"waste\", \"water\", \"waterproofing\", \"web\", \"week\", \"weekly\", \"west\", \"wft\", \"william\", \"window\", \"wing\", \"wmf\", \"wood\", \"worcester\", \"work\", \"workshop\", \"wssc\", \"wta\", \"wtw\", \"xer\", \"xls\", \"xlsx\", \"zip\", \"zone\"]}, \"R\": 30, \"lambda.step\": 0.01, \"plot.opts\": {\"xlab\": \"PC1\", \"ylab\": \"PC2\"}, \"topic.order\": [32, 26, 8, 1, 4, 7, 25, 14, 5, 3, 23, 12, 19, 11, 13, 22, 6, 18, 30, 17, 15, 29, 21, 27, 20, 31, 24, 10, 28, 9, 2, 16]};\n",
       "\n",
       "function LDAvis_load_lib(url, callback){\n",
       "  var s = document.createElement('script');\n",
       "  s.src = url;\n",
       "  s.async = true;\n",
       "  s.onreadystatechange = s.onload = callback;\n",
       "  s.onerror = function(){console.warn(\"failed to load library \" + url);};\n",
       "  document.getElementsByTagName(\"head\")[0].appendChild(s);\n",
       "}\n",
       "\n",
       "if(typeof(LDAvis) !== \"undefined\"){\n",
       "   // already loaded: just create the visualization\n",
       "   !function(LDAvis){\n",
       "       new LDAvis(\"#\" + \"ldavis_el90242390308961617737985\", ldavis_el90242390308961617737985_data);\n",
       "   }(LDAvis);\n",
       "}else if(typeof define === \"function\" && define.amd){\n",
       "   // require.js is available: use it to load d3/LDAvis\n",
       "   require.config({paths: {d3: \"https://cdnjs.cloudflare.com/ajax/libs/d3/3.5.5/d3.min\"}});\n",
       "   require([\"d3\"], function(d3){\n",
       "      window.d3 = d3;\n",
       "      LDAvis_load_lib(\"https://cdn.rawgit.com/bmabey/pyLDAvis/files/ldavis.v1.0.0.js\", function(){\n",
       "        new LDAvis(\"#\" + \"ldavis_el90242390308961617737985\", ldavis_el90242390308961617737985_data);\n",
       "      });\n",
       "    });\n",
       "}else{\n",
       "    // require.js not available: dynamically load d3 & LDAvis\n",
       "    LDAvis_load_lib(\"https://cdnjs.cloudflare.com/ajax/libs/d3/3.5.5/d3.min.js\", function(){\n",
       "         LDAvis_load_lib(\"https://cdn.rawgit.com/bmabey/pyLDAvis/files/ldavis.v1.0.0.js\", function(){\n",
       "                 new LDAvis(\"#\" + \"ldavis_el90242390308961617737985\", ldavis_el90242390308961617737985_data);\n",
       "            })\n",
       "         });\n",
       "}\n",
       "</script>"
      ],
      "text/plain": [
       "PreparedData(topic_coordinates=              x         y  topics  cluster       Freq\n",
       "topic                                                \n",
       "31     0.292903  0.363882       1        1  10.652722\n",
       "25    -0.130544  0.009336       2        1   6.497028\n",
       "7     -0.277274  0.046400       3        1   6.158090\n",
       "0     -0.158059  0.020042       4        1   4.467867\n",
       "3     -0.120472  0.008662       5        1   4.282302\n",
       "6     -0.064543 -0.011663       6        1   3.844498\n",
       "24    -0.143632  0.014909       7        1   3.807986\n",
       "13    -0.162197  0.020126       8        1   3.736239\n",
       "4      0.184857 -0.127478       9        1   3.442533\n",
       "2     -0.135607  0.010788      10        1   3.111720\n",
       "22    -0.193813  0.027282      11        1   2.773321\n",
       "11    -0.045713 -0.050514      12        1   2.748604\n",
       "18     0.189338 -0.109742      13        1   2.642153\n",
       "10    -0.139499  0.012763      14        1   2.602512\n",
       "12    -0.123550  0.007132      15        1   2.551076\n",
       "21    -0.091243 -0.005420      16        1   2.540805\n",
       "5     -0.110664  0.003160      17        1   2.480000\n",
       "17    -0.159362  0.017496      18        1   2.437145\n",
       "29    -0.150985  0.015567      19        1   2.431246\n",
       "16    -0.179200  0.022570      20        1   2.413047\n",
       "14    -0.151380  0.014796      21        1   2.355634\n",
       "28    -0.191222  0.025501      22        1   2.339666\n",
       "20     0.286041  0.336478      23        1   2.296256\n",
       "26     0.189537 -0.110660      24        1   2.218927\n",
       "19     0.189245 -0.109932      25        1   2.178738\n",
       "30     0.189665 -0.111342      26        1   2.057504\n",
       "23     0.189935 -0.111602      27        1   2.003774\n",
       "9      0.189727 -0.111528      28        1   1.943663\n",
       "27     0.189578 -0.111676      29        1   1.894440\n",
       "8      0.189580 -0.111862      30        1   1.771141\n",
       "1      0.189689 -0.112412      31        1   1.692694\n",
       "15     0.258863  0.218938      32        1   1.626668, topic_info=     Category          Freq       Term         Total  loglift  logprob\n",
       "term                                                                  \n",
       "885   Default  27657.000000        jpg  27657.000000  30.0000  30.0000\n",
       "1182  Default  42324.000000        pdf  42324.000000  29.0000  29.0000\n",
       "522   Default   3075.000000        dwg   3075.000000  28.0000  28.0000\n",
       "1388  Default   3507.000000        rfi   3507.000000  27.0000  27.0000\n",
       "1215  Default   3068.000000       plan   3068.000000  26.0000  26.0000\n",
       "1072  Default   2424.000000        msg   2424.000000  25.0000  25.0000\n",
       "663   Default   2450.000000      floor   2450.000000  24.0000  24.0000\n",
       "1205  Default   1582.000000   pictures   1582.000000  23.0000  23.0000\n",
       "482   Default   1826.000000        doc   1826.000000  22.0000  22.0000\n",
       "1180  Default   1280.000000        pco   1280.000000  21.0000  21.0000\n",
       "924   Default   2174.000000      level   2174.000000  20.0000  20.0000\n",
       "278   Default   1272.000000      clark   1272.000000  19.0000  19.0000\n",
       "1355  Default   1469.000000     report   1469.000000  18.0000  18.0000\n",
       "1591  Default   1093.000000  submittal   1093.000000  17.0000  17.0000\n",
       "450   Default   1257.000000    details   1257.000000  16.0000  16.0000\n",
       "1382  Default   1019.000000     review   1019.000000  15.0000  15.0000\n",
       "1713  Default   1115.000000       umcp   1115.000000  14.0000  14.0000\n",
       "1824  Default   1081.000000        zip   1081.000000  13.0000  13.0000\n",
       "94    Default   1339.000000        asi   1339.000000  12.0000  12.0000\n",
       "487   Default   1021.000000       docx   1021.000000  11.0000  11.0000\n",
       "190   Default   1221.000000        bsu   1221.000000  10.0000  10.0000\n",
       "1479  Default    920.000000       shop    920.000000   9.0000   9.0000\n",
       "1290  Default    976.000000        psc    976.000000   8.0000   8.0000\n",
       "643   Default   1127.000000      final   1127.000000   7.0000   7.0000\n",
       "238   Default    910.000000       ccit    910.000000   6.0000   6.0000\n",
       "757   Default    924.000000       hall    924.000000   5.0000   5.0000\n",
       "1145  Default    895.000000    package    895.000000   4.0000   4.0000\n",
       "502   Default    838.000000   drawings    838.000000   3.0000   3.0000\n",
       "46    Default    949.000000       ajch    949.000000   2.0000   2.0000\n",
       "1216  Default    918.000000      plans    918.000000   1.0000   1.0000\n",
       "...       ...           ...        ...           ...      ...      ...\n",
       "532   Topic32    475.759321     edward    476.868397   4.1163  -2.1237\n",
       "245   Topic32    272.866099     center    273.975175   4.1146  -2.6797\n",
       "717   Topic32    184.344769        gas    185.453846   4.1126  -3.0718\n",
       "918   Topic32    172.783342   learning    173.892419   4.1122  -3.1366\n",
       "1247  Topic32    136.234031        pre    137.343107   4.1105  -3.3743\n",
       "1206  Topic32     89.301376       pier     90.410452   4.1063  -3.7966\n",
       "1636  Topic32     79.041472   teaching     80.150548   4.1047  -3.9187\n",
       "1730  Topic32     77.662831   uploaded     78.771907   4.1045  -3.9363\n",
       "972   Topic32     76.597347       main     77.706423   4.1043  -3.9501\n",
       "1051  Topic32     66.561205     mohawk     67.670281   4.1021  -4.0905\n",
       "1447  Topic32     64.099147   selected     65.208224   4.1015  -4.1282\n",
       "1695  Topic32     61.421292  treaching     62.530369   4.1007  -4.1709\n",
       "1254  Topic32     60.821368       prep     61.930444   4.1006  -4.1807\n",
       "1082  Topic32     53.307540    natural     54.416616   4.0980  -4.3126\n",
       "1581  Topic32     50.827183       stud     51.936260   4.0971  -4.3602\n",
       "863   Topic32     50.346804     issues     51.455880   4.0968  -4.3697\n",
       "1212  Topic32     49.393251        pit     50.502328   4.0964  -4.3888\n",
       "1112  Topic32     42.139559        oct     43.248635   4.0927  -4.5477\n",
       "175   Topic32     39.617513        bpw     40.726589   4.0910  -4.6094\n",
       "137   Topic32     37.523563       bath     38.632639   4.0895  -4.6637\n",
       "828   Topic32     36.563020    initial     37.672096   4.0888  -4.6896\n",
       "422   Topic32     36.418349     damage     37.527425   4.0886  -4.6936\n",
       "697   Topic32     34.840231       frmg     35.949307   4.0873  -4.7379\n",
       "1481  Topic32     33.354415    shoring     34.463491   4.0859  -4.7815\n",
       "1074  Topic32     33.090815        mtl     34.199892   4.0857  -4.7894\n",
       "705   Topic32     31.111071    funding     32.220147   4.0836  -4.8511\n",
       "338   Topic32     30.485890    compton     31.594966   4.0829  -4.8714\n",
       "882   Topic32     29.489061        joy     30.598137   4.0817  -4.9046\n",
       "704   Topic32     28.098492       fund     29.207569   4.0799  -4.9529\n",
       "885   Topic32    466.334002        jpg  27657.777195   0.0359  -2.1438\n",
       "\n",
       "[1047 rows x 6 columns], token_table=      Topic      Freq            Term\n",
       "term                                 \n",
       "0        22  0.974677            aasc\n",
       "1         9  0.967665       abatement\n",
       "2        11  0.981635   abbreviations\n",
       "4        16  0.968088         academy\n",
       "5        11  0.974921             acc\n",
       "6        15  0.992271          access\n",
       "7         7  0.992394     accessories\n",
       "9         3  0.988741           aceco\n",
       "11        7  0.983748      acoustical\n",
       "12        8  0.979893             acp\n",
       "16       31  0.979900      activities\n",
       "17        3  0.839579      activityid\n",
       "20       26  0.986491             add\n",
       "21       13  0.994059           added\n",
       "22       20  0.987880        addendum\n",
       "23       10  0.965010        addition\n",
       "24        9  0.996220      additional\n",
       "30       30  0.954157        adhesive\n",
       "33       12  0.972209           admin\n",
       "34        7  0.856029  administration\n",
       "36       20  0.986631             aes\n",
       "37       17  0.990426          agenda\n",
       "40       22  0.993566             ahu\n",
       "41       18  0.953590            ahus\n",
       "42       15  0.996054             air\n",
       "43       25  0.942575         airflow\n",
       "45        3  0.990083             aiw\n",
       "46        9  0.998349            ajch\n",
       "47        2  0.992076           alarm\n",
       "49       20  0.977371       allowance\n",
       "...     ...       ...             ...\n",
       "1767      7  0.984686          volume\n",
       "1770     16  0.985591            walk\n",
       "1771      5  0.998928            wall\n",
       "1772      2  0.996301           walls\n",
       "1774      7  0.992287        warranty\n",
       "1777      3  0.969686      washington\n",
       "1778     20  0.992639           waste\n",
       "1779      6  0.998769           water\n",
       "1780     28  0.990594   waterproofing\n",
       "1784      3  0.958589             web\n",
       "1785      9  0.987442            week\n",
       "1786     14  0.993443          weekly\n",
       "1789     13  0.997192            west\n",
       "1791     28  0.990680             wft\n",
       "1796     18  0.965364         william\n",
       "1798     19  0.991915          window\n",
       "1800     10  0.990970            wing\n",
       "1805     14  0.998507             wmf\n",
       "1807     31  0.995465            wood\n",
       "1809      3  0.968779       worcester\n",
       "1811     27  0.995822            work\n",
       "1813      5  0.970051        workshop\n",
       "1815     30  0.993518            wssc\n",
       "1816     25  0.937815             wta\n",
       "1817     30  0.981572             wtw\n",
       "1818     28  0.991867             xer\n",
       "1819     16  0.999085             xls\n",
       "1820     26  0.998511            xlsx\n",
       "1824     17  0.999348             zip\n",
       "1825     19  0.956266            zone\n",
       "\n",
       "[1008 rows x 3 columns], R=30, lambda_step=0.01, plot_opts={'xlab': 'PC1', 'ylab': 'PC2'}, topic_order=[32, 26, 8, 1, 4, 7, 25, 14, 5, 3, 23, 12, 19, 11, 13, 22, 6, 18, 30, 17, 15, 29, 21, 27, 20, 31, 24, 10, 28, 9, 2, 16])"
      ]
     },
     "execution_count": 30,
     "metadata": {},
     "output_type": "execute_result"
    }
   ],
   "source": [
    "pyLDAvis.sklearn.prepare(lda_tf,dtm_tf,term_freq_vectorizer)"
   ]
  },
  {
   "cell_type": "markdown",
   "metadata": {},
   "source": [
    "## Assemble the X_train and y_train sets"
   ]
  },
  {
   "cell_type": "code",
   "execution_count": 31,
   "metadata": {},
   "outputs": [
    {
     "data": {
      "text/plain": [
       "(102332, 32)"
      ]
     },
     "execution_count": 31,
     "metadata": {},
     "output_type": "execute_result"
    }
   ],
   "source": [
    "X_lda_trans = lda_tf.transform(dtm_tf)\n",
    "X_lda_trans.shape"
   ]
  },
  {
   "cell_type": "code",
   "execution_count": 33,
   "metadata": {},
   "outputs": [
    {
     "name": "stdout",
     "output_type": "stream",
     "text": [
      "(102332, 33) 102332\n"
     ]
    }
   ],
   "source": [
    "file_size_list = train_set['size'].tolist()\n",
    "file_size_np = np.array(file_size_list).reshape(-1,1)\n",
    "file_size_np.shape\n",
    "\n",
    "X_train = np.hstack((X_lda_trans,file_size_np)) \n",
    "y_train = train_set['doc_label'].tolist()\n",
    "\n",
    "print(X_train.shape,len(y_train))"
   ]
  },
  {
   "cell_type": "markdown",
   "metadata": {},
   "source": [
    "## Scale and Linear Discriminant Analysis (LDA) transform\n",
    "\n",
    "Standard scaling is required for many classification methods. It will imporve the performance of the classifer.\n",
    "\n",
    "On the other hand, LDA transforms the space into a fewer dimensions which can explain the majority of the information embeded in the data in respect to the sample data labels. "
   ]
  },
  {
   "cell_type": "code",
   "execution_count": 37,
   "metadata": {},
   "outputs": [],
   "source": [
    "from sklearn.preprocessing import StandardScaler\n",
    "scaler = StandardScaler()\n",
    "X_sc = scaler.fit_transform(X_train)\n",
    "y = y_train"
   ]
  },
  {
   "cell_type": "code",
   "execution_count": 43,
   "metadata": {},
   "outputs": [
    {
     "name": "stderr",
     "output_type": "stream",
     "text": [
      "D:\\Anaconda3\\lib\\site-packages\\sklearn\\discriminant_analysis.py:442: UserWarning: The priors do not sum to 1. Renormalizing\n",
      "  UserWarning)\n",
      "D:\\Anaconda3\\lib\\site-packages\\sklearn\\discriminant_analysis.py:388: UserWarning: Variables are collinear.\n",
      "  warnings.warn(\"Variables are collinear.\")\n"
     ]
    }
   ],
   "source": [
    "from sklearn.discriminant_analysis import LinearDiscriminantAnalysis as LDA\n",
    "lda = LDA(n_components = 3)\n",
    "\n",
    "X_lda = lda.fit_transform(X_sc,y)\n"
   ]
  },
  {
   "cell_type": "code",
   "execution_count": 48,
   "metadata": {},
   "outputs": [
    {
     "data": {
      "text/plain": [
       "Text(0.5,1,'LDA')"
      ]
     },
     "execution_count": 48,
     "metadata": {},
     "output_type": "execute_result"
    },
    {
     "data": {
      "image/png": "[encoded data removed]",
      "text/plain": [
       "<Figure size 432x432 with 9 Axes>"
      ]
     },
     "metadata": {},
     "output_type": "display_data"
    }
   ],
   "source": [
    "from pandas.plotting import scatter_matrix\n",
    "\n",
    "scatter_matrix(pd.DataFrame(X_lda), alpha=0.2, figsize=(6, 6), diagonal='kde')\n",
    "\n",
    "#plt.scatter(X_lda[:,1],X_lda[:,2], s=50)\n",
    "\n",
    "#plt.scatter(centroids_lda[:, 0], centroids_lda[:, 1], c='black', s=200, alpha=0.5)\n",
    "#plt.title('LDA')"
   ]
  },
  {
   "cell_type": "code",
   "execution_count": 49,
   "metadata": {},
   "outputs": [
    {
     "data": {
      "text/plain": [
       "array([ 0.83339572,  0.07014686,  0.02934738])"
      ]
     },
     "execution_count": 49,
     "metadata": {},
     "output_type": "execute_result"
    }
   ],
   "source": [
    "lda.explained_variance_ratio_"
   ]
  },
  {
   "cell_type": "markdown",
   "metadata": {},
   "source": [
    "# Ensembling a stacked model\n",
    "\n",
    "I picked the following three models based on their fair performances for the following stacked model. I will then fit the model to find the best hyper (hard) parameters and soft parameters.\n",
    "\n",
    "Stacked model:\n",
    "<br>\n",
    "- Level (1)\n",
    "    - Model #1 Random Forest\n",
    "    - Model #3 Linear SVM\n",
    "    - Model #5 AdaBoost    \n",
    "<br>\n",
    "- Level (2): Blending Model\n",
    "    - Model #2 Logistic Regression\n",
    "    "
   ]
  },
  {
   "cell_type": "code",
   "execution_count": 51,
   "metadata": {},
   "outputs": [
    {
     "name": "stderr",
     "output_type": "stream",
     "text": [
      "D:\\Anaconda3\\lib\\site-packages\\sklearn\\cross_validation.py:41: DeprecationWarning: This module was deprecated in version 0.18 in favor of the model_selection module into which all the refactored classes and functions are moved. Also note that the interface of the new CV iterators are different from that of this module. This module will be removed in 0.20.\n",
      "  \"This module will be removed in 0.20.\", DeprecationWarning)\n"
     ]
    }
   ],
   "source": [
    "from sklearn.cross_validation import KFold\n",
    "from sklearn.model_selection import GridSearchCV, cross_val_score\n",
    "\n",
    "from sklearn.metrics import make_scorer, accuracy_score, roc_auc_score\n",
    "from sklearn.metrics import confusion_matrix, classification_report"
   ]
  },
  {
   "cell_type": "markdown",
   "metadata": {},
   "source": [
    "## Setup a new training and test set for training the level (1) models"
   ]
  },
  {
   "cell_type": "code",
   "execution_count": 62,
   "metadata": {},
   "outputs": [
    {
     "name": "stdout",
     "output_type": "stream",
     "text": [
      "(40932, 3) 40932\n",
      "(61400, 3) 61400\n"
     ]
    }
   ],
   "source": [
    "from sklearn.model_selection import train_test_split\n",
    "\n",
    "X1_train, X1_test, y1_train, y1_test = train_test_split(X_lda, y_train, test_size=0.6, random_state=42)\n",
    "\n",
    "print(X1_train.shape, len(y1_train))\n",
    "print(X1_test.shape, len(y1_test))"
   ]
  },
  {
   "cell_type": "markdown",
   "metadata": {},
   "source": [
    "## Fine tunning the level (1) models using GridSearchCV (cv=10)"
   ]
  },
  {
   "cell_type": "markdown",
   "metadata": {},
   "source": [
    "### Random Forest"
   ]
  },
  {
   "cell_type": "code",
   "execution_count": 63,
   "metadata": {},
   "outputs": [
    {
     "data": {
      "text/plain": [
       "GridSearchCV(cv=10, error_score='raise',\n",
       "       estimator=RandomForestClassifier(bootstrap=True, class_weight=None, criterion='gini',\n",
       "            max_depth=None, max_features='auto', max_leaf_nodes=None,\n",
       "            min_impurity_decrease=0.0, min_impurity_split=None,\n",
       "            min_samples_leaf=1, min_samples_split=2,\n",
       "            min_weight_fraction_leaf=0.0, n_estimators=10, n_jobs=1,\n",
       "            oob_score=False, random_state=None, verbose=0,\n",
       "            warm_start=False),\n",
       "       fit_params=None, iid=True, n_jobs=4,\n",
       "       param_grid={'max_features': ['auto', 'log2'], 'max_depth': [5, 15], 'min_samples_leaf': [1], 'min_samples_split': [2], 'criterion': ['gini']},\n",
       "       pre_dispatch='2*n_jobs', refit=True, return_train_score='warn',\n",
       "       scoring=make_scorer(accuracy_score), verbose=0)"
      ]
     },
     "execution_count": 63,
     "metadata": {},
     "output_type": "execute_result"
    }
   ],
   "source": [
    "from sklearn.ensemble import RandomForestClassifier\n",
    "rfc = RandomForestClassifier(n_estimators=10)\n",
    "\n",
    "param_grid = { \n",
    "    'max_features': ['auto', 'log2'], \\\n",
    "    'max_depth' : [5,15], \\\n",
    "    'min_samples_leaf' : [1] , 'min_samples_split' : [2], \\\n",
    "    'criterion' :['gini']}\n",
    "\n",
    "grid_search = GridSearchCV(rfc, param_grid=param_grid, cv = 10, \\\n",
    "                           scoring = make_scorer(accuracy_score), n_jobs=4, refit = True)\n",
    "\n",
    "grid_search.fit(X1_train, y1_train)"
   ]
  },
  {
   "cell_type": "code",
   "execution_count": 64,
   "metadata": {},
   "outputs": [
    {
     "data": {
      "text/plain": [
       "{'criterion': 'gini',\n",
       " 'max_depth': 15,\n",
       " 'max_features': 'auto',\n",
       " 'min_samples_leaf': 1,\n",
       " 'min_samples_split': 2}"
      ]
     },
     "execution_count": 64,
     "metadata": {},
     "output_type": "execute_result"
    }
   ],
   "source": [
    "grid_search.best_params_"
   ]
  },
  {
   "cell_type": "code",
   "execution_count": 67,
   "metadata": {},
   "outputs": [
    {
     "name": "stdout",
     "output_type": "stream",
     "text": [
      "Random Forest Classifier:\n",
      "0.7480428218841553\n",
      "Accuracy:     0.71\n",
      "             precision    recall  f1-score   support\n",
      "\n",
      "       A.01       0.49      0.33      0.40       976\n",
      "       B.01       0.34      0.11      0.16       265\n",
      "       C.01       0.35      0.14      0.20       672\n",
      "       C.02       0.71      0.73      0.72      6445\n",
      "       C.03       0.38      0.19      0.26       222\n",
      "       D.01       0.32      0.13      0.19      1166\n",
      "       D.02       0.37      0.39      0.38      5253\n",
      "       E.01       0.25      0.06      0.10       642\n",
      "       F.01       0.47      0.48      0.47      8201\n",
      "       F.02       0.66      0.69      0.67      2576\n",
      "       F.03       0.53      0.62      0.57      5565\n",
      "       F.04       0.69      0.68      0.68       939\n",
      "       F.05       0.94      0.99      0.96     25986\n",
      "       F.06       0.52      0.38      0.44      2427\n",
      "       F.07       0.00      0.00      0.00         4\n",
      "       Z.01       0.92      0.20      0.32        61\n",
      "\n",
      "avg / total       0.70      0.71      0.70     61400\n",
      "\n"
     ]
    },
    {
     "name": "stderr",
     "output_type": "stream",
     "text": [
      "D:\\Anaconda3\\lib\\site-packages\\sklearn\\metrics\\classification.py:1135: UndefinedMetricWarning: Precision and F-score are ill-defined and being set to 0.0 in labels with no predicted samples.\n",
      "  'precision', 'predicted', average, warn_for)\n"
     ]
    }
   ],
   "source": [
    "rfc = grid_search.best_estimator_\n",
    "\n",
    "print(\"Random Forest Classifier:\")\n",
    "start_time = time.time()\n",
    "rfc.fit(X1_train, y1_train)\n",
    "elapsed_time = time.time() - start_time\n",
    "print(elapsed_time)\n",
    "print(\"Accuracy: %8.2f\" % (rfc.score(X1_test, y1_test)))\n",
    "print(classification_report(y1_test, rfc.predict(X1_test)))"
   ]
  },
  {
   "cell_type": "markdown",
   "metadata": {},
   "source": [
    "### Linear SVM"
   ]
  },
  {
   "cell_type": "code",
   "execution_count": 68,
   "metadata": {},
   "outputs": [
    {
     "data": {
      "text/plain": [
       "GridSearchCV(cv=10, error_score='raise',\n",
       "       estimator=LinearSVC(C=1.0, class_weight=None, dual=True, fit_intercept=True,\n",
       "     intercept_scaling=1, loss='squared_hinge', max_iter=1000,\n",
       "     multi_class='ovr', penalty='l2', random_state=None, tol=0.0001,\n",
       "     verbose=0),\n",
       "       fit_params=None, iid=True, n_jobs=-1,\n",
       "       param_grid={'C': [0.01, 0.1, 1, 10]}, pre_dispatch='2*n_jobs',\n",
       "       refit=True, return_train_score='warn',\n",
       "       scoring=make_scorer(accuracy_score), verbose=0)"
      ]
     },
     "execution_count": 68,
     "metadata": {},
     "output_type": "execute_result"
    }
   ],
   "source": [
    "from sklearn.svm import LinearSVC\n",
    "lsvm = LinearSVC(C = 1.0)\n",
    "\n",
    "param_grid = {'C': [0.01, 0.1, 1, 10]}\n",
    "\n",
    "grid_search = GridSearchCV(lsvm, param_grid=param_grid, cv = 10, \\\n",
    "                           scoring = make_scorer(accuracy_score), n_jobs=-1, refit = True)\n",
    "\n",
    "grid_search.fit(X1_train, y1_train)"
   ]
  },
  {
   "cell_type": "code",
   "execution_count": 69,
   "metadata": {},
   "outputs": [
    {
     "data": {
      "text/plain": [
       "{'C': 1}"
      ]
     },
     "execution_count": 69,
     "metadata": {},
     "output_type": "execute_result"
    }
   ],
   "source": [
    "grid_search.best_params_"
   ]
  },
  {
   "cell_type": "code",
   "execution_count": 71,
   "metadata": {},
   "outputs": [
    {
     "name": "stdout",
     "output_type": "stream",
     "text": [
      "Linear SVM classifier:\n",
      "47.53923177719116\n",
      "Accuracy:     0.59\n",
      "             precision    recall  f1-score   support\n",
      "\n",
      "       A.01       0.00      0.00      0.00       976\n",
      "       B.01       0.00      0.00      0.00       265\n",
      "       C.01       0.00      0.00      0.00       672\n",
      "       C.02       0.29      0.76      0.42      6445\n",
      "       C.03       0.00      0.00      0.00       222\n",
      "       D.01       0.00      0.00      0.00      1166\n",
      "       D.02       0.00      0.00      0.00      5253\n",
      "       E.01       0.00      0.00      0.00       642\n",
      "       F.01       0.28      0.46      0.35      8201\n",
      "       F.02       0.61      0.70      0.65      2576\n",
      "       F.03       0.00      0.00      0.00      5565\n",
      "       F.04       0.00      0.00      0.00       939\n",
      "       F.05       0.92      1.00      0.96     25986\n",
      "       F.06       0.00      0.00      0.00      2427\n",
      "       F.07       0.00      0.00      0.00         4\n",
      "       Z.01       0.00      0.00      0.00        61\n",
      "\n",
      "avg / total       0.48      0.59      0.52     61400\n",
      "\n"
     ]
    },
    {
     "name": "stderr",
     "output_type": "stream",
     "text": [
      "D:\\Anaconda3\\lib\\site-packages\\sklearn\\metrics\\classification.py:1135: UndefinedMetricWarning: Precision and F-score are ill-defined and being set to 0.0 in labels with no predicted samples.\n",
      "  'precision', 'predicted', average, warn_for)\n"
     ]
    }
   ],
   "source": [
    "lsvm = grid_search.best_estimator_\n",
    "\n",
    "print(\"Linear SVM classifier:\")\n",
    "start_time = time.time()\n",
    "lsvm.fit(X1_train, y1_train)\n",
    "elapsed_time = time.time() - start_time\n",
    "print(elapsed_time)\n",
    "print(\"Accuracy: %8.2f\" % (lsvm.score(X1_test, y1_test)))\n",
    "print(classification_report(y1_test, lsvm.predict(X1_test)))"
   ]
  },
  {
   "cell_type": "markdown",
   "metadata": {},
   "source": [
    "### AdaBoost"
   ]
  },
  {
   "cell_type": "code",
   "execution_count": 73,
   "metadata": {},
   "outputs": [
    {
     "data": {
      "text/plain": [
       "GridSearchCV(cv=10, error_score='raise',\n",
       "       estimator=AdaBoostClassifier(algorithm='SAMME.R',\n",
       "          base_estimator=DecisionTreeClassifier(class_weight=None, criterion='gini', max_depth=5,\n",
       "            max_features=None, max_leaf_nodes=None,\n",
       "            min_impurity_decrease=0.0, min_impurity_split=None,\n",
       "            min_samples_leaf=1, min_samples_split=2,\n",
       "            min_weight_fraction_leaf=0.0, presort=False, random_state=None,\n",
       "            splitter='best'),\n",
       "          learning_rate=0.5, n_estimators=200, random_state=42),\n",
       "       fit_params=None, iid=True, n_jobs=4,\n",
       "       param_grid={'base_estimator__criterion': ['gini'], 'base_estimator__splitter': ['best'], 'base_estimator__max_depth': [5], 'learning_rate': [0.01], 'n_estimators': [100, 200]},\n",
       "       pre_dispatch='2*n_jobs', refit=True, return_train_score='warn',\n",
       "       scoring=make_scorer(accuracy_score), verbose=0)"
      ]
     },
     "execution_count": 73,
     "metadata": {},
     "output_type": "execute_result"
    }
   ],
   "source": [
    "# AdaBoost\n",
    "\n",
    "from sklearn.ensemble import AdaBoostClassifier\n",
    "from sklearn.tree import DecisionTreeClassifier\n",
    "\n",
    "ada_boost = AdaBoostClassifier(\n",
    "    DecisionTreeClassifier(max_depth=5), n_estimators=200,\n",
    "    learning_rate=0.5, random_state=42)\n",
    "\n",
    "param_grid = {'base_estimator__criterion': [\"gini\"], \\\n",
    "              'base_estimator__splitter' :   [\"best\"], \\\n",
    "              'base_estimator__max_depth' :   [5], \\\n",
    "              'learning_rate': [0.01], 'n_estimators': [100,200]}\n",
    "\n",
    "grid_search = GridSearchCV(ada_boost, param_grid=param_grid, cv = 10, \\\n",
    "                           scoring = make_scorer(accuracy_score), n_jobs=4, refit = True)\n",
    "\n",
    "grid_search.fit(X1_train, y1_train)"
   ]
  },
  {
   "cell_type": "code",
   "execution_count": 74,
   "metadata": {},
   "outputs": [
    {
     "data": {
      "text/plain": [
       "{'base_estimator__criterion': 'gini',\n",
       " 'base_estimator__max_depth': 5,\n",
       " 'base_estimator__splitter': 'best',\n",
       " 'learning_rate': 0.01,\n",
       " 'n_estimators': 100}"
      ]
     },
     "execution_count": 74,
     "metadata": {},
     "output_type": "execute_result"
    }
   ],
   "source": [
    "grid_search.best_params_"
   ]
  },
  {
   "cell_type": "code",
   "execution_count": 77,
   "metadata": {},
   "outputs": [
    {
     "name": "stdout",
     "output_type": "stream",
     "text": [
      "AdaBoost classifier:\n",
      "17.76134705543518\n",
      "Accuracy:     0.65\n",
      "             precision    recall  f1-score   support\n",
      "\n",
      "       A.01       0.52      0.01      0.02       976\n",
      "       B.01       0.00      0.00      0.00       265\n",
      "       C.01       1.00      0.00      0.01       672\n",
      "       C.02       0.53      0.67      0.59      6445\n",
      "       C.03       0.00      0.00      0.00       222\n",
      "       D.01       0.00      0.00      0.00      1166\n",
      "       D.02       0.31      0.18      0.23      5253\n",
      "       E.01       0.00      0.00      0.00       642\n",
      "       F.01       0.34      0.56      0.42      8201\n",
      "       F.02       0.65      0.70      0.67      2576\n",
      "       F.03       0.42      0.47      0.44      5565\n",
      "       F.04       1.00      0.31      0.48       939\n",
      "       F.05       0.94      0.98      0.96     25986\n",
      "       F.06       0.80      0.00      0.01      2427\n",
      "       F.07       0.00      0.00      0.00         4\n",
      "       Z.01       0.00      0.00      0.00        61\n",
      "\n",
      "avg / total       0.66      0.65      0.62     61400\n",
      "\n"
     ]
    },
    {
     "name": "stderr",
     "output_type": "stream",
     "text": [
      "D:\\Anaconda3\\lib\\site-packages\\sklearn\\metrics\\classification.py:1135: UndefinedMetricWarning: Precision and F-score are ill-defined and being set to 0.0 in labels with no predicted samples.\n",
      "  'precision', 'predicted', average, warn_for)\n"
     ]
    }
   ],
   "source": [
    "ada_boost = grid_search.best_estimator_\n",
    "\n",
    "print(\"AdaBoost classifier:\")\n",
    "start_time = time.time()\n",
    "ada_boost.fit(X1_train, y1_train)\n",
    "elapsed_time = time.time() - start_time\n",
    "print(elapsed_time)\n",
    "print(\"Accuracy: %8.2f\" % (ada_boost.score(X1_test, y1_test)))\n",
    "print(classification_report(y1_test, ada_boost.predict(X1_test)))"
   ]
  },
  {
   "cell_type": "markdown",
   "metadata": {},
   "source": [
    "## Blending Model"
   ]
  },
  {
   "cell_type": "code",
   "execution_count": 78,
   "metadata": {},
   "outputs": [],
   "source": [
    "x2_adaboost = ada_boost.predict(X1_test)\n",
    "x2_rfc = rfc.predict(X1_test)\n",
    "x2_lsvm = lsvm.predict(X1_test)"
   ]
  },
  {
   "cell_type": "code",
   "execution_count": 79,
   "metadata": {},
   "outputs": [],
   "source": [
    "x2_adaboost = np.array(x2_adaboost).ravel().reshape(-1,1)\n",
    "x2_rfc = np.array(x2_rfc).ravel().reshape(-1,1)\n",
    "x2_lsvm = np.array(x2_lsvm).ravel().reshape(-1,1)"
   ]
  },
  {
   "cell_type": "code",
   "execution_count": 80,
   "metadata": {},
   "outputs": [
    {
     "data": {
      "text/plain": [
       "((61400, 1), (61400, 1), (61400, 1))"
      ]
     },
     "execution_count": 80,
     "metadata": {},
     "output_type": "execute_result"
    }
   ],
   "source": [
    "x2_adaboost.shape,x2_rfc.shape,x2_lsvm.shape"
   ]
  },
  {
   "cell_type": "code",
   "execution_count": 81,
   "metadata": {},
   "outputs": [
    {
     "data": {
      "text/plain": [
       "(61400, 3)"
      ]
     },
     "execution_count": 81,
     "metadata": {},
     "output_type": "execute_result"
    }
   ],
   "source": [
    "x2 = np.hstack((x2_adaboost,x2_rfc,x2_lsvm))\n",
    "x2.shape"
   ]
  },
  {
   "cell_type": "code",
   "execution_count": 85,
   "metadata": {},
   "outputs": [
    {
     "data": {
      "text/plain": [
       "((61400, 3), 61400)"
      ]
     },
     "execution_count": 85,
     "metadata": {},
     "output_type": "execute_result"
    }
   ],
   "source": [
    "x2.shape, len(y1_test)"
   ]
  },
  {
   "cell_type": "markdown",
   "metadata": {},
   "source": [
    "### Fit the blending model (Model level 2)"
   ]
  },
  {
   "cell_type": "code",
   "execution_count": 99,
   "metadata": {},
   "outputs": [
    {
     "data": {
      "text/plain": [
       "(array([['F.05', 'F.05', 'F.05'],\n",
       "        ['F.05', 'F.05', 'F.05'],\n",
       "        ['F.01', 'F.06', 'F.01'],\n",
       "        ..., \n",
       "        ['D.02', 'D.02', 'C.02'],\n",
       "        ['F.01', 'F.06', 'F.01'],\n",
       "        ['F.05', 'F.05', 'F.05']], \n",
       "       dtype='<U4'), (61400, 3))"
      ]
     },
     "execution_count": 99,
     "metadata": {},
     "output_type": "execute_result"
    }
   ],
   "source": [
    "x2, x2.shape"
   ]
  },
  {
   "cell_type": "code",
   "execution_count": 97,
   "metadata": {},
   "outputs": [],
   "source": [
    "from sklearn import preprocessing\n",
    "le = preprocessing.LabelEncoder()\n",
    "x2_lb = le.fit_transform(x2.ravel())\n"
   ]
  },
  {
   "cell_type": "code",
   "execution_count": 98,
   "metadata": {},
   "outputs": [
    {
     "data": {
      "text/plain": [
       "array(['A.01', 'B.01', 'C.01', 'C.02', 'C.03', 'D.01', 'D.02', 'E.01',\n",
       "       'F.01', 'F.02', 'F.03', 'F.04', 'F.05', 'F.06', 'Z.01'], \n",
       "      dtype='<U4')"
      ]
     },
     "execution_count": 98,
     "metadata": {},
     "output_type": "execute_result"
    }
   ],
   "source": [
    "le.classes_"
   ]
  },
  {
   "cell_type": "code",
   "execution_count": 105,
   "metadata": {},
   "outputs": [],
   "source": [
    "x2_lb = x2_lb.reshape(x2.shape)"
   ]
  },
  {
   "cell_type": "code",
   "execution_count": 106,
   "metadata": {},
   "outputs": [
    {
     "data": {
      "text/plain": [
       "array([[12, 12, 12],\n",
       "       [12, 12, 12],\n",
       "       [ 8, 13,  8],\n",
       "       ..., \n",
       "       [ 6,  6,  3],\n",
       "       [ 8, 13,  8],\n",
       "       [12, 12, 12]], dtype=int32)"
      ]
     },
     "execution_count": 106,
     "metadata": {},
     "output_type": "execute_result"
    }
   ],
   "source": [
    "x2_lb"
   ]
  },
  {
   "cell_type": "code",
   "execution_count": 107,
   "metadata": {},
   "outputs": [
    {
     "data": {
      "text/plain": [
       "LogisticRegression(C=1.0, class_weight=None, dual=False, fit_intercept=True,\n",
       "          intercept_scaling=1, max_iter=100, multi_class='ovr', n_jobs=1,\n",
       "          penalty='l2', random_state=42, solver='liblinear', tol=0.0001,\n",
       "          verbose=0, warm_start=False)"
      ]
     },
     "execution_count": 107,
     "metadata": {},
     "output_type": "execute_result"
    }
   ],
   "source": [
    "from sklearn.linear_model import LogisticRegression\n",
    "logreg = LogisticRegression(random_state=42)\n",
    "\n",
    "logreg.fit(x2_lb, y1_test)\n"
   ]
  },
  {
   "cell_type": "markdown",
   "metadata": {},
   "source": [
    "# Test the stacked model"
   ]
  },
  {
   "cell_type": "markdown",
   "metadata": {},
   "source": [
    "### Transform X_test"
   ]
  },
  {
   "cell_type": "code",
   "execution_count": 131,
   "metadata": {},
   "outputs": [],
   "source": [
    "docs_raw_test = test_set['file_name'].tolist()\n",
    "dtm_tf_test = term_freq_vectorizer.transform(docs_raw_test)\n",
    "\n",
    "X_lda_trans_test = lda_tf.transform(dtm_tf_test)\n",
    "\n",
    "\n",
    "file_size_list = test_set['size'].tolist()\n",
    "file_size_np = np.array(file_size_list).reshape(-1,1)\n",
    "file_size_np.shape\n",
    "\n",
    "X_test = np.hstack((X_lda_trans_test,file_size_np)) \n",
    "y_test = test_set['doc_label'].tolist()"
   ]
  },
  {
   "cell_type": "code",
   "execution_count": 132,
   "metadata": {},
   "outputs": [],
   "source": [
    "X_test_sc= scaler.transform(X_test)\n",
    "X_test = lda.transform(X_test_sc)"
   ]
  },
  {
   "cell_type": "code",
   "execution_count": 133,
   "metadata": {},
   "outputs": [],
   "source": [
    "x2_adaboost = ada_boost.predict(X_test)\n",
    "x2_rfc = rfc.predict(X_test)\n",
    "x2_lsvm = lsvm.predict(X_test)"
   ]
  },
  {
   "cell_type": "code",
   "execution_count": 134,
   "metadata": {},
   "outputs": [],
   "source": [
    "x2_adaboost = np.array(x2_adaboost).ravel().reshape(-1,1)\n",
    "x2_rfc = np.array(x2_rfc).ravel().reshape(-1,1)\n",
    "x2_lsvm = np.array(x2_lsvm).ravel().reshape(-1,1)\n",
    "\n",
    "x2 = np.hstack((x2_adaboost,x2_rfc,x2_lsvm))"
   ]
  },
  {
   "cell_type": "code",
   "execution_count": 135,
   "metadata": {},
   "outputs": [
    {
     "data": {
      "text/plain": [
       "array([[ 8,  8,  3],\n",
       "       [ 8,  8,  8],\n",
       "       [ 8,  8,  3],\n",
       "       ..., \n",
       "       [ 9,  9,  9],\n",
       "       [11, 11,  3],\n",
       "       [10,  6,  8]], dtype=int32)"
      ]
     },
     "execution_count": 135,
     "metadata": {},
     "output_type": "execute_result"
    }
   ],
   "source": [
    "x2_lb = le.fit_transform(x2.ravel()).reshape(x2.shape)\n",
    "x2_lb"
   ]
  },
  {
   "cell_type": "markdown",
   "metadata": {},
   "source": [
    "### Predict X_test"
   ]
  },
  {
   "cell_type": "code",
   "execution_count": 136,
   "metadata": {},
   "outputs": [],
   "source": [
    "y_pred = logreg.predict(x2_lb)"
   ]
  },
  {
   "cell_type": "code",
   "execution_count": 137,
   "metadata": {},
   "outputs": [
    {
     "data": {
      "text/plain": [
       "(27560,)"
      ]
     },
     "execution_count": 137,
     "metadata": {},
     "output_type": "execute_result"
    }
   ],
   "source": [
    "y_pred.shape"
   ]
  },
  {
   "cell_type": "code",
   "execution_count": 138,
   "metadata": {},
   "outputs": [
    {
     "data": {
      "text/plain": [
       "27560"
      ]
     },
     "execution_count": 138,
     "metadata": {},
     "output_type": "execute_result"
    }
   ],
   "source": [
    "len(y_test)"
   ]
  },
  {
   "cell_type": "code",
   "execution_count": 139,
   "metadata": {},
   "outputs": [
    {
     "name": "stdout",
     "output_type": "stream",
     "text": [
      "             precision    recall  f1-score   support\n",
      "\n",
      "       A.01       0.00      0.00      0.00       963\n",
      "       B.01       0.00      0.00      0.00       284\n",
      "       C.01       0.00      0.00      0.00       676\n",
      "       C.02       0.54      0.79      0.64      6536\n",
      "       C.03       0.00      0.00      0.00       227\n",
      "       D.01       0.00      0.00      0.00      1214\n",
      "       D.02       0.00      0.00      0.00      5295\n",
      "       E.01       0.00      0.00      0.00       640\n",
      "       F.01       0.00      0.00      0.00         0\n",
      "       F.02       0.22      0.00      0.00      2675\n",
      "       F.03       0.39      0.44      0.41      5579\n",
      "       F.04       0.00      0.00      0.00       994\n",
      "       F.05       0.00      0.00      0.00         0\n",
      "       F.06       0.38      0.00      0.01      2410\n",
      "       F.07       0.00      0.00      0.00         3\n",
      "       Z.01       0.00      0.00      0.00        64\n",
      "\n",
      "avg / total       0.26      0.28      0.24     27560\n",
      "\n"
     ]
    },
    {
     "name": "stderr",
     "output_type": "stream",
     "text": [
      "D:\\Anaconda3\\lib\\site-packages\\sklearn\\metrics\\classification.py:1135: UndefinedMetricWarning: Precision and F-score are ill-defined and being set to 0.0 in labels with no predicted samples.\n",
      "  'precision', 'predicted', average, warn_for)\n",
      "D:\\Anaconda3\\lib\\site-packages\\sklearn\\metrics\\classification.py:1137: UndefinedMetricWarning: Recall and F-score are ill-defined and being set to 0.0 in labels with no true samples.\n",
      "  'recall', 'true', average, warn_for)\n"
     ]
    }
   ],
   "source": [
    "#print(\"Accuracy: %8.2f\" % (rfc.score(X1_train, y1_train)))\n",
    "print(classification_report(y_test, y_pred))"
   ]
  },
  {
   "cell_type": "markdown",
   "metadata": {},
   "source": [
    "# Conclusion\n",
    "\n",
    "It seems the single classification models perform better that the stacked model.\n",
    "\n",
    "The best single model was found the random forest. (I am a bit skeptical that the model is overfitted to the train dataset!!!)"
   ]
  },
  {
   "cell_type": "markdown",
   "metadata": {},
   "source": [
    "## Future Work\n",
    "\n",
    "I am going to extract the text contents of the files to see if it induces any improvement."
   ]
  }
 ],
 "metadata": {
  "kernelspec": {
   "display_name": "Python 3",
   "language": "python",
   "name": "python3"
  },
  "language_info": {
   "codemirror_mode": {
    "name": "ipython",
    "version": 3
   },
   "file_extension": ".py",
   "mimetype": "text/x-python",
   "name": "python",
   "nbconvert_exporter": "python",
   "pygments_lexer": "ipython3",
   "version": "3.6.5"
  }
 },
 "nbformat": 4,
 "nbformat_minor": 2
}
